{
 "cells": [
  {
   "cell_type": "markdown",
   "metadata": {},
   "source": [
    "# Chunk Size Guide\n",
    "\n",
    "## Overview"
   ]
  },
  {
   "cell_type": "markdown",
   "metadata": {},
   "source": [
    "When Featuretools calculates a feature matrix it is passed or creates a dataframe called `cutoff_time` to determine what data can be used to calculate each row of features.  By default `calculate_feature_matrix` will divide the `cutoff_time` dataframe into smaller `chunks` to calculate on, trying to group rows with the same time in the same chunk.  If there are more rows with the same cutoff time than the chunk size allows, the rows will be be placed in multiple chunks.\n",
    "The size of each chunk is determined by the `chunk_size` parameter  in `dfs` or `calculate_feature_matirx`.  Valid inputs are:\n",
    "\n",
    "* None (the default option. Each chunk will be 10% of the entire cutoff dataframe, or 10 rows per chunk, whichver is bigger)\n",
    "* A positive integer (each chunk has this many rows)\n",
    "* A float between 0 and 1 (each chunk is a percentage of the entire cutoff dataframe)\n",
    "* The string \"cutoff time\" \n",
    "\n",
    "\n",
    "Unlike the other options, \"cutoff time\" does not genereate a specific number of rows per chunk.  Instead of trying to create uniformly sized chunks, featuretools will calculate every row with the same time together. "
   ]
  },
  {
   "cell_type": "markdown",
   "metadata": {},
   "source": [
    "Choosing the right chunk size can speed up the time spent calculating a feature matrix.  Small chunks can slow down computation in a few ways. Having to split up rows that share the same cutoff time means less shared computation.  If the time necessary to compute a chunk is too short, the cost in overhead for creating that chunk can impact the overall running time of the calculation.  Overly large chunks can slow down computation if the size of the data necessary for the calculations is too large.  What constitutes a good chunk size varies by dataset, cutoff time, and machine hardware."
   ]
  },
  {
   "cell_type": "markdown",
   "metadata": {},
   "source": [
    "### Small number of cutoff times\n",
    "\n",
    "Here we look at the runtimes of several different chunk sizes for a feature matrix calculation with a small number of cutoff times (500) and few cutoff times sharing the same time (1.03 rows per timestamp, on average)."
   ]
  },
  {
   "cell_type": "code",
   "execution_count": 1,
   "metadata": {},
   "outputs": [
    {
     "data": {
      "text/html": [
       "\n",
       "    <div class=\"bk-root\">\n",
       "        <a href=\"https://bokeh.pydata.org\" target=\"_blank\" class=\"bk-logo bk-logo-small bk-logo-notebook\"></a>\n",
       "        <span id=\"98ba2886-ce72-459c-b96e-d2101a344fac\">Loading BokehJS ...</span>\n",
       "    </div>"
      ]
     },
     "metadata": {},
     "output_type": "display_data"
    },
    {
     "data": {
      "application/javascript": [
       "\n",
       "(function(root) {\n",
       "  function now() {\n",
       "    return new Date();\n",
       "  }\n",
       "\n",
       "  var force = true;\n",
       "\n",
       "  if (typeof (root._bokeh_onload_callbacks) === \"undefined\" || force === true) {\n",
       "    root._bokeh_onload_callbacks = [];\n",
       "    root._bokeh_is_loading = undefined;\n",
       "  }\n",
       "\n",
       "  var JS_MIME_TYPE = 'application/javascript';\n",
       "  var HTML_MIME_TYPE = 'text/html';\n",
       "  var EXEC_MIME_TYPE = 'application/vnd.bokehjs_exec.v0+json';\n",
       "  var CLASS_NAME = 'output_bokeh rendered_html';\n",
       "\n",
       "  /**\n",
       "   * Render data to the DOM node\n",
       "   */\n",
       "  function render(props, node) {\n",
       "    var script = document.createElement(\"script\");\n",
       "    node.appendChild(script);\n",
       "  }\n",
       "\n",
       "  /**\n",
       "   * Handle when an output is cleared or removed\n",
       "   */\n",
       "  function handleClearOutput(event, handle) {\n",
       "    var cell = handle.cell;\n",
       "\n",
       "    var id = cell.output_area._bokeh_element_id;\n",
       "    var server_id = cell.output_area._bokeh_server_id;\n",
       "    // Clean up Bokeh references\n",
       "    if (id !== undefined) {\n",
       "      Bokeh.index[id].model.document.clear();\n",
       "      delete Bokeh.index[id];\n",
       "    }\n",
       "\n",
       "    if (server_id !== undefined) {\n",
       "      // Clean up Bokeh references\n",
       "      var cmd = \"from bokeh.io.state import curstate; print(curstate().uuid_to_server['\" + server_id + \"'].get_sessions()[0].document.roots[0]._id)\";\n",
       "      cell.notebook.kernel.execute(cmd, {\n",
       "        iopub: {\n",
       "          output: function(msg) {\n",
       "            var element_id = msg.content.text.trim();\n",
       "            Bokeh.index[element_id].model.document.clear();\n",
       "            delete Bokeh.index[element_id];\n",
       "          }\n",
       "        }\n",
       "      });\n",
       "      // Destroy server and session\n",
       "      var cmd = \"import bokeh.io.notebook as ion; ion.destroy_server('\" + server_id + \"')\";\n",
       "      cell.notebook.kernel.execute(cmd);\n",
       "    }\n",
       "  }\n",
       "\n",
       "  /**\n",
       "   * Handle when a new output is added\n",
       "   */\n",
       "  function handleAddOutput(event, handle) {\n",
       "    var output_area = handle.output_area;\n",
       "    var output = handle.output;\n",
       "\n",
       "    // limit handleAddOutput to display_data with EXEC_MIME_TYPE content only\n",
       "    if ((output.output_type != \"display_data\") || (!output.data.hasOwnProperty(EXEC_MIME_TYPE))) {\n",
       "      return\n",
       "    }\n",
       "\n",
       "    var toinsert = output_area.element.find(\".\" + CLASS_NAME.split(' ')[0]);\n",
       "\n",
       "    if (output.metadata[EXEC_MIME_TYPE][\"id\"] !== undefined) {\n",
       "      toinsert[0].firstChild.textContent = output.data[JS_MIME_TYPE];\n",
       "      // store reference to embed id on output_area\n",
       "      output_area._bokeh_element_id = output.metadata[EXEC_MIME_TYPE][\"id\"];\n",
       "    }\n",
       "    if (output.metadata[EXEC_MIME_TYPE][\"server_id\"] !== undefined) {\n",
       "      var bk_div = document.createElement(\"div\");\n",
       "      bk_div.innerHTML = output.data[HTML_MIME_TYPE];\n",
       "      var script_attrs = bk_div.children[0].attributes;\n",
       "      for (var i = 0; i < script_attrs.length; i++) {\n",
       "        toinsert[0].firstChild.setAttribute(script_attrs[i].name, script_attrs[i].value);\n",
       "      }\n",
       "      // store reference to server id on output_area\n",
       "      output_area._bokeh_server_id = output.metadata[EXEC_MIME_TYPE][\"server_id\"];\n",
       "    }\n",
       "  }\n",
       "\n",
       "  function register_renderer(events, OutputArea) {\n",
       "\n",
       "    function append_mime(data, metadata, element) {\n",
       "      // create a DOM node to render to\n",
       "      var toinsert = this.create_output_subarea(\n",
       "        metadata,\n",
       "        CLASS_NAME,\n",
       "        EXEC_MIME_TYPE\n",
       "      );\n",
       "      this.keyboard_manager.register_events(toinsert);\n",
       "      // Render to node\n",
       "      var props = {data: data, metadata: metadata[EXEC_MIME_TYPE]};\n",
       "      render(props, toinsert[0]);\n",
       "      element.append(toinsert);\n",
       "      return toinsert\n",
       "    }\n",
       "\n",
       "    /* Handle when an output is cleared or removed */\n",
       "    events.on('clear_output.CodeCell', handleClearOutput);\n",
       "    events.on('delete.Cell', handleClearOutput);\n",
       "\n",
       "    /* Handle when a new output is added */\n",
       "    events.on('output_added.OutputArea', handleAddOutput);\n",
       "\n",
       "    /**\n",
       "     * Register the mime type and append_mime function with output_area\n",
       "     */\n",
       "    OutputArea.prototype.register_mime_type(EXEC_MIME_TYPE, append_mime, {\n",
       "      /* Is output safe? */\n",
       "      safe: true,\n",
       "      /* Index of renderer in `output_area.display_order` */\n",
       "      index: 0\n",
       "    });\n",
       "  }\n",
       "\n",
       "  // register the mime type if in Jupyter Notebook environment and previously unregistered\n",
       "  if (root.Jupyter !== undefined) {\n",
       "    var events = require('base/js/events');\n",
       "    var OutputArea = require('notebook/js/outputarea').OutputArea;\n",
       "\n",
       "    if (OutputArea.prototype.mime_types().indexOf(EXEC_MIME_TYPE) == -1) {\n",
       "      register_renderer(events, OutputArea);\n",
       "    }\n",
       "  }\n",
       "\n",
       "  \n",
       "  if (typeof (root._bokeh_timeout) === \"undefined\" || force === true) {\n",
       "    root._bokeh_timeout = Date.now() + 5000;\n",
       "    root._bokeh_failed_load = false;\n",
       "  }\n",
       "\n",
       "  var NB_LOAD_WARNING = {'data': {'text/html':\n",
       "     \"<div style='background-color: #fdd'>\\n\"+\n",
       "     \"<p>\\n\"+\n",
       "     \"BokehJS does not appear to have successfully loaded. If loading BokehJS from CDN, this \\n\"+\n",
       "     \"may be due to a slow or bad network connection. Possible fixes:\\n\"+\n",
       "     \"</p>\\n\"+\n",
       "     \"<ul>\\n\"+\n",
       "     \"<li>re-rerun `output_notebook()` to attempt to load from CDN again, or</li>\\n\"+\n",
       "     \"<li>use INLINE resources instead, as so:</li>\\n\"+\n",
       "     \"</ul>\\n\"+\n",
       "     \"<code>\\n\"+\n",
       "     \"from bokeh.resources import INLINE\\n\"+\n",
       "     \"output_notebook(resources=INLINE)\\n\"+\n",
       "     \"</code>\\n\"+\n",
       "     \"</div>\"}};\n",
       "\n",
       "  function display_loaded() {\n",
       "    var el = document.getElementById(\"98ba2886-ce72-459c-b96e-d2101a344fac\");\n",
       "    if (el != null) {\n",
       "      el.textContent = \"BokehJS is loading...\";\n",
       "    }\n",
       "    if (root.Bokeh !== undefined) {\n",
       "      if (el != null) {\n",
       "        el.textContent = \"BokehJS \" + root.Bokeh.version + \" successfully loaded.\";\n",
       "      }\n",
       "    } else if (Date.now() < root._bokeh_timeout) {\n",
       "      setTimeout(display_loaded, 100)\n",
       "    }\n",
       "  }\n",
       "\n",
       "\n",
       "  function run_callbacks() {\n",
       "    try {\n",
       "      root._bokeh_onload_callbacks.forEach(function(callback) { callback() });\n",
       "    }\n",
       "    finally {\n",
       "      delete root._bokeh_onload_callbacks\n",
       "    }\n",
       "    console.info(\"Bokeh: all callbacks have finished\");\n",
       "  }\n",
       "\n",
       "  function load_libs(js_urls, callback) {\n",
       "    root._bokeh_onload_callbacks.push(callback);\n",
       "    if (root._bokeh_is_loading > 0) {\n",
       "      console.log(\"Bokeh: BokehJS is being loaded, scheduling callback at\", now());\n",
       "      return null;\n",
       "    }\n",
       "    if (js_urls == null || js_urls.length === 0) {\n",
       "      run_callbacks();\n",
       "      return null;\n",
       "    }\n",
       "    console.log(\"Bokeh: BokehJS not loaded, scheduling load and callback at\", now());\n",
       "    root._bokeh_is_loading = js_urls.length;\n",
       "    for (var i = 0; i < js_urls.length; i++) {\n",
       "      var url = js_urls[i];\n",
       "      var s = document.createElement('script');\n",
       "      s.src = url;\n",
       "      s.async = false;\n",
       "      s.onreadystatechange = s.onload = function() {\n",
       "        root._bokeh_is_loading--;\n",
       "        if (root._bokeh_is_loading === 0) {\n",
       "          console.log(\"Bokeh: all BokehJS libraries loaded\");\n",
       "          run_callbacks()\n",
       "        }\n",
       "      };\n",
       "      s.onerror = function() {\n",
       "        console.warn(\"failed to load library \" + url);\n",
       "      };\n",
       "      console.log(\"Bokeh: injecting script tag for BokehJS library: \", url);\n",
       "      document.getElementsByTagName(\"head\")[0].appendChild(s);\n",
       "    }\n",
       "  };var element = document.getElementById(\"98ba2886-ce72-459c-b96e-d2101a344fac\");\n",
       "  if (element == null) {\n",
       "    console.log(\"Bokeh: ERROR: autoload.js configured with elementid '98ba2886-ce72-459c-b96e-d2101a344fac' but no matching script tag was found. \")\n",
       "    return false;\n",
       "  }\n",
       "\n",
       "  var js_urls = [\"https://cdn.pydata.org/bokeh/release/bokeh-0.12.14.min.js\", \"https://cdn.pydata.org/bokeh/release/bokeh-widgets-0.12.14.min.js\", \"https://cdn.pydata.org/bokeh/release/bokeh-tables-0.12.14.min.js\", \"https://cdn.pydata.org/bokeh/release/bokeh-gl-0.12.14.min.js\"];\n",
       "\n",
       "  var inline_js = [\n",
       "    function(Bokeh) {\n",
       "      Bokeh.set_log_level(\"info\");\n",
       "    },\n",
       "    \n",
       "    function(Bokeh) {\n",
       "      \n",
       "    },\n",
       "    function(Bokeh) {\n",
       "      console.log(\"Bokeh: injecting CSS: https://cdn.pydata.org/bokeh/release/bokeh-0.12.14.min.css\");\n",
       "      Bokeh.embed.inject_css(\"https://cdn.pydata.org/bokeh/release/bokeh-0.12.14.min.css\");\n",
       "      console.log(\"Bokeh: injecting CSS: https://cdn.pydata.org/bokeh/release/bokeh-widgets-0.12.14.min.css\");\n",
       "      Bokeh.embed.inject_css(\"https://cdn.pydata.org/bokeh/release/bokeh-widgets-0.12.14.min.css\");\n",
       "      console.log(\"Bokeh: injecting CSS: https://cdn.pydata.org/bokeh/release/bokeh-tables-0.12.14.min.css\");\n",
       "      Bokeh.embed.inject_css(\"https://cdn.pydata.org/bokeh/release/bokeh-tables-0.12.14.min.css\");\n",
       "    }\n",
       "  ];\n",
       "\n",
       "  function run_inline_js() {\n",
       "    \n",
       "    if ((root.Bokeh !== undefined) || (force === true)) {\n",
       "      for (var i = 0; i < inline_js.length; i++) {\n",
       "        inline_js[i].call(root, root.Bokeh);\n",
       "      }if (force === true) {\n",
       "        display_loaded();\n",
       "      }} else if (Date.now() < root._bokeh_timeout) {\n",
       "      setTimeout(run_inline_js, 100);\n",
       "    } else if (!root._bokeh_failed_load) {\n",
       "      console.log(\"Bokeh: BokehJS failed to load within specified timeout.\");\n",
       "      root._bokeh_failed_load = true;\n",
       "    } else if (force !== true) {\n",
       "      var cell = $(document.getElementById(\"98ba2886-ce72-459c-b96e-d2101a344fac\")).parents('.cell').data().cell;\n",
       "      cell.output_area.append_execute_result(NB_LOAD_WARNING)\n",
       "    }\n",
       "\n",
       "  }\n",
       "\n",
       "  if (root._bokeh_is_loading === 0) {\n",
       "    console.log(\"Bokeh: BokehJS loaded, going straight to plotting\");\n",
       "    run_inline_js();\n",
       "  } else {\n",
       "    load_libs(js_urls, function() {\n",
       "      console.log(\"Bokeh: BokehJS plotting callback run at\", now());\n",
       "      run_inline_js();\n",
       "    });\n",
       "  }\n",
       "}(window));"
      ],
      "application/vnd.bokehjs_load.v0+json": "\n(function(root) {\n  function now() {\n    return new Date();\n  }\n\n  var force = true;\n\n  if (typeof (root._bokeh_onload_callbacks) === \"undefined\" || force === true) {\n    root._bokeh_onload_callbacks = [];\n    root._bokeh_is_loading = undefined;\n  }\n\n  \n\n  \n  if (typeof (root._bokeh_timeout) === \"undefined\" || force === true) {\n    root._bokeh_timeout = Date.now() + 5000;\n    root._bokeh_failed_load = false;\n  }\n\n  var NB_LOAD_WARNING = {'data': {'text/html':\n     \"<div style='background-color: #fdd'>\\n\"+\n     \"<p>\\n\"+\n     \"BokehJS does not appear to have successfully loaded. If loading BokehJS from CDN, this \\n\"+\n     \"may be due to a slow or bad network connection. Possible fixes:\\n\"+\n     \"</p>\\n\"+\n     \"<ul>\\n\"+\n     \"<li>re-rerun `output_notebook()` to attempt to load from CDN again, or</li>\\n\"+\n     \"<li>use INLINE resources instead, as so:</li>\\n\"+\n     \"</ul>\\n\"+\n     \"<code>\\n\"+\n     \"from bokeh.resources import INLINE\\n\"+\n     \"output_notebook(resources=INLINE)\\n\"+\n     \"</code>\\n\"+\n     \"</div>\"}};\n\n  function display_loaded() {\n    var el = document.getElementById(\"98ba2886-ce72-459c-b96e-d2101a344fac\");\n    if (el != null) {\n      el.textContent = \"BokehJS is loading...\";\n    }\n    if (root.Bokeh !== undefined) {\n      if (el != null) {\n        el.textContent = \"BokehJS \" + root.Bokeh.version + \" successfully loaded.\";\n      }\n    } else if (Date.now() < root._bokeh_timeout) {\n      setTimeout(display_loaded, 100)\n    }\n  }\n\n\n  function run_callbacks() {\n    try {\n      root._bokeh_onload_callbacks.forEach(function(callback) { callback() });\n    }\n    finally {\n      delete root._bokeh_onload_callbacks\n    }\n    console.info(\"Bokeh: all callbacks have finished\");\n  }\n\n  function load_libs(js_urls, callback) {\n    root._bokeh_onload_callbacks.push(callback);\n    if (root._bokeh_is_loading > 0) {\n      console.log(\"Bokeh: BokehJS is being loaded, scheduling callback at\", now());\n      return null;\n    }\n    if (js_urls == null || js_urls.length === 0) {\n      run_callbacks();\n      return null;\n    }\n    console.log(\"Bokeh: BokehJS not loaded, scheduling load and callback at\", now());\n    root._bokeh_is_loading = js_urls.length;\n    for (var i = 0; i < js_urls.length; i++) {\n      var url = js_urls[i];\n      var s = document.createElement('script');\n      s.src = url;\n      s.async = false;\n      s.onreadystatechange = s.onload = function() {\n        root._bokeh_is_loading--;\n        if (root._bokeh_is_loading === 0) {\n          console.log(\"Bokeh: all BokehJS libraries loaded\");\n          run_callbacks()\n        }\n      };\n      s.onerror = function() {\n        console.warn(\"failed to load library \" + url);\n      };\n      console.log(\"Bokeh: injecting script tag for BokehJS library: \", url);\n      document.getElementsByTagName(\"head\")[0].appendChild(s);\n    }\n  };var element = document.getElementById(\"98ba2886-ce72-459c-b96e-d2101a344fac\");\n  if (element == null) {\n    console.log(\"Bokeh: ERROR: autoload.js configured with elementid '98ba2886-ce72-459c-b96e-d2101a344fac' but no matching script tag was found. \")\n    return false;\n  }\n\n  var js_urls = [\"https://cdn.pydata.org/bokeh/release/bokeh-0.12.14.min.js\", \"https://cdn.pydata.org/bokeh/release/bokeh-widgets-0.12.14.min.js\", \"https://cdn.pydata.org/bokeh/release/bokeh-tables-0.12.14.min.js\", \"https://cdn.pydata.org/bokeh/release/bokeh-gl-0.12.14.min.js\"];\n\n  var inline_js = [\n    function(Bokeh) {\n      Bokeh.set_log_level(\"info\");\n    },\n    \n    function(Bokeh) {\n      \n    },\n    function(Bokeh) {\n      console.log(\"Bokeh: injecting CSS: https://cdn.pydata.org/bokeh/release/bokeh-0.12.14.min.css\");\n      Bokeh.embed.inject_css(\"https://cdn.pydata.org/bokeh/release/bokeh-0.12.14.min.css\");\n      console.log(\"Bokeh: injecting CSS: https://cdn.pydata.org/bokeh/release/bokeh-widgets-0.12.14.min.css\");\n      Bokeh.embed.inject_css(\"https://cdn.pydata.org/bokeh/release/bokeh-widgets-0.12.14.min.css\");\n      console.log(\"Bokeh: injecting CSS: https://cdn.pydata.org/bokeh/release/bokeh-tables-0.12.14.min.css\");\n      Bokeh.embed.inject_css(\"https://cdn.pydata.org/bokeh/release/bokeh-tables-0.12.14.min.css\");\n    }\n  ];\n\n  function run_inline_js() {\n    \n    if ((root.Bokeh !== undefined) || (force === true)) {\n      for (var i = 0; i < inline_js.length; i++) {\n        inline_js[i].call(root, root.Bokeh);\n      }if (force === true) {\n        display_loaded();\n      }} else if (Date.now() < root._bokeh_timeout) {\n      setTimeout(run_inline_js, 100);\n    } else if (!root._bokeh_failed_load) {\n      console.log(\"Bokeh: BokehJS failed to load within specified timeout.\");\n      root._bokeh_failed_load = true;\n    } else if (force !== true) {\n      var cell = $(document.getElementById(\"98ba2886-ce72-459c-b96e-d2101a344fac\")).parents('.cell').data().cell;\n      cell.output_area.append_execute_result(NB_LOAD_WARNING)\n    }\n\n  }\n\n  if (root._bokeh_is_loading === 0) {\n    console.log(\"Bokeh: BokehJS loaded, going straight to plotting\");\n    run_inline_js();\n  } else {\n    load_libs(js_urls, function() {\n      console.log(\"Bokeh: BokehJS plotting callback run at\", now());\n      run_inline_js();\n    });\n  }\n}(window));"
     },
     "metadata": {},
     "output_type": "display_data"
    }
   ],
   "source": [
    "import time\n",
    "import datetime\n",
    "\n",
    "import featuretools as ft\n",
    "import pandas as pd\n",
    "from bokeh.plotting import figure, show\n",
    "from bokeh.io import output_notebook\n",
    "from featuretools.computational_backends import bin_cutoff_times\n",
    "\n",
    "retail_es = ft.demo.load_retail()\n",
    "cutoff_time = pd.DataFrame({'time': retail_es[\"customers\"].last_time_index,\n",
    "                            'instance_id': retail_es[\"customers\"].df[\"CustomerID\"]})\n",
    "output_notebook()"
   ]
  },
  {
   "cell_type": "markdown",
   "metadata": {},
   "source": [
    "#### Default (10% per chunk)"
   ]
  },
  {
   "cell_type": "code",
   "execution_count": 31,
   "metadata": {},
   "outputs": [
    {
     "name": "stdout",
     "output_type": "stream",
     "text": [
      "Building features: 134it [00:00, 6378.52it/s]\n",
      "Elapsed: 00:00 | Remaining: 00:00 | Progress: 100%|██████████||, Chunks created: 10\n",
      "Elapsed: 01:20 | Remaining: 00:00 | Progress: 100%|██████████|| Calculated: 10/10 chunks\n"
     ]
    }
   ],
   "source": [
    "start = time.time()\n",
    "feature_matrix, features = ft.dfs(entityset=retail_es,\n",
    "                                  target_entity=\"customers\",\n",
    "                                  verbose=True,\n",
    "                                  cutoff_time=cutoff_time.iloc[:500])\n",
    "stop = time.time()\n",
    "default_duration = datetime.timedelta(seconds=stop-start)"
   ]
  },
  {
   "cell_type": "markdown",
   "metadata": {},
   "source": [
    "There are more than 100 rows in `cutoff_time` so chunks size is 10%"
   ]
  },
  {
   "cell_type": "markdown",
   "metadata": {},
   "source": [
    "#### 1 chunk"
   ]
  },
  {
   "cell_type": "code",
   "execution_count": 32,
   "metadata": {},
   "outputs": [
    {
     "name": "stdout",
     "output_type": "stream",
     "text": [
      "Building features: 134it [00:00, 7598.99it/s]\n",
      "Elapsed: 00:00 | Remaining: 00:00 | Progress: 100%|██████████||, Chunks created: 1\n",
      "Elapsed: 01:29 | Remaining: 00:00 | Progress: 100%|██████████|| Calculated: 1/1 chunks\n"
     ]
    }
   ],
   "source": [
    "start = time.time()\n",
    "feature_matrix, features = ft.dfs(entityset=retail_es,\n",
    "                                  target_entity=\"customers\",\n",
    "                                  verbose=True,\n",
    "                                  cutoff_time=cutoff_time.iloc[:500],\n",
    "                                  chunk_size=500)\n",
    "stop = time.time()\n",
    "one_chunk_duration = datetime.timedelta(seconds=stop-start)"
   ]
  },
  {
   "cell_type": "markdown",
   "metadata": {},
   "source": [
    "Similar time with just 1 chunk.  Small dataset and mostly unique timestamps means computation does not slow down with fewer chunks."
   ]
  },
  {
   "cell_type": "markdown",
   "metadata": {},
   "source": [
    "#### 2 rows per chunk"
   ]
  },
  {
   "cell_type": "code",
   "execution_count": 33,
   "metadata": {},
   "outputs": [
    {
     "name": "stdout",
     "output_type": "stream",
     "text": [
      "Building features: 134it [00:00, 8635.16it/s]\n",
      "Elapsed: 00:00 | Remaining: 00:00 | Progress: 100%|██████████||, Chunks created: 250\n",
      "Elapsed: 01:47 | Remaining: 00:00 | Progress: 100%|██████████|| Calculated: 250/250 chunks\n"
     ]
    }
   ],
   "source": [
    "start = time.time()\n",
    "feature_matrix, features = ft.dfs(entityset=retail_es,\n",
    "                                  target_entity=\"customers\",\n",
    "                                  verbose=True,\n",
    "                                  cutoff_time=cutoff_time.iloc[:500],\n",
    "                                  chunk_size=2)\n",
    "stop = time.time()\n",
    "two_per_chunk_duration = datetime.timedelta(seconds=stop-start)"
   ]
  },
  {
   "cell_type": "markdown",
   "metadata": {},
   "source": [
    "With 2 rows per chunk calculation has slowed somewhat due to overhead of calculating each chunk."
   ]
  },
  {
   "cell_type": "markdown",
   "metadata": {},
   "source": [
    "#### \"cutoff time\" option"
   ]
  },
  {
   "cell_type": "code",
   "execution_count": 34,
   "metadata": {},
   "outputs": [
    {
     "name": "stdout",
     "output_type": "stream",
     "text": [
      "Building features: 134it [00:00, 5383.65it/s]\n",
      "Elapsed: 00:00 | Remaining: 00:00 | Progress: 100%|██████████||, Chunks created: 493\n",
      "Elapsed: 02:16 | Remaining: 00:00 | Progress: 100%|██████████|| Calculated: 493/493 chunks\n"
     ]
    }
   ],
   "source": [
    "start = time.time()\n",
    "feature_matrix, features = ft.dfs(entityset=retail_es,\n",
    "                                  target_entity=\"customers\",\n",
    "                                  verbose=True,\n",
    "                                  cutoff_time=cutoff_time.iloc[:500],\n",
    "                                  chunk_size=\"cutoff time\")\n",
    "stop = time.time()\n",
    "cutoff_duration = datetime.timedelta(seconds=stop-start)"
   ]
  },
  {
   "cell_type": "markdown",
   "metadata": {},
   "source": [
    "With a mean of 1.03 rows per timetamp, using the \"cutoff time\" options is similarly slow."
   ]
  },
  {
   "cell_type": "code",
   "execution_count": 35,
   "metadata": {},
   "outputs": [
    {
     "data": {
      "text/html": [
       "\n",
       "<div class=\"bk-root\">\n",
       "    <div class=\"bk-plotdiv\" id=\"e600d095-3200-4783-a579-0b46e6ef25b8\"></div>\n",
       "</div>"
      ]
     },
     "metadata": {},
     "output_type": "display_data"
    },
    {
     "data": {
      "application/javascript": [
       "(function(root) {\n",
       "  function embed_document(root) {\n",
       "    \n",
       "  var docs_json = {\"2652a545-df76-4caf-9063-3a7700bb80b2\":{\"roots\":{\"references\":[{\"attributes\":{\"formatter\":{\"id\":\"4a0b4efd-4f0e-4686-b1dd-3236cdc42a6c\",\"type\":\"DatetimeTickFormatter\"},\"plot\":{\"id\":\"b3b24a9f-1145-4121-a07f-78d756a76a55\",\"subtype\":\"Figure\",\"type\":\"Plot\"},\"ticker\":{\"id\":\"daa7584f-de68-4928-a5d3-da2e2cb00e2b\",\"type\":\"DatetimeTicker\"}},\"id\":\"49298a92-0b3f-4e76-8d67-783e9a918ca4\",\"type\":\"DatetimeAxis\"},{\"attributes\":{},\"id\":\"7f5d55a4-53c5-4fef-a87b-c623486f9f1b\",\"type\":\"CategoricalTickFormatter\"},{\"attributes\":{},\"id\":\"78aa7c27-6b71-416c-b852-d5d55c7c62d2\",\"type\":\"SaveTool\"},{\"attributes\":{},\"id\":\"222e1a92-f02c-4415-88e6-b7dff8d47990\",\"type\":\"CategoricalScale\"},{\"attributes\":{\"below\":[{\"id\":\"49298a92-0b3f-4e76-8d67-783e9a918ca4\",\"type\":\"DatetimeAxis\"}],\"left\":[{\"id\":\"fe919412-76bc-4809-9fd3-def73f46c92e\",\"type\":\"CategoricalAxis\"}],\"plot_height\":400,\"renderers\":[{\"id\":\"49298a92-0b3f-4e76-8d67-783e9a918ca4\",\"type\":\"DatetimeAxis\"},{\"id\":\"bc076d37-11a9-4d67-9db9-0b45aa266972\",\"type\":\"Grid\"},{\"id\":\"fe919412-76bc-4809-9fd3-def73f46c92e\",\"type\":\"CategoricalAxis\"},{\"id\":\"a3fd752b-5db0-4558-a713-22f73e3c32e8\",\"type\":\"Grid\"},{\"id\":\"a42a5aad-4b4c-4c0c-a32f-671dff007e08\",\"type\":\"BoxAnnotation\"},{\"id\":\"69501c2b-ad08-4de9-a0c9-06e501484b81\",\"type\":\"GlyphRenderer\"}],\"title\":{\"id\":\"4a2c8c8e-9d12-455e-84c3-288883e0009a\",\"type\":\"Title\"},\"toolbar\":{\"id\":\"03f5d9e1-c0b1-4b0d-81c0-f641af26a9ee\",\"type\":\"Toolbar\"},\"x_range\":{\"id\":\"cb8793d8-7472-4e84-b6a6-7a5a65a62865\",\"type\":\"DataRange1d\"},\"x_scale\":{\"id\":\"054aa65e-7be7-4fbc-a007-308f82b10655\",\"type\":\"LinearScale\"},\"y_range\":{\"id\":\"2e898389-7acd-4303-910b-9ad94deec16b\",\"type\":\"FactorRange\"},\"y_scale\":{\"id\":\"222e1a92-f02c-4415-88e6-b7dff8d47990\",\"type\":\"CategoricalScale\"}},\"id\":\"b3b24a9f-1145-4121-a07f-78d756a76a55\",\"subtype\":\"Figure\",\"type\":\"Plot\"},{\"attributes\":{\"base\":60,\"mantissas\":[1,2,5,10,15,20,30],\"max_interval\":1800000.0,\"min_interval\":1000.0,\"num_minor_ticks\":0},\"id\":\"f231115e-70db-4029-9b65-144d415c4002\",\"type\":\"AdaptiveTicker\"},{\"attributes\":{\"months\":[0,1,2,3,4,5,6,7,8,9,10,11]},\"id\":\"86ad496c-03b8-4b41-a972-1160ed6a3348\",\"type\":\"MonthsTicker\"},{\"attributes\":{},\"id\":\"054aa65e-7be7-4fbc-a007-308f82b10655\",\"type\":\"LinearScale\"},{\"attributes\":{},\"id\":\"590ac0b6-3e17-4aaf-9a28-4131bb9275c2\",\"type\":\"WheelZoomTool\"},{\"attributes\":{\"fill_alpha\":{\"value\":0.1},\"fill_color\":{\"value\":\"#1f77b4\"},\"height\":{\"value\":0.5},\"line_alpha\":{\"value\":0.1},\"line_color\":{\"value\":\"#1f77b4\"},\"right\":{\"field\":\"right\"},\"y\":{\"field\":\"y\"}},\"id\":\"5464a02e-d914-432b-a229-bc06fcb471e3\",\"type\":\"HBar\"},{\"attributes\":{\"callback\":null},\"id\":\"cb8793d8-7472-4e84-b6a6-7a5a65a62865\",\"type\":\"DataRange1d\"},{\"attributes\":{\"callback\":null,\"column_names\":[\"y\",\"right\"],\"data\":{\"right\":[80615.41200000001,89576.28300000001,109074.91,140106.57499999998],\"y\":[\"10%\",\"100%\",\"2\",\"cutoff time\"]}},\"id\":\"27717227-f547-4769-914a-408e1f5ad308\",\"type\":\"ColumnDataSource\"},{\"attributes\":{},\"id\":\"0e1bab1c-bd81-4a5c-9cf0-fcdd946ccb3c\",\"type\":\"HelpTool\"},{\"attributes\":{\"bottom_units\":\"screen\",\"fill_alpha\":{\"value\":0.5},\"fill_color\":{\"value\":\"lightgrey\"},\"left_units\":\"screen\",\"level\":\"overlay\",\"line_alpha\":{\"value\":1.0},\"line_color\":{\"value\":\"black\"},\"line_dash\":[4,4],\"line_width\":{\"value\":2},\"plot\":null,\"render_mode\":\"css\",\"right_units\":\"screen\",\"top_units\":\"screen\"},\"id\":\"a42a5aad-4b4c-4c0c-a32f-671dff007e08\",\"type\":\"BoxAnnotation\"},{\"attributes\":{},\"id\":\"8c6f695b-4fba-4434-b180-72cf7a420cc9\",\"type\":\"YearsTicker\"},{\"attributes\":{\"plot\":null,\"text\":\"\"},\"id\":\"4a2c8c8e-9d12-455e-84c3-288883e0009a\",\"type\":\"Title\"},{\"attributes\":{\"months\":[0,4,8]},\"id\":\"4d331678-53c7-48b0-9965-b290b3ae4ee9\",\"type\":\"MonthsTicker\"},{\"attributes\":{\"overlay\":{\"id\":\"a42a5aad-4b4c-4c0c-a32f-671dff007e08\",\"type\":\"BoxAnnotation\"}},\"id\":\"38749a13-27ab-4334-941a-0c3973467635\",\"type\":\"BoxZoomTool\"},{\"attributes\":{\"dimension\":1,\"plot\":{\"id\":\"b3b24a9f-1145-4121-a07f-78d756a76a55\",\"subtype\":\"Figure\",\"type\":\"Plot\"},\"ticker\":{\"id\":\"af35c57b-40ac-4aeb-be5e-c3f7ec50370a\",\"type\":\"CategoricalTicker\"}},\"id\":\"a3fd752b-5db0-4558-a713-22f73e3c32e8\",\"type\":\"Grid\"},{\"attributes\":{},\"id\":\"4a0b4efd-4f0e-4686-b1dd-3236cdc42a6c\",\"type\":\"DatetimeTickFormatter\"},{\"attributes\":{\"fill_color\":{\"value\":\"navy\"},\"height\":{\"value\":0.5},\"line_color\":{\"value\":\"navy\"},\"right\":{\"field\":\"right\"},\"y\":{\"field\":\"y\"}},\"id\":\"0c1b8418-8b78-40b4-81a0-a35baa5f8900\",\"type\":\"HBar\"},{\"attributes\":{},\"id\":\"b040bf12-f485-46b1-80ae-8ef720fa042a\",\"type\":\"PanTool\"},{\"attributes\":{\"days\":[1,4,7,10,13,16,19,22,25,28]},\"id\":\"98ea92c5-d428-4ffb-a8cf-37b4214af1fe\",\"type\":\"DaysTicker\"},{\"attributes\":{\"callback\":null,\"factors\":[\"10%\",\"100%\",\"2\",\"cutoff time\"]},\"id\":\"2e898389-7acd-4303-910b-9ad94deec16b\",\"type\":\"FactorRange\"},{\"attributes\":{\"mantissas\":[1,2,5],\"max_interval\":500.0,\"num_minor_ticks\":0},\"id\":\"1b9db589-ebe5-4a48-bfdd-d4b8744c4267\",\"type\":\"AdaptiveTicker\"},{\"attributes\":{\"base\":24,\"mantissas\":[1,2,4,6,8,12],\"max_interval\":43200000.0,\"min_interval\":3600000.0,\"num_minor_ticks\":0},\"id\":\"447774b5-b739-44e7-a5c4-6de18ec449cc\",\"type\":\"AdaptiveTicker\"},{\"attributes\":{\"plot\":{\"id\":\"b3b24a9f-1145-4121-a07f-78d756a76a55\",\"subtype\":\"Figure\",\"type\":\"Plot\"},\"ticker\":{\"id\":\"daa7584f-de68-4928-a5d3-da2e2cb00e2b\",\"type\":\"DatetimeTicker\"}},\"id\":\"bc076d37-11a9-4d67-9db9-0b45aa266972\",\"type\":\"Grid\"},{\"attributes\":{\"formatter\":{\"id\":\"7f5d55a4-53c5-4fef-a87b-c623486f9f1b\",\"type\":\"CategoricalTickFormatter\"},\"plot\":{\"id\":\"b3b24a9f-1145-4121-a07f-78d756a76a55\",\"subtype\":\"Figure\",\"type\":\"Plot\"},\"ticker\":{\"id\":\"af35c57b-40ac-4aeb-be5e-c3f7ec50370a\",\"type\":\"CategoricalTicker\"}},\"id\":\"fe919412-76bc-4809-9fd3-def73f46c92e\",\"type\":\"CategoricalAxis\"},{\"attributes\":{\"data_source\":{\"id\":\"27717227-f547-4769-914a-408e1f5ad308\",\"type\":\"ColumnDataSource\"},\"glyph\":{\"id\":\"0c1b8418-8b78-40b4-81a0-a35baa5f8900\",\"type\":\"HBar\"},\"hover_glyph\":null,\"muted_glyph\":null,\"nonselection_glyph\":{\"id\":\"5464a02e-d914-432b-a229-bc06fcb471e3\",\"type\":\"HBar\"},\"selection_glyph\":null,\"view\":{\"id\":\"ccc8e6b9-530e-4e2a-9ef7-3a518d0dead1\",\"type\":\"CDSView\"}},\"id\":\"69501c2b-ad08-4de9-a0c9-06e501484b81\",\"type\":\"GlyphRenderer\"},{\"attributes\":{\"days\":[1,2,3,4,5,6,7,8,9,10,11,12,13,14,15,16,17,18,19,20,21,22,23,24,25,26,27,28,29,30,31]},\"id\":\"8d802ed9-5a49-47e7-8d39-7575ae130dd7\",\"type\":\"DaysTicker\"},{\"attributes\":{},\"id\":\"af35c57b-40ac-4aeb-be5e-c3f7ec50370a\",\"type\":\"CategoricalTicker\"},{\"attributes\":{\"months\":[0,2,4,6,8,10]},\"id\":\"76691c81-2e39-401d-bab5-d8546ccf0ab9\",\"type\":\"MonthsTicker\"},{\"attributes\":{\"num_minor_ticks\":5,\"tickers\":[{\"id\":\"1b9db589-ebe5-4a48-bfdd-d4b8744c4267\",\"type\":\"AdaptiveTicker\"},{\"id\":\"f231115e-70db-4029-9b65-144d415c4002\",\"type\":\"AdaptiveTicker\"},{\"id\":\"447774b5-b739-44e7-a5c4-6de18ec449cc\",\"type\":\"AdaptiveTicker\"},{\"id\":\"8d802ed9-5a49-47e7-8d39-7575ae130dd7\",\"type\":\"DaysTicker\"},{\"id\":\"98ea92c5-d428-4ffb-a8cf-37b4214af1fe\",\"type\":\"DaysTicker\"},{\"id\":\"529ff040-44ef-4117-bdb3-b3d1bc48af7b\",\"type\":\"DaysTicker\"},{\"id\":\"4c0f9e46-41e9-43a4-9e04-b421a910932d\",\"type\":\"DaysTicker\"},{\"id\":\"86ad496c-03b8-4b41-a972-1160ed6a3348\",\"type\":\"MonthsTicker\"},{\"id\":\"76691c81-2e39-401d-bab5-d8546ccf0ab9\",\"type\":\"MonthsTicker\"},{\"id\":\"4d331678-53c7-48b0-9965-b290b3ae4ee9\",\"type\":\"MonthsTicker\"},{\"id\":\"1cde6b91-0d7d-4819-a0c5-3f574d7675a3\",\"type\":\"MonthsTicker\"},{\"id\":\"8c6f695b-4fba-4434-b180-72cf7a420cc9\",\"type\":\"YearsTicker\"}]},\"id\":\"daa7584f-de68-4928-a5d3-da2e2cb00e2b\",\"type\":\"DatetimeTicker\"},{\"attributes\":{\"source\":{\"id\":\"27717227-f547-4769-914a-408e1f5ad308\",\"type\":\"ColumnDataSource\"}},\"id\":\"ccc8e6b9-530e-4e2a-9ef7-3a518d0dead1\",\"type\":\"CDSView\"},{\"attributes\":{\"days\":[1,8,15,22]},\"id\":\"529ff040-44ef-4117-bdb3-b3d1bc48af7b\",\"type\":\"DaysTicker\"},{\"attributes\":{},\"id\":\"cf629fe4-9f2f-48e8-8e2b-6dfb5f609e73\",\"type\":\"ResetTool\"},{\"attributes\":{\"days\":[1,15]},\"id\":\"4c0f9e46-41e9-43a4-9e04-b421a910932d\",\"type\":\"DaysTicker\"},{\"attributes\":{\"active_drag\":\"auto\",\"active_inspect\":\"auto\",\"active_scroll\":\"auto\",\"active_tap\":\"auto\",\"tools\":[{\"id\":\"b040bf12-f485-46b1-80ae-8ef720fa042a\",\"type\":\"PanTool\"},{\"id\":\"590ac0b6-3e17-4aaf-9a28-4131bb9275c2\",\"type\":\"WheelZoomTool\"},{\"id\":\"38749a13-27ab-4334-941a-0c3973467635\",\"type\":\"BoxZoomTool\"},{\"id\":\"78aa7c27-6b71-416c-b852-d5d55c7c62d2\",\"type\":\"SaveTool\"},{\"id\":\"cf629fe4-9f2f-48e8-8e2b-6dfb5f609e73\",\"type\":\"ResetTool\"},{\"id\":\"0e1bab1c-bd81-4a5c-9cf0-fcdd946ccb3c\",\"type\":\"HelpTool\"}]},\"id\":\"03f5d9e1-c0b1-4b0d-81c0-f641af26a9ee\",\"type\":\"Toolbar\"},{\"attributes\":{\"months\":[0,6]},\"id\":\"1cde6b91-0d7d-4819-a0c5-3f574d7675a3\",\"type\":\"MonthsTicker\"}],\"root_ids\":[\"b3b24a9f-1145-4121-a07f-78d756a76a55\"]},\"title\":\"Bokeh Application\",\"version\":\"0.12.14\"}};\n",
       "  var render_items = [{\"docid\":\"2652a545-df76-4caf-9063-3a7700bb80b2\",\"elementid\":\"e600d095-3200-4783-a579-0b46e6ef25b8\",\"modelid\":\"b3b24a9f-1145-4121-a07f-78d756a76a55\"}];\n",
       "  root.Bokeh.embed.embed_items_notebook(docs_json, render_items);\n",
       "\n",
       "  }\n",
       "  if (root.Bokeh !== undefined) {\n",
       "    embed_document(root);\n",
       "  } else {\n",
       "    var attempts = 0;\n",
       "    var timer = setInterval(function(root) {\n",
       "      if (root.Bokeh !== undefined) {\n",
       "        embed_document(root);\n",
       "        clearInterval(timer);\n",
       "      }\n",
       "      attempts++;\n",
       "      if (attempts > 100) {\n",
       "        console.log(\"Bokeh: ERROR: Unable to run BokehJS code because BokehJS library is missing\")\n",
       "        clearInterval(timer);\n",
       "      }\n",
       "    }, 10, root)\n",
       "  }\n",
       "})(window);"
      ],
      "application/vnd.bokehjs_exec.v0+json": ""
     },
     "metadata": {
      "application/vnd.bokehjs_exec.v0+json": {
       "id": "b3b24a9f-1145-4121-a07f-78d756a76a55"
      }
     },
     "output_type": "display_data"
    }
   ],
   "source": [
    "bar_names = ['10%', '100%', '2', 'cutoff time']\n",
    "bar_values = [default_duration, one_chunk_duration, two_per_chunk_duration, cutoff_duration]\n",
    "p = figure(y_range=bar_names, x_axis_type='datetime', plot_width=600, plot_height=400)\n",
    "p.hbar(y=bar_names, height=0.5, left=0,\n",
    "       right=bar_values, color=\"navy\")\n",
    "\n",
    "show(p)"
   ]
  },
  {
   "cell_type": "markdown",
   "metadata": {},
   "source": [
    "### All cutoff times\n",
    "\n",
    "Using all of the cutoff times does not change how few rows have the same cutoff time.  The default chunk size of 10% and calculating all of the cutoff times in a single chunk still takes about the same amount of time. Using a chunk size of 2 is noticably slower, and grouping by cutoff time even more so.\n",
    "\n",
    "#### 10% per chunk"
   ]
  },
  {
   "cell_type": "code",
   "execution_count": 7,
   "metadata": {},
   "outputs": [
    {
     "name": "stdout",
     "output_type": "stream",
     "text": [
      "Building features: 134it [00:00, 6367.89it/s]\n",
      "Elapsed: 00:00 | Remaining: 00:00 | Progress: 100%|██████████||, Chunks created: 11\n",
      "Elapsed: 10:45 | Remaining: 00:00 | Progress: 100%|██████████|| Calculated: 11/11 chunks\n"
     ]
    }
   ],
   "source": [
    "start = time.time()\n",
    "feature_matrix, features = ft.dfs(entityset=retail_es,\n",
    "                                  target_entity=\"customers\",\n",
    "                                  verbose=True,\n",
    "                                  cutoff_time=cutoff_time)\n",
    "stop = time.time()\n",
    "default_duration = datetime.timedelta(seconds=stop-start)"
   ]
  },
  {
   "cell_type": "markdown",
   "metadata": {},
   "source": [
    "#### 1 chunk"
   ]
  },
  {
   "cell_type": "code",
   "execution_count": 8,
   "metadata": {},
   "outputs": [
    {
     "name": "stdout",
     "output_type": "stream",
     "text": [
      "Building features: 134it [00:00, 8910.75it/s]\n",
      "Elapsed: 00:00 | Remaining: 00:00 | Progress: 100%|██████████||, Chunks created: 1\n",
      "Elapsed: 11:08 | Remaining: 00:00 | Progress: 100%|██████████|| Calculated: 1/1 chunks\n"
     ]
    }
   ],
   "source": [
    "start = time.time()\n",
    "feature_matrix, features = ft.dfs(entityset=retail_es,\n",
    "                                  target_entity=\"customers\",\n",
    "                                  verbose=True,\n",
    "                                  cutoff_time=cutoff_time,\n",
    "                                  chunk_size=4373)\n",
    "stop = time.time()\n",
    "one_chunk_duration = datetime.timedelta(seconds=stop-start)"
   ]
  },
  {
   "cell_type": "markdown",
   "metadata": {},
   "source": [
    "#### 2 rows per chunk"
   ]
  },
  {
   "cell_type": "code",
   "execution_count": 9,
   "metadata": {},
   "outputs": [
    {
     "name": "stdout",
     "output_type": "stream",
     "text": [
      "Building features: 134it [00:00, 6565.70it/s]\n",
      "Elapsed: 00:00 | Remaining: 00:00 | Progress: 100%|██████████||, Chunks created: 2187\n",
      "Elapsed: 14:26 | Remaining: 00:00 | Progress: 100%|██████████|| Calculated: 2187/2187 chunks\n"
     ]
    }
   ],
   "source": [
    "start = time.time()\n",
    "feature_matrix, features = ft.dfs(entityset=retail_es,\n",
    "                                  target_entity=\"customers\",\n",
    "                                  verbose=True,\n",
    "                                  cutoff_time=cutoff_time,\n",
    "                                  chunk_size=2)\n",
    "stop = time.time()\n",
    "two_per_chunk_duration = datetime.timedelta(seconds=stop-start)"
   ]
  },
  {
   "cell_type": "markdown",
   "metadata": {},
   "source": [
    "#### \"cutoff time\" option"
   ]
  },
  {
   "cell_type": "code",
   "execution_count": 10,
   "metadata": {},
   "outputs": [
    {
     "name": "stdout",
     "output_type": "stream",
     "text": [
      "Building features: 134it [00:00, 7888.35it/s]\n",
      "Elapsed: 00:00 | Remaining: 00:00 | Progress: 100%|██████████||, Chunks created: 4240\n",
      "Elapsed: 21:22 | Remaining: 00:00 | Progress: 100%|██████████|| Calculated: 4240/4240 chunks\n"
     ]
    }
   ],
   "source": [
    "start= time.time()\n",
    "feature_matrix, features = ft.dfs(entityset=retail_es,\n",
    "                                  target_entity=\"customers\",\n",
    "                                  verbose=True,\n",
    "                                  cutoff_time=cutoff_time,\n",
    "                                  chunk_size=\"cutoff time\")\n",
    "stop = time.time()\n",
    "cutoff_duration = datetime.timedelta(seconds=stop-start)"
   ]
  },
  {
   "cell_type": "code",
   "execution_count": 11,
   "metadata": {},
   "outputs": [
    {
     "data": {
      "text/html": [
       "\n",
       "<div class=\"bk-root\">\n",
       "    <div class=\"bk-plotdiv\" id=\"4a6d7e4f-9996-4c41-9724-0a2b4b316d47\"></div>\n",
       "</div>"
      ]
     },
     "metadata": {},
     "output_type": "display_data"
    },
    {
     "data": {
      "application/javascript": [
       "(function(root) {\n",
       "  function embed_document(root) {\n",
       "    \n",
       "  var docs_json = {\"234513be-c842-4e6c-b77b-e0e675fcb7b0\":{\"roots\":{\"references\":[{\"attributes\":{\"bottom_units\":\"screen\",\"fill_alpha\":{\"value\":0.5},\"fill_color\":{\"value\":\"lightgrey\"},\"left_units\":\"screen\",\"level\":\"overlay\",\"line_alpha\":{\"value\":1.0},\"line_color\":{\"value\":\"black\"},\"line_dash\":[4,4],\"line_width\":{\"value\":2},\"plot\":null,\"render_mode\":\"css\",\"right_units\":\"screen\",\"top_units\":\"screen\"},\"id\":\"ef4cdc96-04de-485d-9007-b8b89eeb3097\",\"type\":\"BoxAnnotation\"},{\"attributes\":{\"source\":{\"id\":\"13597737-5477-48ed-ae8c-a8a7641498cd\",\"type\":\"ColumnDataSource\"}},\"id\":\"f65b1403-f722-4e75-8449-341e691cb208\",\"type\":\"CDSView\"},{\"attributes\":{\"fill_alpha\":{\"value\":0.1},\"fill_color\":{\"value\":\"#1f77b4\"},\"height\":{\"value\":0.5},\"line_alpha\":{\"value\":0.1},\"line_color\":{\"value\":\"#1f77b4\"},\"right\":{\"field\":\"right\"},\"y\":{\"field\":\"y\"}},\"id\":\"55080a9b-0bbc-4183-aa44-65ed1745d73a\",\"type\":\"HBar\"},{\"attributes\":{},\"id\":\"04692ff8-f86e-4e79-8b94-8ac67af3e653\",\"type\":\"CategoricalTicker\"},{\"attributes\":{},\"id\":\"9d712d8e-c599-46a2-9f92-82ad82cda6ae\",\"type\":\"CategoricalScale\"},{\"attributes\":{\"base\":24,\"mantissas\":[1,2,4,6,8,12],\"max_interval\":43200000.0,\"min_interval\":3600000.0,\"num_minor_ticks\":0},\"id\":\"06170581-544a-44f6-a3f4-565a7f416519\",\"type\":\"AdaptiveTicker\"},{\"attributes\":{\"days\":[1,8,15,22]},\"id\":\"bdd4bbb4-d1f0-4bd3-9fc4-f9eb7bb73366\",\"type\":\"DaysTicker\"},{\"attributes\":{},\"id\":\"60aaae6a-cac5-4ba4-a751-b044f150f43e\",\"type\":\"WheelZoomTool\"},{\"attributes\":{},\"id\":\"a59063c4-bd7b-4cc9-b93e-d8539b1b0a55\",\"type\":\"YearsTicker\"},{\"attributes\":{},\"id\":\"249c44ea-e475-4795-92fd-cffa3bae7da3\",\"type\":\"DatetimeTickFormatter\"},{\"attributes\":{\"callback\":null},\"id\":\"1cd2624e-83e5-4090-a69f-4c82e555a1fd\",\"type\":\"DataRange1d\"},{\"attributes\":{\"mantissas\":[1,2,5],\"max_interval\":500.0,\"num_minor_ticks\":0},\"id\":\"f8ef0e92-c907-4a87-9ad5-b6926e7b0101\",\"type\":\"AdaptiveTicker\"},{\"attributes\":{\"months\":[0,6]},\"id\":\"1c00a65f-40a0-4787-a92b-3125ca35d222\",\"type\":\"MonthsTicker\"},{\"attributes\":{},\"id\":\"d657449f-c60a-4b76-b25d-74c79bd34f89\",\"type\":\"SaveTool\"},{\"attributes\":{\"overlay\":{\"id\":\"ef4cdc96-04de-485d-9007-b8b89eeb3097\",\"type\":\"BoxAnnotation\"}},\"id\":\"ffd357fb-1a9d-408f-b756-0d542adbdbdb\",\"type\":\"BoxZoomTool\"},{\"attributes\":{\"months\":[0,2,4,6,8,10]},\"id\":\"2230a583-97a2-4974-8b97-007987a59386\",\"type\":\"MonthsTicker\"},{\"attributes\":{},\"id\":\"4a485df7-aedb-4918-8b91-9d608df07605\",\"type\":\"LinearScale\"},{\"attributes\":{\"days\":[1,4,7,10,13,16,19,22,25,28]},\"id\":\"cdad0a92-af41-44cf-b766-d394ee2b0725\",\"type\":\"DaysTicker\"},{\"attributes\":{\"fill_color\":{\"value\":\"navy\"},\"height\":{\"value\":0.5},\"line_color\":{\"value\":\"navy\"},\"right\":{\"field\":\"right\"},\"y\":{\"field\":\"y\"}},\"id\":\"ef6b24c6-06b0-496d-9770-34503cd375d9\",\"type\":\"HBar\"},{\"attributes\":{\"formatter\":{\"id\":\"2f92c847-cd2d-4084-9aef-73e4b0f4a381\",\"type\":\"CategoricalTickFormatter\"},\"plot\":{\"id\":\"3d0653d1-9352-4282-adac-f23412df780d\",\"subtype\":\"Figure\",\"type\":\"Plot\"},\"ticker\":{\"id\":\"04692ff8-f86e-4e79-8b94-8ac67af3e653\",\"type\":\"CategoricalTicker\"}},\"id\":\"4eb8342c-f7fa-4b91-9e8c-c5074d19681f\",\"type\":\"CategoricalAxis\"},{\"attributes\":{\"days\":[1,2,3,4,5,6,7,8,9,10,11,12,13,14,15,16,17,18,19,20,21,22,23,24,25,26,27,28,29,30,31]},\"id\":\"e84973f0-8593-446f-a5f4-642f192a1a04\",\"type\":\"DaysTicker\"},{\"attributes\":{\"active_drag\":\"auto\",\"active_inspect\":\"auto\",\"active_scroll\":\"auto\",\"active_tap\":\"auto\",\"tools\":[{\"id\":\"1f87a6c5-55a1-49ae-b893-9c883f1bec6c\",\"type\":\"PanTool\"},{\"id\":\"60aaae6a-cac5-4ba4-a751-b044f150f43e\",\"type\":\"WheelZoomTool\"},{\"id\":\"ffd357fb-1a9d-408f-b756-0d542adbdbdb\",\"type\":\"BoxZoomTool\"},{\"id\":\"d657449f-c60a-4b76-b25d-74c79bd34f89\",\"type\":\"SaveTool\"},{\"id\":\"84e65037-108a-49aa-98bd-be6b0bb70431\",\"type\":\"ResetTool\"},{\"id\":\"d63b14ce-4567-4f57-a8db-ce4e221561da\",\"type\":\"HelpTool\"}]},\"id\":\"48c5412c-2215-4b02-84bf-733ac1e3f047\",\"type\":\"Toolbar\"},{\"attributes\":{\"plot\":{\"id\":\"3d0653d1-9352-4282-adac-f23412df780d\",\"subtype\":\"Figure\",\"type\":\"Plot\"},\"ticker\":{\"id\":\"03cea1ec-417d-4557-95f6-78483e1ad4f7\",\"type\":\"DatetimeTicker\"}},\"id\":\"2bc7fc18-32ac-4e66-a81b-dafe77641c5a\",\"type\":\"Grid\"},{\"attributes\":{\"months\":[0,1,2,3,4,5,6,7,8,9,10,11]},\"id\":\"6755ae08-4755-4b26-9871-164c8afc3216\",\"type\":\"MonthsTicker\"},{\"attributes\":{\"data_source\":{\"id\":\"13597737-5477-48ed-ae8c-a8a7641498cd\",\"type\":\"ColumnDataSource\"},\"glyph\":{\"id\":\"ef6b24c6-06b0-496d-9770-34503cd375d9\",\"type\":\"HBar\"},\"hover_glyph\":null,\"muted_glyph\":null,\"nonselection_glyph\":{\"id\":\"55080a9b-0bbc-4183-aa44-65ed1745d73a\",\"type\":\"HBar\"},\"selection_glyph\":null,\"view\":{\"id\":\"f65b1403-f722-4e75-8449-341e691cb208\",\"type\":\"CDSView\"}},\"id\":\"d788a885-7899-4218-8cbf-0673812bea4e\",\"type\":\"GlyphRenderer\"},{\"attributes\":{\"below\":[{\"id\":\"307b1e61-a689-415b-893b-a257614291d2\",\"type\":\"DatetimeAxis\"}],\"left\":[{\"id\":\"4eb8342c-f7fa-4b91-9e8c-c5074d19681f\",\"type\":\"CategoricalAxis\"}],\"plot_height\":400,\"renderers\":[{\"id\":\"307b1e61-a689-415b-893b-a257614291d2\",\"type\":\"DatetimeAxis\"},{\"id\":\"2bc7fc18-32ac-4e66-a81b-dafe77641c5a\",\"type\":\"Grid\"},{\"id\":\"4eb8342c-f7fa-4b91-9e8c-c5074d19681f\",\"type\":\"CategoricalAxis\"},{\"id\":\"33030915-cb8a-4a5c-8f36-4d1e93a7eb35\",\"type\":\"Grid\"},{\"id\":\"ef4cdc96-04de-485d-9007-b8b89eeb3097\",\"type\":\"BoxAnnotation\"},{\"id\":\"d788a885-7899-4218-8cbf-0673812bea4e\",\"type\":\"GlyphRenderer\"}],\"title\":{\"id\":\"1a4fb5d9-8047-4a97-9e9f-c263f5cb8008\",\"type\":\"Title\"},\"toolbar\":{\"id\":\"48c5412c-2215-4b02-84bf-733ac1e3f047\",\"type\":\"Toolbar\"},\"x_range\":{\"id\":\"1cd2624e-83e5-4090-a69f-4c82e555a1fd\",\"type\":\"DataRange1d\"},\"x_scale\":{\"id\":\"4a485df7-aedb-4918-8b91-9d608df07605\",\"type\":\"LinearScale\"},\"y_range\":{\"id\":\"72a33124-46f8-4ef6-81ba-92712209a15a\",\"type\":\"FactorRange\"},\"y_scale\":{\"id\":\"9d712d8e-c599-46a2-9f92-82ad82cda6ae\",\"type\":\"CategoricalScale\"}},\"id\":\"3d0653d1-9352-4282-adac-f23412df780d\",\"subtype\":\"Figure\",\"type\":\"Plot\"},{\"attributes\":{\"dimension\":1,\"plot\":{\"id\":\"3d0653d1-9352-4282-adac-f23412df780d\",\"subtype\":\"Figure\",\"type\":\"Plot\"},\"ticker\":{\"id\":\"04692ff8-f86e-4e79-8b94-8ac67af3e653\",\"type\":\"CategoricalTicker\"}},\"id\":\"33030915-cb8a-4a5c-8f36-4d1e93a7eb35\",\"type\":\"Grid\"},{\"attributes\":{\"callback\":null,\"column_names\":[\"y\",\"right\"],\"data\":{\"right\":[645317.814,668669.0129999999,883165.4600000001,1315694.752],\"y\":[\"10%\",\"100%\",\"2\",\"cutoff time\"]}},\"id\":\"13597737-5477-48ed-ae8c-a8a7641498cd\",\"type\":\"ColumnDataSource\"},{\"attributes\":{},\"id\":\"d63b14ce-4567-4f57-a8db-ce4e221561da\",\"type\":\"HelpTool\"},{\"attributes\":{\"plot\":null,\"text\":\"\"},\"id\":\"1a4fb5d9-8047-4a97-9e9f-c263f5cb8008\",\"type\":\"Title\"},{\"attributes\":{\"callback\":null,\"factors\":[\"10%\",\"100%\",\"2\",\"cutoff time\"]},\"id\":\"72a33124-46f8-4ef6-81ba-92712209a15a\",\"type\":\"FactorRange\"},{\"attributes\":{\"days\":[1,15]},\"id\":\"f030bd89-1252-4962-b8b7-546a9168b59d\",\"type\":\"DaysTicker\"},{\"attributes\":{},\"id\":\"1f87a6c5-55a1-49ae-b893-9c883f1bec6c\",\"type\":\"PanTool\"},{\"attributes\":{},\"id\":\"84e65037-108a-49aa-98bd-be6b0bb70431\",\"type\":\"ResetTool\"},{\"attributes\":{\"months\":[0,4,8]},\"id\":\"8d8b496e-1bb4-438b-b862-a0f649df4d27\",\"type\":\"MonthsTicker\"},{\"attributes\":{},\"id\":\"2f92c847-cd2d-4084-9aef-73e4b0f4a381\",\"type\":\"CategoricalTickFormatter\"},{\"attributes\":{\"num_minor_ticks\":5,\"tickers\":[{\"id\":\"f8ef0e92-c907-4a87-9ad5-b6926e7b0101\",\"type\":\"AdaptiveTicker\"},{\"id\":\"78369c80-56b0-47a1-96fe-714ef1ddf904\",\"type\":\"AdaptiveTicker\"},{\"id\":\"06170581-544a-44f6-a3f4-565a7f416519\",\"type\":\"AdaptiveTicker\"},{\"id\":\"e84973f0-8593-446f-a5f4-642f192a1a04\",\"type\":\"DaysTicker\"},{\"id\":\"cdad0a92-af41-44cf-b766-d394ee2b0725\",\"type\":\"DaysTicker\"},{\"id\":\"bdd4bbb4-d1f0-4bd3-9fc4-f9eb7bb73366\",\"type\":\"DaysTicker\"},{\"id\":\"f030bd89-1252-4962-b8b7-546a9168b59d\",\"type\":\"DaysTicker\"},{\"id\":\"6755ae08-4755-4b26-9871-164c8afc3216\",\"type\":\"MonthsTicker\"},{\"id\":\"2230a583-97a2-4974-8b97-007987a59386\",\"type\":\"MonthsTicker\"},{\"id\":\"8d8b496e-1bb4-438b-b862-a0f649df4d27\",\"type\":\"MonthsTicker\"},{\"id\":\"1c00a65f-40a0-4787-a92b-3125ca35d222\",\"type\":\"MonthsTicker\"},{\"id\":\"a59063c4-bd7b-4cc9-b93e-d8539b1b0a55\",\"type\":\"YearsTicker\"}]},\"id\":\"03cea1ec-417d-4557-95f6-78483e1ad4f7\",\"type\":\"DatetimeTicker\"},{\"attributes\":{\"formatter\":{\"id\":\"249c44ea-e475-4795-92fd-cffa3bae7da3\",\"type\":\"DatetimeTickFormatter\"},\"plot\":{\"id\":\"3d0653d1-9352-4282-adac-f23412df780d\",\"subtype\":\"Figure\",\"type\":\"Plot\"},\"ticker\":{\"id\":\"03cea1ec-417d-4557-95f6-78483e1ad4f7\",\"type\":\"DatetimeTicker\"}},\"id\":\"307b1e61-a689-415b-893b-a257614291d2\",\"type\":\"DatetimeAxis\"},{\"attributes\":{\"base\":60,\"mantissas\":[1,2,5,10,15,20,30],\"max_interval\":1800000.0,\"min_interval\":1000.0,\"num_minor_ticks\":0},\"id\":\"78369c80-56b0-47a1-96fe-714ef1ddf904\",\"type\":\"AdaptiveTicker\"}],\"root_ids\":[\"3d0653d1-9352-4282-adac-f23412df780d\"]},\"title\":\"Bokeh Application\",\"version\":\"0.12.14\"}};\n",
       "  var render_items = [{\"docid\":\"234513be-c842-4e6c-b77b-e0e675fcb7b0\",\"elementid\":\"4a6d7e4f-9996-4c41-9724-0a2b4b316d47\",\"modelid\":\"3d0653d1-9352-4282-adac-f23412df780d\"}];\n",
       "  root.Bokeh.embed.embed_items_notebook(docs_json, render_items);\n",
       "\n",
       "  }\n",
       "  if (root.Bokeh !== undefined) {\n",
       "    embed_document(root);\n",
       "  } else {\n",
       "    var attempts = 0;\n",
       "    var timer = setInterval(function(root) {\n",
       "      if (root.Bokeh !== undefined) {\n",
       "        embed_document(root);\n",
       "        clearInterval(timer);\n",
       "      }\n",
       "      attempts++;\n",
       "      if (attempts > 100) {\n",
       "        console.log(\"Bokeh: ERROR: Unable to run BokehJS code because BokehJS library is missing\")\n",
       "        clearInterval(timer);\n",
       "      }\n",
       "    }, 10, root)\n",
       "  }\n",
       "})(window);"
      ],
      "application/vnd.bokehjs_exec.v0+json": ""
     },
     "metadata": {
      "application/vnd.bokehjs_exec.v0+json": {
       "id": "3d0653d1-9352-4282-adac-f23412df780d"
      }
     },
     "output_type": "display_data"
    }
   ],
   "source": [
    "bar_names = ['10%', '100%', '2', 'cutoff time']\n",
    "bar_values = [default_duration, one_chunk_duration, two_per_chunk_duration, cutoff_duration]\n",
    "p = figure(y_range=bar_names, x_axis_type='datetime', plot_width=600, plot_height=400)\n",
    "p.hbar(y=bar_names, height=0.5, left=0,\n",
    "       right=bar_values, color=\"navy\")\n",
    "\n",
    "show(p)"
   ]
  },
  {
   "cell_type": "markdown",
   "metadata": {},
   "source": [
    "#### Fewer Unique Cutoff Times\n",
    "\n",
    "Next we group the timestamps in the cutoff time dataframe by week to reduce the number of unique cutoff times to 55 from over 4000.  This speeds up the overall computation because there is more shareable computation when calculating.  This also causes a more noticeable drop in performance when choosing chunk sizes much smaller than the number of unique cutoff times."
   ]
  },
  {
   "cell_type": "code",
   "execution_count": 12,
   "metadata": {},
   "outputs": [
    {
     "name": "stdout",
     "output_type": "stream",
     "text": [
      "Number of unique cutoff times: 55\n",
      "Largest cutoff group: 532 instances\n",
      "Largest cutoff percent of whole: 0.121656\n"
     ]
    }
   ],
   "source": [
    "binned_cutoffs = bin_cutoff_times(cutoff_time.copy(), '7 days')\n",
    "grouped = binned_cutoffs.groupby('time').count()\n",
    "print(\"Number of unique cutoff times: \" + str(len(grouped)))\n",
    "max_cutoff_size = grouped.max()[0]\n",
    "print(\"Largest cutoff group: %d instances\" % max_cutoff_size)\n",
    "max_cutoff_percent = float(max_cutoff_size)/binned_cutoffs.shape[0]\n",
    "print(\"Largest cutoff percent of whole: %f\" % (max_cutoff_percent))"
   ]
  },
  {
   "cell_type": "code",
   "execution_count": 13,
   "metadata": {},
   "outputs": [
    {
     "data": {
      "text/html": [
       "<div>\n",
       "<style>\n",
       "    .dataframe thead tr:only-child th {\n",
       "        text-align: right;\n",
       "    }\n",
       "\n",
       "    .dataframe thead th {\n",
       "        text-align: left;\n",
       "    }\n",
       "\n",
       "    .dataframe tbody tr th {\n",
       "        vertical-align: top;\n",
       "    }\n",
       "</style>\n",
       "<table border=\"1\" class=\"dataframe\">\n",
       "  <thead>\n",
       "    <tr style=\"text-align: right;\">\n",
       "      <th></th>\n",
       "      <th>instance_id</th>\n",
       "      <th>time</th>\n",
       "    </tr>\n",
       "    <tr>\n",
       "      <th>CustomerID</th>\n",
       "      <th></th>\n",
       "      <th></th>\n",
       "    </tr>\n",
       "  </thead>\n",
       "  <tbody>\n",
       "    <tr>\n",
       "      <th>17850.0</th>\n",
       "      <td>17850.0</td>\n",
       "      <td>2011-02-10</td>\n",
       "    </tr>\n",
       "    <tr>\n",
       "      <th>13047.0</th>\n",
       "      <td>13047.0</td>\n",
       "      <td>2011-11-03</td>\n",
       "    </tr>\n",
       "    <tr>\n",
       "      <th>12583.0</th>\n",
       "      <td>12583.0</td>\n",
       "      <td>2011-12-01</td>\n",
       "    </tr>\n",
       "    <tr>\n",
       "      <th>13748.0</th>\n",
       "      <td>13748.0</td>\n",
       "      <td>2011-09-01</td>\n",
       "    </tr>\n",
       "    <tr>\n",
       "      <th>15100.0</th>\n",
       "      <td>15100.0</td>\n",
       "      <td>2011-01-13</td>\n",
       "    </tr>\n",
       "  </tbody>\n",
       "</table>\n",
       "</div>"
      ],
      "text/plain": [
       "            instance_id       time\n",
       "CustomerID                        \n",
       "17850.0         17850.0 2011-02-10\n",
       "13047.0         13047.0 2011-11-03\n",
       "12583.0         12583.0 2011-12-01\n",
       "13748.0         13748.0 2011-09-01\n",
       "15100.0         15100.0 2011-01-13"
      ]
     },
     "execution_count": 13,
     "metadata": {},
     "output_type": "execute_result"
    }
   ],
   "source": [
    "binned_cutoffs.head()"
   ]
  },
  {
   "cell_type": "markdown",
   "metadata": {},
   "source": [
    "#### 10% per chunk"
   ]
  },
  {
   "cell_type": "code",
   "execution_count": 14,
   "metadata": {},
   "outputs": [
    {
     "name": "stdout",
     "output_type": "stream",
     "text": [
      "Building features: 134it [00:00, 5547.69it/s]\n",
      "Elapsed: 00:00 | Remaining: 00:00 | Progress: 100%|██████████||, Chunks created: 11\n",
      "Elapsed: 00:54 | Remaining: 00:00 | Progress: 100%|██████████|| Calculated: 11/11 chunks\n"
     ]
    }
   ],
   "source": [
    "start = time.time()\n",
    "feature_matrix, features = ft.dfs(entityset=retail_es,\n",
    "                                  target_entity=\"customers\",\n",
    "                                  verbose=True,\n",
    "                                  cutoff_time=binned_cutoffs)\n",
    "stop = time.time()\n",
    "default_duration = datetime.timedelta(seconds=stop-start)"
   ]
  },
  {
   "cell_type": "markdown",
   "metadata": {},
   "source": [
    "#### 1 chunk"
   ]
  },
  {
   "cell_type": "code",
   "execution_count": 15,
   "metadata": {},
   "outputs": [
    {
     "name": "stdout",
     "output_type": "stream",
     "text": [
      "Building features: 134it [00:00, 4124.22it/s]\n",
      "Elapsed: 00:00 | Remaining: 00:00 | Progress: 100%|██████████||, Chunks created: 1\n",
      "Elapsed: 00:52 | Remaining: 00:00 | Progress: 100%|██████████|| Calculated: 1/1 chunks\n"
     ]
    }
   ],
   "source": [
    "start = time.time()\n",
    "feature_matrix, features = ft.dfs(entityset=retail_es,\n",
    "                                  cutoff_time=binned_cutoffs,\n",
    "                                  target_entity=\"customers\",\n",
    "                                  chunk_size=4373,\n",
    "                                  verbose=True)\n",
    "stop = time.time()\n",
    "one_chunk_duration = datetime.timedelta(seconds=stop-start)"
   ]
  },
  {
   "cell_type": "markdown",
   "metadata": {},
   "source": [
    "#### Mean cutoff time group size\n",
    "\n",
    "Trying a new chunk size, the average cutoff time group size, or about 1.829% of the entire list of cutoff times"
   ]
  },
  {
   "cell_type": "code",
   "execution_count": 16,
   "metadata": {},
   "outputs": [
    {
     "data": {
      "text/plain": [
       "instance_id    79.490909\n",
       "dtype: float64"
      ]
     },
     "execution_count": 16,
     "metadata": {},
     "output_type": "execute_result"
    }
   ],
   "source": [
    "binned_cutoffs.groupby('time').count().mean()"
   ]
  },
  {
   "cell_type": "code",
   "execution_count": 17,
   "metadata": {},
   "outputs": [
    {
     "name": "stdout",
     "output_type": "stream",
     "text": [
      "Building features: 134it [00:00, 6724.21it/s]\n",
      "Elapsed: 00:00 | Remaining: 00:00 | Progress: 100%|██████████||, Chunks created: 57\n",
      "Elapsed: 01:00 | Remaining: 00:00 | Progress: 100%|██████████|| Calculated: 57/57 chunks\n"
     ]
    }
   ],
   "source": [
    "start = time.time()\n",
    "feature_matrix, features = ft.dfs(entityset=retail_es,\n",
    "                                  cutoff_time=binned_cutoffs,\n",
    "                                  target_entity=\"customers\",\n",
    "                                  chunk_size=80,\n",
    "                                  verbose=True)\n",
    "stop = time.time()\n",
    "mean_group_size_duration = datetime.timedelta(seconds=stop-start)"
   ]
  },
  {
   "cell_type": "markdown",
   "metadata": {},
   "source": [
    "#### 10 cutoffs per chunk "
   ]
  },
  {
   "cell_type": "code",
   "execution_count": 18,
   "metadata": {},
   "outputs": [
    {
     "name": "stdout",
     "output_type": "stream",
     "text": [
      "Building features: 134it [00:00, 8444.70it/s]\n",
      "Elapsed: 00:00 | Remaining: 00:00 | Progress: 100%|██████████||, Chunks created: 440\n",
      "Elapsed: 02:02 | Remaining: 00:00 | Progress: 100%|██████████|| Calculated: 440/440 chunks\n"
     ]
    }
   ],
   "source": [
    "start = time.time()\n",
    "feature_matrix, features = ft.dfs(entityset=retail_es,\n",
    "                                  cutoff_time=binned_cutoffs,\n",
    "                                  target_entity=\"customers\",\n",
    "                                  chunk_size=10,\n",
    "                                  verbose=True)\n",
    "stop = time.time()\n",
    "ten_per_chunk_duration = datetime.timedelta(seconds=stop-start)"
   ]
  },
  {
   "cell_type": "markdown",
   "metadata": {},
   "source": [
    "#### \"cutoff time\" option"
   ]
  },
  {
   "cell_type": "code",
   "execution_count": 19,
   "metadata": {},
   "outputs": [
    {
     "name": "stdout",
     "output_type": "stream",
     "text": [
      "Building features: 134it [00:00, 5416.75it/s]\n",
      "Elapsed: 00:00 | Remaining: 00:00 | Progress: 100%|██████████||, Chunks created: 55\n",
      "Elapsed: 00:57 | Remaining: 00:00 | Progress: 100%|██████████|| Calculated: 55/55 chunks\n"
     ]
    }
   ],
   "source": [
    "start = time.time()\n",
    "feature_matrix, features = ft.dfs(entityset=retail_es,\n",
    "                                  cutoff_time=binned_cutoffs,\n",
    "                                  target_entity=\"customers\",\n",
    "                                  chunk_size=\"cutoff time\",\n",
    "                                  verbose=True)\n",
    "stop = time.time()\n",
    "cutoff_duration = datetime.timedelta(seconds=stop-start)"
   ]
  },
  {
   "cell_type": "code",
   "execution_count": 20,
   "metadata": {},
   "outputs": [
    {
     "data": {
      "text/html": [
       "\n",
       "<div class=\"bk-root\">\n",
       "    <div class=\"bk-plotdiv\" id=\"a513a7ae-d785-467d-b5f5-f6f05689db89\"></div>\n",
       "</div>"
      ]
     },
     "metadata": {},
     "output_type": "display_data"
    },
    {
     "data": {
      "application/javascript": [
       "(function(root) {\n",
       "  function embed_document(root) {\n",
       "    \n",
       "  var docs_json = {\"60083fe6-8c56-4c1e-b73c-2c4e5c7df655\":{\"roots\":{\"references\":[{\"attributes\":{\"months\":[0,1,2,3,4,5,6,7,8,9,10,11]},\"id\":\"a0c5fcb3-4b7c-4dd4-a770-01172b789ecf\",\"type\":\"MonthsTicker\"},{\"attributes\":{\"active_drag\":\"auto\",\"active_inspect\":\"auto\",\"active_scroll\":\"auto\",\"active_tap\":\"auto\",\"tools\":[{\"id\":\"1df359ff-6a1d-421b-9871-bf23e7a185ff\",\"type\":\"PanTool\"},{\"id\":\"d6d1494d-ce66-4848-a762-9e8747713419\",\"type\":\"WheelZoomTool\"},{\"id\":\"f8a22c35-b2a1-4517-ae20-0f5a74de42f8\",\"type\":\"BoxZoomTool\"},{\"id\":\"44a66940-6d74-4209-91dc-aace458ad8c2\",\"type\":\"SaveTool\"},{\"id\":\"d14c0407-da30-4236-95ca-fffa8fcb4767\",\"type\":\"ResetTool\"},{\"id\":\"4f92895d-52fb-4ba2-ab45-c540699e96a7\",\"type\":\"HelpTool\"}]},\"id\":\"e12b110b-36d7-4308-95ad-27c7fbd63ec5\",\"type\":\"Toolbar\"},{\"attributes\":{\"plot\":{\"id\":\"1c123415-7d4b-4cfc-8312-65d50aa9702b\",\"subtype\":\"Figure\",\"type\":\"Plot\"},\"ticker\":{\"id\":\"209a3a93-574a-4f04-a45c-d9ddc771a5e2\",\"type\":\"DatetimeTicker\"}},\"id\":\"ba454feb-52d4-490f-8e10-be2ff4ff0217\",\"type\":\"Grid\"},{\"attributes\":{},\"id\":\"ec9f5f0b-6685-43ea-b4a3-81f29196cdc4\",\"type\":\"CategoricalTickFormatter\"},{\"attributes\":{\"callback\":null,\"column_names\":[\"y\",\"right\"],\"data\":{\"right\":[54798.591,52688.535,60902.599,124761.741,57275.276],\"y\":[\"10%\",\"100%\",\"mean group size\",\"10\",\"cutoff time\"]}},\"id\":\"c9288fc8-f79d-434c-9815-50057047099d\",\"type\":\"ColumnDataSource\"},{\"attributes\":{},\"id\":\"4f92895d-52fb-4ba2-ab45-c540699e96a7\",\"type\":\"HelpTool\"},{\"attributes\":{\"overlay\":{\"id\":\"8b32c9e8-fab2-409a-8258-e03c404b0588\",\"type\":\"BoxAnnotation\"}},\"id\":\"f8a22c35-b2a1-4517-ae20-0f5a74de42f8\",\"type\":\"BoxZoomTool\"},{\"attributes\":{\"base\":24,\"mantissas\":[1,2,4,6,8,12],\"max_interval\":43200000.0,\"min_interval\":3600000.0,\"num_minor_ticks\":0},\"id\":\"8fc4591c-d7f7-4a5b-a9f2-034ea9c879b1\",\"type\":\"AdaptiveTicker\"},{\"attributes\":{\"days\":[1,15]},\"id\":\"ecd5e160-4584-4e99-b702-bfd08d1f528a\",\"type\":\"DaysTicker\"},{\"attributes\":{\"months\":[0,6]},\"id\":\"82e41141-cc34-4bc9-ac81-77abffce19da\",\"type\":\"MonthsTicker\"},{\"attributes\":{\"days\":[1,8,15,22]},\"id\":\"95e48831-2fb2-4cd9-af62-6c6b68543821\",\"type\":\"DaysTicker\"},{\"attributes\":{\"fill_alpha\":{\"value\":0.1},\"fill_color\":{\"value\":\"#1f77b4\"},\"height\":{\"value\":0.5},\"line_alpha\":{\"value\":0.1},\"line_color\":{\"value\":\"#1f77b4\"},\"right\":{\"field\":\"right\"},\"y\":{\"field\":\"y\"}},\"id\":\"272a6f40-1bd7-48c6-b7c9-899ceca4031a\",\"type\":\"HBar\"},{\"attributes\":{\"callback\":null,\"factors\":[\"10%\",\"100%\",\"mean group size\",\"10\",\"cutoff time\"]},\"id\":\"f76bf60e-8c23-446e-9823-1828a4fb443d\",\"type\":\"FactorRange\"},{\"attributes\":{},\"id\":\"a34c79ef-e6e9-4925-9eed-2a42b0c45426\",\"type\":\"LinearScale\"},{\"attributes\":{\"callback\":null},\"id\":\"c66a3514-b354-4b56-82f5-c5cb7fc4812a\",\"type\":\"DataRange1d\"},{\"attributes\":{\"fill_color\":{\"value\":\"navy\"},\"height\":{\"value\":0.5},\"line_color\":{\"value\":\"navy\"},\"right\":{\"field\":\"right\"},\"y\":{\"field\":\"y\"}},\"id\":\"4ac885d2-c32c-4303-8cec-16ffb8d35651\",\"type\":\"HBar\"},{\"attributes\":{\"formatter\":{\"id\":\"ec9f5f0b-6685-43ea-b4a3-81f29196cdc4\",\"type\":\"CategoricalTickFormatter\"},\"plot\":{\"id\":\"1c123415-7d4b-4cfc-8312-65d50aa9702b\",\"subtype\":\"Figure\",\"type\":\"Plot\"},\"ticker\":{\"id\":\"d6eeedac-7c94-4925-989d-1b8ceb5ed094\",\"type\":\"CategoricalTicker\"}},\"id\":\"5be6966f-ec7e-49ba-860c-8502b2ef6f14\",\"type\":\"CategoricalAxis\"},{\"attributes\":{},\"id\":\"44a66940-6d74-4209-91dc-aace458ad8c2\",\"type\":\"SaveTool\"},{\"attributes\":{},\"id\":\"d6d1494d-ce66-4848-a762-9e8747713419\",\"type\":\"WheelZoomTool\"},{\"attributes\":{\"months\":[0,2,4,6,8,10]},\"id\":\"6e296098-efdb-4836-a365-0285690ded50\",\"type\":\"MonthsTicker\"},{\"attributes\":{},\"id\":\"bb90f60a-1c9b-4045-b1e5-1015f8b3edc9\",\"type\":\"DatetimeTickFormatter\"},{\"attributes\":{\"bottom_units\":\"screen\",\"fill_alpha\":{\"value\":0.5},\"fill_color\":{\"value\":\"lightgrey\"},\"left_units\":\"screen\",\"level\":\"overlay\",\"line_alpha\":{\"value\":1.0},\"line_color\":{\"value\":\"black\"},\"line_dash\":[4,4],\"line_width\":{\"value\":2},\"plot\":null,\"render_mode\":\"css\",\"right_units\":\"screen\",\"top_units\":\"screen\"},\"id\":\"8b32c9e8-fab2-409a-8258-e03c404b0588\",\"type\":\"BoxAnnotation\"},{\"attributes\":{},\"id\":\"d6eeedac-7c94-4925-989d-1b8ceb5ed094\",\"type\":\"CategoricalTicker\"},{\"attributes\":{},\"id\":\"a9a1bb5d-4c54-4732-90f0-297bf599ab3b\",\"type\":\"YearsTicker\"},{\"attributes\":{\"num_minor_ticks\":5,\"tickers\":[{\"id\":\"740d29f8-6d8f-46c0-b7b9-9037deec2fc1\",\"type\":\"AdaptiveTicker\"},{\"id\":\"6a63a441-5e1d-4664-9e61-d792b893f234\",\"type\":\"AdaptiveTicker\"},{\"id\":\"8fc4591c-d7f7-4a5b-a9f2-034ea9c879b1\",\"type\":\"AdaptiveTicker\"},{\"id\":\"4acc5171-6ba0-4d74-9ea5-c1783f10005d\",\"type\":\"DaysTicker\"},{\"id\":\"755f0bc8-37be-4f8d-983f-4ddcf75e25e2\",\"type\":\"DaysTicker\"},{\"id\":\"95e48831-2fb2-4cd9-af62-6c6b68543821\",\"type\":\"DaysTicker\"},{\"id\":\"ecd5e160-4584-4e99-b702-bfd08d1f528a\",\"type\":\"DaysTicker\"},{\"id\":\"a0c5fcb3-4b7c-4dd4-a770-01172b789ecf\",\"type\":\"MonthsTicker\"},{\"id\":\"6e296098-efdb-4836-a365-0285690ded50\",\"type\":\"MonthsTicker\"},{\"id\":\"67609f1c-1426-4ec0-b04a-acc3708595ce\",\"type\":\"MonthsTicker\"},{\"id\":\"82e41141-cc34-4bc9-ac81-77abffce19da\",\"type\":\"MonthsTicker\"},{\"id\":\"a9a1bb5d-4c54-4732-90f0-297bf599ab3b\",\"type\":\"YearsTicker\"}]},\"id\":\"209a3a93-574a-4f04-a45c-d9ddc771a5e2\",\"type\":\"DatetimeTicker\"},{\"attributes\":{},\"id\":\"d14c0407-da30-4236-95ca-fffa8fcb4767\",\"type\":\"ResetTool\"},{\"attributes\":{\"plot\":null,\"text\":\"\"},\"id\":\"481eaa08-701d-49a3-bf2f-ba2789d3e5c3\",\"type\":\"Title\"},{\"attributes\":{\"days\":[1,4,7,10,13,16,19,22,25,28]},\"id\":\"755f0bc8-37be-4f8d-983f-4ddcf75e25e2\",\"type\":\"DaysTicker\"},{\"attributes\":{\"months\":[0,4,8]},\"id\":\"67609f1c-1426-4ec0-b04a-acc3708595ce\",\"type\":\"MonthsTicker\"},{\"attributes\":{\"below\":[{\"id\":\"7d4062e3-8bb7-4b55-8a0c-4e598ea8a979\",\"type\":\"DatetimeAxis\"}],\"left\":[{\"id\":\"5be6966f-ec7e-49ba-860c-8502b2ef6f14\",\"type\":\"CategoricalAxis\"}],\"plot_height\":500,\"renderers\":[{\"id\":\"7d4062e3-8bb7-4b55-8a0c-4e598ea8a979\",\"type\":\"DatetimeAxis\"},{\"id\":\"ba454feb-52d4-490f-8e10-be2ff4ff0217\",\"type\":\"Grid\"},{\"id\":\"5be6966f-ec7e-49ba-860c-8502b2ef6f14\",\"type\":\"CategoricalAxis\"},{\"id\":\"c8ea74c3-c2de-4733-8960-02c6981e9c32\",\"type\":\"Grid\"},{\"id\":\"8b32c9e8-fab2-409a-8258-e03c404b0588\",\"type\":\"BoxAnnotation\"},{\"id\":\"86002d87-3e18-42e6-8fdd-92d905cec408\",\"type\":\"GlyphRenderer\"}],\"title\":{\"id\":\"481eaa08-701d-49a3-bf2f-ba2789d3e5c3\",\"type\":\"Title\"},\"toolbar\":{\"id\":\"e12b110b-36d7-4308-95ad-27c7fbd63ec5\",\"type\":\"Toolbar\"},\"x_range\":{\"id\":\"c66a3514-b354-4b56-82f5-c5cb7fc4812a\",\"type\":\"DataRange1d\"},\"x_scale\":{\"id\":\"a34c79ef-e6e9-4925-9eed-2a42b0c45426\",\"type\":\"LinearScale\"},\"y_range\":{\"id\":\"f76bf60e-8c23-446e-9823-1828a4fb443d\",\"type\":\"FactorRange\"},\"y_scale\":{\"id\":\"c0094d54-7955-4ef7-a3a4-fe44b2e36162\",\"type\":\"CategoricalScale\"}},\"id\":\"1c123415-7d4b-4cfc-8312-65d50aa9702b\",\"subtype\":\"Figure\",\"type\":\"Plot\"},{\"attributes\":{\"base\":60,\"mantissas\":[1,2,5,10,15,20,30],\"max_interval\":1800000.0,\"min_interval\":1000.0,\"num_minor_ticks\":0},\"id\":\"6a63a441-5e1d-4664-9e61-d792b893f234\",\"type\":\"AdaptiveTicker\"},{\"attributes\":{\"source\":{\"id\":\"c9288fc8-f79d-434c-9815-50057047099d\",\"type\":\"ColumnDataSource\"}},\"id\":\"8dc6e149-94df-49fc-b981-48ca039fecf7\",\"type\":\"CDSView\"},{\"attributes\":{\"mantissas\":[1,2,5],\"max_interval\":500.0,\"num_minor_ticks\":0},\"id\":\"740d29f8-6d8f-46c0-b7b9-9037deec2fc1\",\"type\":\"AdaptiveTicker\"},{\"attributes\":{},\"id\":\"c0094d54-7955-4ef7-a3a4-fe44b2e36162\",\"type\":\"CategoricalScale\"},{\"attributes\":{\"formatter\":{\"id\":\"bb90f60a-1c9b-4045-b1e5-1015f8b3edc9\",\"type\":\"DatetimeTickFormatter\"},\"plot\":{\"id\":\"1c123415-7d4b-4cfc-8312-65d50aa9702b\",\"subtype\":\"Figure\",\"type\":\"Plot\"},\"ticker\":{\"id\":\"209a3a93-574a-4f04-a45c-d9ddc771a5e2\",\"type\":\"DatetimeTicker\"}},\"id\":\"7d4062e3-8bb7-4b55-8a0c-4e598ea8a979\",\"type\":\"DatetimeAxis\"},{\"attributes\":{\"days\":[1,2,3,4,5,6,7,8,9,10,11,12,13,14,15,16,17,18,19,20,21,22,23,24,25,26,27,28,29,30,31]},\"id\":\"4acc5171-6ba0-4d74-9ea5-c1783f10005d\",\"type\":\"DaysTicker\"},{\"attributes\":{\"data_source\":{\"id\":\"c9288fc8-f79d-434c-9815-50057047099d\",\"type\":\"ColumnDataSource\"},\"glyph\":{\"id\":\"4ac885d2-c32c-4303-8cec-16ffb8d35651\",\"type\":\"HBar\"},\"hover_glyph\":null,\"muted_glyph\":null,\"nonselection_glyph\":{\"id\":\"272a6f40-1bd7-48c6-b7c9-899ceca4031a\",\"type\":\"HBar\"},\"selection_glyph\":null,\"view\":{\"id\":\"8dc6e149-94df-49fc-b981-48ca039fecf7\",\"type\":\"CDSView\"}},\"id\":\"86002d87-3e18-42e6-8fdd-92d905cec408\",\"type\":\"GlyphRenderer\"},{\"attributes\":{},\"id\":\"1df359ff-6a1d-421b-9871-bf23e7a185ff\",\"type\":\"PanTool\"},{\"attributes\":{\"dimension\":1,\"plot\":{\"id\":\"1c123415-7d4b-4cfc-8312-65d50aa9702b\",\"subtype\":\"Figure\",\"type\":\"Plot\"},\"ticker\":{\"id\":\"d6eeedac-7c94-4925-989d-1b8ceb5ed094\",\"type\":\"CategoricalTicker\"}},\"id\":\"c8ea74c3-c2de-4733-8960-02c6981e9c32\",\"type\":\"Grid\"}],\"root_ids\":[\"1c123415-7d4b-4cfc-8312-65d50aa9702b\"]},\"title\":\"Bokeh Application\",\"version\":\"0.12.14\"}};\n",
       "  var render_items = [{\"docid\":\"60083fe6-8c56-4c1e-b73c-2c4e5c7df655\",\"elementid\":\"a513a7ae-d785-467d-b5f5-f6f05689db89\",\"modelid\":\"1c123415-7d4b-4cfc-8312-65d50aa9702b\"}];\n",
       "  root.Bokeh.embed.embed_items_notebook(docs_json, render_items);\n",
       "\n",
       "  }\n",
       "  if (root.Bokeh !== undefined) {\n",
       "    embed_document(root);\n",
       "  } else {\n",
       "    var attempts = 0;\n",
       "    var timer = setInterval(function(root) {\n",
       "      if (root.Bokeh !== undefined) {\n",
       "        embed_document(root);\n",
       "        clearInterval(timer);\n",
       "      }\n",
       "      attempts++;\n",
       "      if (attempts > 100) {\n",
       "        console.log(\"Bokeh: ERROR: Unable to run BokehJS code because BokehJS library is missing\")\n",
       "        clearInterval(timer);\n",
       "      }\n",
       "    }, 10, root)\n",
       "  }\n",
       "})(window);"
      ],
      "application/vnd.bokehjs_exec.v0+json": ""
     },
     "metadata": {
      "application/vnd.bokehjs_exec.v0+json": {
       "id": "1c123415-7d4b-4cfc-8312-65d50aa9702b"
      }
     },
     "output_type": "display_data"
    }
   ],
   "source": [
    "bar_names = ['10%', '100%', 'mean group size', '10', 'cutoff time']\n",
    "bar_values = [default_duration, one_chunk_duration, mean_group_size_duration, ten_per_chunk_duration, cutoff_duration]\n",
    "p = figure(y_range=bar_names, x_axis_type='datetime', plot_width=600, plot_height=500)\n",
    "p.hbar(y=bar_names, height=0.5, left=0,\n",
    "       right=bar_values, color=\"navy\")\n",
    "\n",
    "show(p)"
   ]
  },
  {
   "cell_type": "markdown",
   "metadata": {},
   "source": [
    "### Instacart Dataset\n",
    "\n",
    "Next we'll try some examples using the Instacart dataset used in the Predict Next Purchase demo."
   ]
  },
  {
   "cell_type": "code",
   "execution_count": 21,
   "metadata": {},
   "outputs": [
    {
     "name": "stdout",
     "output_type": "stream",
     "text": [
      "            user_id  label\n",
      "time                      \n",
      "2015-03-15     7790   7790\n",
      "2015-06-15     4458   4458\n",
      "2015-09-15     2515   2515\n",
      "2015-12-15     1091   1091\n"
     ]
    }
   ],
   "source": [
    "import utils\n",
    "\n",
    "# import entityset\n",
    "instacart_es = utils.load_entityset(\"partitioned_data/part_1/\")\n",
    "\n",
    "# make labels and cutoff times\n",
    "label_times = pd.concat([utils.make_labels(es=instacart_es,\n",
    "                                           product_name = \"Banana\",\n",
    "                                           cutoff_time = pd.Timestamp('March 15, 2015'),\n",
    "                                           prediction_window = ft.Timedelta(\"4 weeks\"),\n",
    "                                           training_window = ft.Timedelta(\"60 days\")),\n",
    "                         utils.make_labels(es=instacart_es,\n",
    "                                           product_name = \"Banana\",\n",
    "                                           cutoff_time = pd.Timestamp('June 15, 2015'),\n",
    "                                           prediction_window = ft.Timedelta(\"4 weeks\"),\n",
    "                                           training_window = ft.Timedelta(\"60 days\")),\n",
    "                         utils.make_labels(es=instacart_es,\n",
    "                                           product_name = \"Banana\",\n",
    "                                           cutoff_time = pd.Timestamp('September 15, 2015'),\n",
    "                                           prediction_window = ft.Timedelta(\"4 weeks\"),\n",
    "                                           training_window = ft.Timedelta(\"60 days\")),\n",
    "                         utils.make_labels(es=instacart_es,\n",
    "                                           product_name = \"Banana\",\n",
    "                                           cutoff_time = pd.Timestamp('December 15, 2015'),\n",
    "                                           prediction_window = ft.Timedelta(\"4 weeks\"),\n",
    "                                           training_window = ft.Timedelta(\"60 days\")),],\n",
    "                       ignore_index=True)\n",
    "\n",
    "print(label_times.groupby('time').count())"
   ]
  },
  {
   "cell_type": "markdown",
   "metadata": {},
   "source": [
    "One cutoff time group accounts for nearly half of all rows of the cutoff time dataframe. As we can see by comparing the single chunk and group by cutoff time cases with the default 10% chunk size, in this scenario keeping the entire cutoff time group together slows down the computation. "
   ]
  },
  {
   "cell_type": "markdown",
   "metadata": {},
   "source": [
    "#### 10% per chunk"
   ]
  },
  {
   "cell_type": "code",
   "execution_count": 22,
   "metadata": {},
   "outputs": [
    {
     "name": "stdout",
     "output_type": "stream",
     "text": [
      "Building features: 120it [00:00, 3604.80it/s]\n",
      "Elapsed: 00:00 | Remaining: 00:00 | Progress: 100%|██████████||, Chunks created: 11\n",
      "Elapsed: 03:27 | Remaining: 00:00 | Progress: 100%|██████████|| Calculated: 11/11 chunks\n"
     ]
    }
   ],
   "source": [
    "start = time.time()\n",
    "feature_matrix, features = ft.dfs(target_entity=\"users\", \n",
    "                                  cutoff_time=label_times,\n",
    "                                  training_window=ft.Timedelta(\"60 days\"),\n",
    "                                  entityset=instacart_es,\n",
    "                                  verbose=True)\n",
    "stop = time.time()\n",
    "default_duration = datetime.timedelta(seconds=stop-start)"
   ]
  },
  {
   "cell_type": "markdown",
   "metadata": {},
   "source": [
    "#### 1 chunk"
   ]
  },
  {
   "cell_type": "code",
   "execution_count": 23,
   "metadata": {},
   "outputs": [
    {
     "name": "stdout",
     "output_type": "stream",
     "text": [
      "Building features: 120it [00:00, 3745.78it/s]\n",
      "Elapsed: 00:00 | Remaining: 00:00 | Progress: 100%|██████████||, Chunks created: 1\n",
      "Elapsed: 05:00 | Remaining: 00:00 | Progress: 100%|██████████|| Calculated: 1/1 chunks\n"
     ]
    }
   ],
   "source": [
    "start = time.time()\n",
    "feature_matrix, features = ft.dfs(target_entity=\"users\", \n",
    "                                  cutoff_time=label_times,\n",
    "                                  training_window=ft.Timedelta(\"60 days\"),\n",
    "                                  entityset=instacart_es,\n",
    "                                  chunk_size=15854,\n",
    "                                  verbose=True)\n",
    "stop = time.time()\n",
    "one_chunk_duration = datetime.timedelta(seconds=stop-start)"
   ]
  },
  {
   "cell_type": "markdown",
   "metadata": {},
   "source": [
    "#### 250 per chunk"
   ]
  },
  {
   "cell_type": "code",
   "execution_count": 24,
   "metadata": {},
   "outputs": [
    {
     "name": "stdout",
     "output_type": "stream",
     "text": [
      "Building features: 120it [00:00, 3858.78it/s]\n",
      "Elapsed: 00:00 | Remaining: 00:00 | Progress: 100%|██████████||, Chunks created: 64\n",
      "Elapsed: 03:39 | Remaining: 00:00 | Progress: 100%|██████████|| Calculated: 64/64 chunks\n"
     ]
    }
   ],
   "source": [
    "start = time.time()\n",
    "feature_matrix, features = ft.dfs(target_entity=\"users\", \n",
    "                                  cutoff_time=label_times,\n",
    "                                  training_window=ft.Timedelta(\"60 days\"),\n",
    "                                  entityset=instacart_es,\n",
    "                                  chunk_size=250,\n",
    "                                  verbose=True)\n",
    "stop = time.time()\n",
    "two_fifty_per_chunk_duration = datetime.timedelta(seconds=stop-start)"
   ]
  },
  {
   "cell_type": "markdown",
   "metadata": {},
   "source": [
    "#### 100 per chunk"
   ]
  },
  {
   "cell_type": "code",
   "execution_count": 25,
   "metadata": {},
   "outputs": [
    {
     "name": "stdout",
     "output_type": "stream",
     "text": [
      "Building features: 120it [00:00, 3438.68it/s]\n",
      "Elapsed: 00:00 | Remaining: 00:00 | Progress: 100%|██████████||, Chunks created: 159\n",
      "Elapsed: 03:59 | Remaining: 00:00 | Progress: 100%|██████████|| Calculated: 159/159 chunks\n"
     ]
    }
   ],
   "source": [
    "start = time.time()\n",
    "feature_matrix, features = ft.dfs(target_entity=\"users\", \n",
    "                                  cutoff_time=label_times,\n",
    "                                  training_window=ft.Timedelta(\"60 days\"),\n",
    "                                  entityset=instacart_es,\n",
    "                                  chunk_size=100,\n",
    "                                  verbose=True)\n",
    "stop = time.time()\n",
    "one_hundred_per_chunk_duration = datetime.timedelta(seconds=stop-start)"
   ]
  },
  {
   "cell_type": "markdown",
   "metadata": {},
   "source": [
    "#### \"cutoff time\" option"
   ]
  },
  {
   "cell_type": "code",
   "execution_count": 26,
   "metadata": {},
   "outputs": [
    {
     "name": "stdout",
     "output_type": "stream",
     "text": [
      "Building features: 120it [00:00, 3838.42it/s]\n",
      "Elapsed: 00:00 | Remaining: 00:00 | Progress: 100%|██████████||, Chunks created: 4\n",
      "Elapsed: 04:32 | Remaining: 00:00 | Progress: 100%|██████████|| Calculated: 4/4 chunks\n"
     ]
    }
   ],
   "source": [
    "start = time.time()\n",
    "feature_matrix, features = ft.dfs(target_entity=\"users\", \n",
    "                                  cutoff_time=label_times,\n",
    "                                  training_window=ft.Timedelta(\"60 days\"),\n",
    "                                  entityset=instacart_es,\n",
    "                                  chunk_size=\"cutoff time\",\n",
    "                                  verbose=True)\n",
    "stop = time.time()\n",
    "cutoff_duration = datetime.timedelta(seconds=stop-start)"
   ]
  },
  {
   "cell_type": "code",
   "execution_count": 28,
   "metadata": {},
   "outputs": [
    {
     "data": {
      "text/html": [
       "\n",
       "<div class=\"bk-root\">\n",
       "    <div class=\"bk-plotdiv\" id=\"fe5a7e95-7e09-4bd5-84ca-7dce8a3bb467\"></div>\n",
       "</div>"
      ]
     },
     "metadata": {},
     "output_type": "display_data"
    },
    {
     "data": {
      "application/javascript": [
       "(function(root) {\n",
       "  function embed_document(root) {\n",
       "    \n",
       "  var docs_json = {\"32f5a865-4104-48cb-a391-4ad54ccc523d\":{\"roots\":{\"references\":[{\"attributes\":{},\"id\":\"6821e3e6-0b11-454c-b62c-92b1625bb5fc\",\"type\":\"DatetimeTickFormatter\"},{\"attributes\":{\"days\":[1,8,15,22]},\"id\":\"a7490aa9-3027-47ba-8ac2-9dcc577c0027\",\"type\":\"DaysTicker\"},{\"attributes\":{\"below\":[{\"id\":\"856142cd-8668-4a77-b0eb-70380eb5e289\",\"type\":\"DatetimeAxis\"}],\"left\":[{\"id\":\"b7fbb5a5-bd6e-466c-a0f6-f5754b8d38da\",\"type\":\"CategoricalAxis\"}],\"plot_height\":500,\"renderers\":[{\"id\":\"856142cd-8668-4a77-b0eb-70380eb5e289\",\"type\":\"DatetimeAxis\"},{\"id\":\"c3fdd72b-88f1-4238-b658-4e94435c67c7\",\"type\":\"Grid\"},{\"id\":\"b7fbb5a5-bd6e-466c-a0f6-f5754b8d38da\",\"type\":\"CategoricalAxis\"},{\"id\":\"3b6be091-8528-46bc-a9d3-b304daa7b678\",\"type\":\"Grid\"},{\"id\":\"e9696f2a-3e7a-4bd0-aee1-f5b88ad31ade\",\"type\":\"BoxAnnotation\"},{\"id\":\"9f191bae-03a3-4951-8bdc-58c50de346e0\",\"type\":\"GlyphRenderer\"}],\"title\":{\"id\":\"feb91e49-f908-4340-92d4-619314850f20\",\"type\":\"Title\"},\"toolbar\":{\"id\":\"66dc56c7-4aee-4059-9369-b89774bf3f16\",\"type\":\"Toolbar\"},\"x_range\":{\"id\":\"cd2ea052-805a-485a-b7aa-1d1882469e3a\",\"type\":\"DataRange1d\"},\"x_scale\":{\"id\":\"de6aaa4f-9525-4a5f-8ece-7c7f0e3ee86f\",\"type\":\"LinearScale\"},\"y_range\":{\"id\":\"6d54941c-9ec4-490e-9c55-b3274a4b9e18\",\"type\":\"FactorRange\"},\"y_scale\":{\"id\":\"55f2c1c1-f481-45af-8a96-f58c1208e973\",\"type\":\"CategoricalScale\"}},\"id\":\"74955daa-44de-4a69-b6a0-d6588a429d63\",\"subtype\":\"Figure\",\"type\":\"Plot\"},{\"attributes\":{\"base\":60,\"mantissas\":[1,2,5,10,15,20,30],\"max_interval\":1800000.0,\"min_interval\":1000.0,\"num_minor_ticks\":0},\"id\":\"7172524d-f731-49e1-8451-731dcfb3678e\",\"type\":\"AdaptiveTicker\"},{\"attributes\":{},\"id\":\"0c5edf02-5a90-47bd-b9cc-caf805a9bcb7\",\"type\":\"ResetTool\"},{\"attributes\":{\"fill_color\":{\"value\":\"navy\"},\"height\":{\"value\":0.5},\"line_color\":{\"value\":\"navy\"},\"right\":{\"field\":\"right\"},\"y\":{\"field\":\"y\"}},\"id\":\"b6381c06-dcd9-4e56-93b8-2ccd2474ef34\",\"type\":\"HBar\"},{\"attributes\":{\"callback\":null},\"id\":\"cd2ea052-805a-485a-b7aa-1d1882469e3a\",\"type\":\"DataRange1d\"},{\"attributes\":{\"mantissas\":[1,2,5],\"max_interval\":500.0,\"num_minor_ticks\":0},\"id\":\"b1d9b0c2-7f65-4b0d-8c56-a553748d3c31\",\"type\":\"AdaptiveTicker\"},{\"attributes\":{\"num_minor_ticks\":5,\"tickers\":[{\"id\":\"b1d9b0c2-7f65-4b0d-8c56-a553748d3c31\",\"type\":\"AdaptiveTicker\"},{\"id\":\"7172524d-f731-49e1-8451-731dcfb3678e\",\"type\":\"AdaptiveTicker\"},{\"id\":\"3350a65f-264b-4ffe-a6b9-2c7ad131eda2\",\"type\":\"AdaptiveTicker\"},{\"id\":\"f4099ec7-d4a1-4d6f-b248-5dcc9e7659a7\",\"type\":\"DaysTicker\"},{\"id\":\"7f400222-b72e-40b1-bd18-f98c11034217\",\"type\":\"DaysTicker\"},{\"id\":\"a7490aa9-3027-47ba-8ac2-9dcc577c0027\",\"type\":\"DaysTicker\"},{\"id\":\"11598ff6-83b5-4b31-b155-8ef61fd7107d\",\"type\":\"DaysTicker\"},{\"id\":\"92b9c083-068d-409e-874a-a847d523ed81\",\"type\":\"MonthsTicker\"},{\"id\":\"c659c5a9-5cc7-4007-9abc-a6884f74d710\",\"type\":\"MonthsTicker\"},{\"id\":\"7f4baa9a-932c-41bc-992b-1c4c3858c494\",\"type\":\"MonthsTicker\"},{\"id\":\"17e4a253-11cc-42e7-893c-9c9f85be03c4\",\"type\":\"MonthsTicker\"},{\"id\":\"7d2dd2b2-570a-4465-9c08-611e21a5bb80\",\"type\":\"YearsTicker\"}]},\"id\":\"02a7f2d9-1748-49c9-a31b-259aee71f5e9\",\"type\":\"DatetimeTicker\"},{\"attributes\":{\"fill_alpha\":{\"value\":0.1},\"fill_color\":{\"value\":\"#1f77b4\"},\"height\":{\"value\":0.5},\"line_alpha\":{\"value\":0.1},\"line_color\":{\"value\":\"#1f77b4\"},\"right\":{\"field\":\"right\"},\"y\":{\"field\":\"y\"}},\"id\":\"7e149f9b-30d8-43fd-be63-92e52cce0360\",\"type\":\"HBar\"},{\"attributes\":{\"formatter\":{\"id\":\"6821e3e6-0b11-454c-b62c-92b1625bb5fc\",\"type\":\"DatetimeTickFormatter\"},\"plot\":{\"id\":\"74955daa-44de-4a69-b6a0-d6588a429d63\",\"subtype\":\"Figure\",\"type\":\"Plot\"},\"ticker\":{\"id\":\"02a7f2d9-1748-49c9-a31b-259aee71f5e9\",\"type\":\"DatetimeTicker\"}},\"id\":\"856142cd-8668-4a77-b0eb-70380eb5e289\",\"type\":\"DatetimeAxis\"},{\"attributes\":{},\"id\":\"f0d0dbd3-6edd-40ed-9eac-910d48142ab5\",\"type\":\"HelpTool\"},{\"attributes\":{\"overlay\":{\"id\":\"e9696f2a-3e7a-4bd0-aee1-f5b88ad31ade\",\"type\":\"BoxAnnotation\"}},\"id\":\"e41b8c21-ff99-4ca3-a940-2f227c385175\",\"type\":\"BoxZoomTool\"},{\"attributes\":{\"active_drag\":\"auto\",\"active_inspect\":\"auto\",\"active_scroll\":\"auto\",\"active_tap\":\"auto\",\"tools\":[{\"id\":\"6957ce5f-b7f5-43ae-8cf0-b38624f5900d\",\"type\":\"PanTool\"},{\"id\":\"041ab150-b56f-4da1-b7de-a4f7da151fef\",\"type\":\"WheelZoomTool\"},{\"id\":\"e41b8c21-ff99-4ca3-a940-2f227c385175\",\"type\":\"BoxZoomTool\"},{\"id\":\"72f91ea7-907b-4c77-8d54-1edd09c9f462\",\"type\":\"SaveTool\"},{\"id\":\"0c5edf02-5a90-47bd-b9cc-caf805a9bcb7\",\"type\":\"ResetTool\"},{\"id\":\"f0d0dbd3-6edd-40ed-9eac-910d48142ab5\",\"type\":\"HelpTool\"}]},\"id\":\"66dc56c7-4aee-4059-9369-b89774bf3f16\",\"type\":\"Toolbar\"},{\"attributes\":{\"days\":[1,4,7,10,13,16,19,22,25,28]},\"id\":\"7f400222-b72e-40b1-bd18-f98c11034217\",\"type\":\"DaysTicker\"},{\"attributes\":{\"callback\":null,\"column_names\":[\"y\",\"right\"],\"data\":{\"right\":[207639.967,300578.899,220067.94700000001,240078.491,272104.518],\"y\":[\"10%\",\"100%\",\"250\",\"100\",\"cutoff time\"]}},\"id\":\"42d05f3b-e4b7-47fb-a503-45c2a144852b\",\"type\":\"ColumnDataSource\"},{\"attributes\":{},\"id\":\"72f91ea7-907b-4c77-8d54-1edd09c9f462\",\"type\":\"SaveTool\"},{\"attributes\":{\"bottom_units\":\"screen\",\"fill_alpha\":{\"value\":0.5},\"fill_color\":{\"value\":\"lightgrey\"},\"left_units\":\"screen\",\"level\":\"overlay\",\"line_alpha\":{\"value\":1.0},\"line_color\":{\"value\":\"black\"},\"line_dash\":[4,4],\"line_width\":{\"value\":2},\"plot\":null,\"render_mode\":\"css\",\"right_units\":\"screen\",\"top_units\":\"screen\"},\"id\":\"e9696f2a-3e7a-4bd0-aee1-f5b88ad31ade\",\"type\":\"BoxAnnotation\"},{\"attributes\":{},\"id\":\"6957ce5f-b7f5-43ae-8cf0-b38624f5900d\",\"type\":\"PanTool\"},{\"attributes\":{\"formatter\":{\"id\":\"a023da6b-68ad-4b89-819f-34c8c88ee6cf\",\"type\":\"CategoricalTickFormatter\"},\"plot\":{\"id\":\"74955daa-44de-4a69-b6a0-d6588a429d63\",\"subtype\":\"Figure\",\"type\":\"Plot\"},\"ticker\":{\"id\":\"d0f25d9c-0da2-4e7d-8243-e6f6a8b8a768\",\"type\":\"CategoricalTicker\"}},\"id\":\"b7fbb5a5-bd6e-466c-a0f6-f5754b8d38da\",\"type\":\"CategoricalAxis\"},{\"attributes\":{},\"id\":\"d0f25d9c-0da2-4e7d-8243-e6f6a8b8a768\",\"type\":\"CategoricalTicker\"},{\"attributes\":{\"days\":[1,2,3,4,5,6,7,8,9,10,11,12,13,14,15,16,17,18,19,20,21,22,23,24,25,26,27,28,29,30,31]},\"id\":\"f4099ec7-d4a1-4d6f-b248-5dcc9e7659a7\",\"type\":\"DaysTicker\"},{\"attributes\":{\"base\":24,\"mantissas\":[1,2,4,6,8,12],\"max_interval\":43200000.0,\"min_interval\":3600000.0,\"num_minor_ticks\":0},\"id\":\"3350a65f-264b-4ffe-a6b9-2c7ad131eda2\",\"type\":\"AdaptiveTicker\"},{\"attributes\":{},\"id\":\"041ab150-b56f-4da1-b7de-a4f7da151fef\",\"type\":\"WheelZoomTool\"},{\"attributes\":{\"source\":{\"id\":\"42d05f3b-e4b7-47fb-a503-45c2a144852b\",\"type\":\"ColumnDataSource\"}},\"id\":\"af372ce5-488d-4f76-a8a9-cb9fdba09e40\",\"type\":\"CDSView\"},{\"attributes\":{\"months\":[0,6]},\"id\":\"17e4a253-11cc-42e7-893c-9c9f85be03c4\",\"type\":\"MonthsTicker\"},{\"attributes\":{},\"id\":\"a023da6b-68ad-4b89-819f-34c8c88ee6cf\",\"type\":\"CategoricalTickFormatter\"},{\"attributes\":{\"days\":[1,15]},\"id\":\"11598ff6-83b5-4b31-b155-8ef61fd7107d\",\"type\":\"DaysTicker\"},{\"attributes\":{},\"id\":\"de6aaa4f-9525-4a5f-8ece-7c7f0e3ee86f\",\"type\":\"LinearScale\"},{\"attributes\":{\"callback\":null,\"factors\":[\"10%\",\"100%\",\"250\",\"100\",\"cutoff time\"]},\"id\":\"6d54941c-9ec4-490e-9c55-b3274a4b9e18\",\"type\":\"FactorRange\"},{\"attributes\":{},\"id\":\"7d2dd2b2-570a-4465-9c08-611e21a5bb80\",\"type\":\"YearsTicker\"},{\"attributes\":{},\"id\":\"55f2c1c1-f481-45af-8a96-f58c1208e973\",\"type\":\"CategoricalScale\"},{\"attributes\":{\"months\":[0,1,2,3,4,5,6,7,8,9,10,11]},\"id\":\"92b9c083-068d-409e-874a-a847d523ed81\",\"type\":\"MonthsTicker\"},{\"attributes\":{\"dimension\":1,\"plot\":{\"id\":\"74955daa-44de-4a69-b6a0-d6588a429d63\",\"subtype\":\"Figure\",\"type\":\"Plot\"},\"ticker\":{\"id\":\"d0f25d9c-0da2-4e7d-8243-e6f6a8b8a768\",\"type\":\"CategoricalTicker\"}},\"id\":\"3b6be091-8528-46bc-a9d3-b304daa7b678\",\"type\":\"Grid\"},{\"attributes\":{\"data_source\":{\"id\":\"42d05f3b-e4b7-47fb-a503-45c2a144852b\",\"type\":\"ColumnDataSource\"},\"glyph\":{\"id\":\"b6381c06-dcd9-4e56-93b8-2ccd2474ef34\",\"type\":\"HBar\"},\"hover_glyph\":null,\"muted_glyph\":null,\"nonselection_glyph\":{\"id\":\"7e149f9b-30d8-43fd-be63-92e52cce0360\",\"type\":\"HBar\"},\"selection_glyph\":null,\"view\":{\"id\":\"af372ce5-488d-4f76-a8a9-cb9fdba09e40\",\"type\":\"CDSView\"}},\"id\":\"9f191bae-03a3-4951-8bdc-58c50de346e0\",\"type\":\"GlyphRenderer\"},{\"attributes\":{\"months\":[0,2,4,6,8,10]},\"id\":\"c659c5a9-5cc7-4007-9abc-a6884f74d710\",\"type\":\"MonthsTicker\"},{\"attributes\":{\"plot\":null,\"text\":\"\"},\"id\":\"feb91e49-f908-4340-92d4-619314850f20\",\"type\":\"Title\"},{\"attributes\":{\"plot\":{\"id\":\"74955daa-44de-4a69-b6a0-d6588a429d63\",\"subtype\":\"Figure\",\"type\":\"Plot\"},\"ticker\":{\"id\":\"02a7f2d9-1748-49c9-a31b-259aee71f5e9\",\"type\":\"DatetimeTicker\"}},\"id\":\"c3fdd72b-88f1-4238-b658-4e94435c67c7\",\"type\":\"Grid\"},{\"attributes\":{\"months\":[0,4,8]},\"id\":\"7f4baa9a-932c-41bc-992b-1c4c3858c494\",\"type\":\"MonthsTicker\"}],\"root_ids\":[\"74955daa-44de-4a69-b6a0-d6588a429d63\"]},\"title\":\"Bokeh Application\",\"version\":\"0.12.14\"}};\n",
       "  var render_items = [{\"docid\":\"32f5a865-4104-48cb-a391-4ad54ccc523d\",\"elementid\":\"fe5a7e95-7e09-4bd5-84ca-7dce8a3bb467\",\"modelid\":\"74955daa-44de-4a69-b6a0-d6588a429d63\"}];\n",
       "  root.Bokeh.embed.embed_items_notebook(docs_json, render_items);\n",
       "\n",
       "  }\n",
       "  if (root.Bokeh !== undefined) {\n",
       "    embed_document(root);\n",
       "  } else {\n",
       "    var attempts = 0;\n",
       "    var timer = setInterval(function(root) {\n",
       "      if (root.Bokeh !== undefined) {\n",
       "        embed_document(root);\n",
       "        clearInterval(timer);\n",
       "      }\n",
       "      attempts++;\n",
       "      if (attempts > 100) {\n",
       "        console.log(\"Bokeh: ERROR: Unable to run BokehJS code because BokehJS library is missing\")\n",
       "        clearInterval(timer);\n",
       "      }\n",
       "    }, 10, root)\n",
       "  }\n",
       "})(window);"
      ],
      "application/vnd.bokehjs_exec.v0+json": ""
     },
     "metadata": {
      "application/vnd.bokehjs_exec.v0+json": {
       "id": "74955daa-44de-4a69-b6a0-d6588a429d63"
      }
     },
     "output_type": "display_data"
    }
   ],
   "source": [
    "bar_names = ['10%', '100%', '250', '100', 'cutoff time']\n",
    "bar_values = [default_duration, one_chunk_duration, two_fifty_per_chunk_duration, one_hundred_per_chunk_duration, cutoff_duration]\n",
    "p = figure(y_range=bar_names, x_axis_type='datetime', plot_width=600, plot_height=500)\n",
    "p.hbar(y=bar_names, height=0.5, left=0,\n",
    "       right=bar_values, color=\"navy\")\n",
    "\n",
    "show(p)"
   ]
  },
  {
   "cell_type": "markdown",
   "metadata": {},
   "source": [
    "#### Summary \n",
    "\n",
    "In review, featuretools uses a parameter `chunk_size` to divide up the instances when calculating features.  Creating chunks that have too little or too much calculation can slow down the calculations, so experimenting with different chunk sizes on a subset of the data before calculating on the entire can help find in finding a reasonable chunk size.   "
   ]
  }
 ],
 "metadata": {
  "kernelspec": {
   "display_name": "Python 2",
   "language": "python",
   "name": "python2"
  },
  "language_info": {
   "codemirror_mode": {
    "name": "ipython",
    "version": 2
   },
   "file_extension": ".py",
   "mimetype": "text/x-python",
   "name": "python",
   "nbconvert_exporter": "python",
   "pygments_lexer": "ipython2",
   "version": "2.7.12"
  }
 },
 "nbformat": 4,
 "nbformat_minor": 2
}
