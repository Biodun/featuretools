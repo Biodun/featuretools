{
 "cells": [
  {
   "cell_type": "markdown",
   "metadata": {},
   "source": [
    "# Chunk Size Guide\n",
    "\n",
    "## Overview"
   ]
  },
  {
   "cell_type": "markdown",
   "metadata": {},
   "source": [
    "When Featuretools calculates a feature matrix it is passed or creates a dataframe called `cutoff_time` to determine what data can be used to calculate each row of features.  By default `calculate_feature_matrix` will divide the `cutoff_time` dataframe into smaller `chunks` to calculate on, trying to group rows with the same time in the same chunk.  If there are more rows with the same cutoff time than the chunk size allows, the rows will be be placed in multiple chunks.\n",
    "The size of each chunk is determined by the `chunk_size` parameter  in `dfs` or `calculate_feature_matirx`.  Valid inputs are:\n",
    "\n",
    "* None (the default option. Each chunk will be 10% of the entire cutoff dataframe, or 10 rows per chunk, whichver is bigger)\n",
    "* A positive integer (each chunk has this many rows)\n",
    "* A float between 0 and 1 (each chunk is a percentage of the entire cutoff dataframe)\n",
    "* The string \"cutoff time\" \n",
    "\n",
    "\n",
    "Unlike the other options, \"cutoff time\" does not genereate a specific number of rows per chunk.  Instead of trying to create uniformly sized chunks, featuretools will calculate every row with the same time together. "
   ]
  },
  {
   "cell_type": "markdown",
   "metadata": {},
   "source": [
    "Choosing the right chunk size can speed up the time spent calculating a feature matrix.  Small chunks can slow down computation in a few ways. Having to split up rows that share the same cutoff time means less shared computation.  If the time necessary to compute a chunk is too short, the cost in overhead for creating that chunk can impact the overall running time of the calculation.  Overly large chunks can slow down computation if the size of the data necessary for the calculations is too large.  What constitutes a good chunk size varies by dataset, cutoff time, and machine hardware."
   ]
  },
  {
   "cell_type": "markdown",
   "metadata": {},
   "source": [
    "### Small number of cutoff times\n",
    "\n",
    "Here we look at the runtimes of several different chunk sizes for a feature matrix calculation with a small number of cutoff times (500) and few cutoff times sharing the same time (1.03 rows per timestamp, on average)."
   ]
  },
  {
   "cell_type": "code",
   "execution_count": 1,
   "metadata": {},
   "outputs": [],
   "source": [
    "import time\n",
    "import datetime\n",
    "\n",
    "import featuretools as ft\n",
    "import pandas as pd\n",
    "from bokeh.plotting import figure, show\n",
    "from bokeh.io import output_notebook\n",
    "from featuretools.computational_backends import bin_cutoff_times\n",
    "\n",
    "retail_es = ft.demo.load_retail()\n",
    "cutoff_time = pd.DataFrame({'time': retail_es[\"customers\"].last_time_index,\n",
    "                            'instance_id': retail_es[\"customers\"].df[\"CustomerID\"]})\n",
    "output_notebook()"
   ]
  },
  {
   "cell_type": "markdown",
   "metadata": {},
   "source": [
    "#### Default (10% per chunk)"
   ]
  },
  {
   "cell_type": "code",
   "execution_count": 2,
   "metadata": {},
   "outputs": [
    {
     "name": "stdout",
     "output_type": "stream",
     "text": [
      "Building features: 134it [00:00, 8021.08it/s]\n",
      "Elapsed: 00:00 | Remaining: 00:00 | Progress: 100%|██████████||, Chunks created: 10\n",
      "Elapsed: 01:19 | Remaining: 00:00 | Progress: 100%|██████████|| Calculated: 10/10 chunks\n"
     ]
    }
   ],
   "source": [
    "start = time.time()\n",
    "feature_matrix, features = ft.dfs(entityset=retail_es,\n",
    "                                  target_entity=\"customers\",\n",
    "                                  verbose=True,\n",
    "                                  cutoff_time=cutoff_time.iloc[:500])\n",
    "stop = time.time()\n",
    "default_duration = datetime.timedelta(seconds=stop-start)"
   ]
  },
  {
   "cell_type": "markdown",
   "metadata": {},
   "source": [
    "There are more than 100 rows in `cutoff_time` so chunks size is 10%"
   ]
  },
  {
   "cell_type": "markdown",
   "metadata": {},
   "source": [
    "#### 1 chunk"
   ]
  },
  {
   "cell_type": "code",
   "execution_count": 3,
   "metadata": {},
   "outputs": [
    {
     "name": "stdout",
     "output_type": "stream",
     "text": [
      "Building features: 134it [00:00, 8761.15it/s]\n",
      "Elapsed: 00:00 | Remaining: 00:00 | Progress: 100%|██████████||, Chunks created: 1\n",
      "Elapsed: 01:18 | Remaining: 00:00 | Progress: 100%|██████████|| Calculated: 1/1 chunks\n"
     ]
    }
   ],
   "source": [
    "start = time.time()\n",
    "feature_matrix, features = ft.dfs(entityset=retail_es,\n",
    "                                  target_entity=\"customers\",\n",
    "                                  verbose=True,\n",
    "                                  cutoff_time=cutoff_time.iloc[:500],\n",
    "                                  chunk_size=500)\n",
    "stop = time.time()\n",
    "one_chunk_duration = datetime.timedelta(seconds=stop-start)"
   ]
  },
  {
   "cell_type": "markdown",
   "metadata": {},
   "source": [
    "Similar time with just 1 chunk.  Small dataset and mostly unique timestamps means computation does not slow down with fewer chunks."
   ]
  },
  {
   "cell_type": "markdown",
   "metadata": {},
   "source": [
    "#### 2 rows per chunk"
   ]
  },
  {
   "cell_type": "code",
   "execution_count": 5,
   "metadata": {},
   "outputs": [
    {
     "name": "stdout",
     "output_type": "stream",
     "text": [
      "Building features: 134it [00:00, 6562.17it/s]\n",
      "Elapsed: 00:00 | Remaining: 00:00 | Progress: 100%|██████████||, Chunks created: 250\n",
      "Elapsed: 01:34 | Remaining: 00:00 | Progress: 100%|██████████|| Calculated: 250/250 chunks\n"
     ]
    }
   ],
   "source": [
    "start = time.time()\n",
    "feature_matrix, features = ft.dfs(entityset=retail_es,\n",
    "                                  target_entity=\"customers\",\n",
    "                                  verbose=True,\n",
    "                                  cutoff_time=cutoff_time.iloc[:500],\n",
    "                                  chunk_size=2)\n",
    "stop = time.time()\n",
    "two_per_chunk_duration = datetime.timedelta(seconds=stop-start)"
   ]
  },
  {
   "cell_type": "markdown",
   "metadata": {},
   "source": [
    "With 2 rows per chunk calculation has slowed somewhat due to overhead of calculating each chunk."
   ]
  },
  {
   "cell_type": "markdown",
   "metadata": {},
   "source": [
    "#### \"cutoff time\" option"
   ]
  },
  {
   "cell_type": "code",
   "execution_count": 6,
   "metadata": {},
   "outputs": [
    {
     "name": "stdout",
     "output_type": "stream",
     "text": [
      "Building features: 134it [00:00, 6071.61it/s]\n",
      "Elapsed: 00:00 | Remaining: 00:00 | Progress: 100%|██████████||, Chunks created: 493\n",
      "Elapsed: 01:52 | Remaining: 00:00 | Progress: 100%|██████████|| Calculated: 493/493 chunks\n"
     ]
    }
   ],
   "source": [
    "start = time.time()\n",
    "feature_matrix, features = ft.dfs(entityset=retail_es,\n",
    "                                  target_entity=\"customers\",\n",
    "                                  verbose=True,\n",
    "                                  cutoff_time=cutoff_time.iloc[:500],\n",
    "                                  chunk_size=\"cutoff time\")\n",
    "stop = time.time()\n",
    "cutoff_duration = datetime.timedelta(seconds=stop-start)"
   ]
  },
  {
   "cell_type": "markdown",
   "metadata": {},
   "source": [
    "With a mean of 1.03 rows per timetamp, using the \"cutoff time\" options is similarly slow."
   ]
  },
  {
   "cell_type": "code",
   "execution_count": 8,
   "metadata": {},
   "outputs": [
    {
     "data": {
      "text/html": [
       "\n",
       "<div class=\"bk-root\">\n",
       "    <div class=\"bk-plotdiv\" id=\"6c5b01ed-73da-4810-8086-d4f9b7991a35\"></div>\n",
       "</div>"
      ]
     },
     "metadata": {},
     "output_type": "display_data"
    },
    {
     "data": {
      "application/javascript": [
       "(function(root) {\n",
       "  function embed_document(root) {\n",
       "    \n",
       "  var docs_json = {\"b02c7f82-d7d1-483c-8a0c-147061f2dac6\":{\"roots\":{\"references\":[{\"attributes\":{\"mantissas\":[1,2,5],\"max_interval\":500.0,\"num_minor_ticks\":0},\"id\":\"a9883c36-a848-4871-a4af-8fd9234292b4\",\"type\":\"AdaptiveTicker\"},{\"attributes\":{},\"id\":\"680b281d-69a9-4a62-967c-0357869401fa\",\"type\":\"CategoricalTicker\"},{\"attributes\":{},\"id\":\"222af4ca-beb0-4fca-90e5-b7857bf7c0d9\",\"type\":\"ResetTool\"},{\"attributes\":{\"plot\":{\"id\":\"90ae678e-8bab-477d-b270-2736a0ce7608\",\"subtype\":\"Figure\",\"type\":\"Plot\"},\"ticker\":{\"id\":\"b30724c5-1ba1-4f2f-b607-8afdf7d80fed\",\"type\":\"DatetimeTicker\"}},\"id\":\"ff0af8af-704d-46a8-bef5-2215fc07932f\",\"type\":\"Grid\"},{\"attributes\":{},\"id\":\"4c8ada93-ca69-4341-91fe-f937af1c59f0\",\"type\":\"PanTool\"},{\"attributes\":{\"fill_color\":{\"value\":\"navy\"},\"height\":{\"value\":0.5},\"line_color\":{\"value\":\"navy\"},\"right\":{\"field\":\"right\"},\"y\":{\"field\":\"y\"}},\"id\":\"82889db3-e949-46dc-98a7-19c01685c7e7\",\"type\":\"HBar\"},{\"attributes\":{\"days\":[1,8,15,22]},\"id\":\"dac98eaa-c29e-49bc-87c7-9af08f99ff55\",\"type\":\"DaysTicker\"},{\"attributes\":{\"data_source\":{\"id\":\"cda5a520-60ec-4f7a-8170-657e70e9def5\",\"type\":\"ColumnDataSource\"},\"glyph\":{\"id\":\"82889db3-e949-46dc-98a7-19c01685c7e7\",\"type\":\"HBar\"},\"hover_glyph\":null,\"muted_glyph\":null,\"nonselection_glyph\":{\"id\":\"de6e53c2-f408-4272-80c0-6b8ab2898cd7\",\"type\":\"HBar\"},\"selection_glyph\":null,\"view\":{\"id\":\"d8ecd89e-e77d-4128-b878-1fc225ad3477\",\"type\":\"CDSView\"}},\"id\":\"f1e8bdc8-dd26-4279-9377-9d04e0f4590a\",\"type\":\"GlyphRenderer\"},{\"attributes\":{\"days\":[1,4,7,10,13,16,19,22,25,28]},\"id\":\"7742f3f0-8fcf-4fa5-8034-9ce22ba0f4f6\",\"type\":\"DaysTicker\"},{\"attributes\":{},\"id\":\"d73f7000-fcee-4eb9-bc3c-106db15478a0\",\"type\":\"CategoricalTickFormatter\"},{\"attributes\":{\"overlay\":{\"id\":\"e4238093-c653-4806-afeb-e2af88cbd8cb\",\"type\":\"BoxAnnotation\"}},\"id\":\"0419bfb6-6624-49c3-9a11-f6345f7116c4\",\"type\":\"BoxZoomTool\"},{\"attributes\":{},\"id\":\"44af8ee7-3e92-4f3b-be6e-5a1a45a0d180\",\"type\":\"WheelZoomTool\"},{\"attributes\":{\"bottom_units\":\"screen\",\"fill_alpha\":{\"value\":0.5},\"fill_color\":{\"value\":\"lightgrey\"},\"left_units\":\"screen\",\"level\":\"overlay\",\"line_alpha\":{\"value\":1.0},\"line_color\":{\"value\":\"black\"},\"line_dash\":[4,4],\"line_width\":{\"value\":2},\"plot\":null,\"render_mode\":\"css\",\"right_units\":\"screen\",\"top_units\":\"screen\"},\"id\":\"e4238093-c653-4806-afeb-e2af88cbd8cb\",\"type\":\"BoxAnnotation\"},{\"attributes\":{\"days\":[1,15]},\"id\":\"71de688d-642b-4ed4-9413-8ac2889c0ad2\",\"type\":\"DaysTicker\"},{\"attributes\":{\"fill_alpha\":{\"value\":0.1},\"fill_color\":{\"value\":\"#1f77b4\"},\"height\":{\"value\":0.5},\"line_alpha\":{\"value\":0.1},\"line_color\":{\"value\":\"#1f77b4\"},\"right\":{\"field\":\"right\"},\"y\":{\"field\":\"y\"}},\"id\":\"de6e53c2-f408-4272-80c0-6b8ab2898cd7\",\"type\":\"HBar\"},{\"attributes\":{\"base\":24,\"mantissas\":[1,2,4,6,8,12],\"max_interval\":43200000.0,\"min_interval\":3600000.0,\"num_minor_ticks\":0},\"id\":\"03a5656a-18d0-4f9c-b966-5c9ee98cc645\",\"type\":\"AdaptiveTicker\"},{\"attributes\":{\"months\":[0,6]},\"id\":\"f8cae6b2-140a-4f11-bbdc-4297ed14ccd8\",\"type\":\"MonthsTicker\"},{\"attributes\":{\"plot\":null,\"text\":\"\"},\"id\":\"92438c66-30b2-4ee7-b690-0292ffacae73\",\"type\":\"Title\"},{\"attributes\":{\"days\":[1,2,3,4,5,6,7,8,9,10,11,12,13,14,15,16,17,18,19,20,21,22,23,24,25,26,27,28,29,30,31]},\"id\":\"acae47a5-0c17-4d52-acde-44f1cc8b2c4e\",\"type\":\"DaysTicker\"},{\"attributes\":{},\"id\":\"44d1cddc-5a39-4b1b-89ec-f4045029b978\",\"type\":\"DatetimeTickFormatter\"},{\"attributes\":{},\"id\":\"1b14b95c-b8ac-4ead-8015-dc6198453a71\",\"type\":\"CategoricalScale\"},{\"attributes\":{\"months\":[0,1,2,3,4,5,6,7,8,9,10,11]},\"id\":\"166eab24-ebdb-4686-a603-86f959e057d2\",\"type\":\"MonthsTicker\"},{\"attributes\":{\"callback\":null,\"factors\":[\"10%\",\"100%\",\"2\",\"cutoff time\"]},\"id\":\"1e9c6378-0985-4165-807b-3cdd3de7417c\",\"type\":\"FactorRange\"},{\"attributes\":{},\"id\":\"ded46df8-b6b7-452d-b5f3-7c56a246b230\",\"type\":\"LinearScale\"},{\"attributes\":{\"dimension\":1,\"plot\":{\"id\":\"90ae678e-8bab-477d-b270-2736a0ce7608\",\"subtype\":\"Figure\",\"type\":\"Plot\"},\"ticker\":{\"id\":\"680b281d-69a9-4a62-967c-0357869401fa\",\"type\":\"CategoricalTicker\"}},\"id\":\"1da85a9e-1009-406e-850c-a0d47eb908c5\",\"type\":\"Grid\"},{\"attributes\":{\"formatter\":{\"id\":\"44d1cddc-5a39-4b1b-89ec-f4045029b978\",\"type\":\"DatetimeTickFormatter\"},\"plot\":{\"id\":\"90ae678e-8bab-477d-b270-2736a0ce7608\",\"subtype\":\"Figure\",\"type\":\"Plot\"},\"ticker\":{\"id\":\"b30724c5-1ba1-4f2f-b607-8afdf7d80fed\",\"type\":\"DatetimeTicker\"}},\"id\":\"ccc9b7fa-edb2-4ec9-bc32-17b0cf59c4f6\",\"type\":\"DatetimeAxis\"},{\"attributes\":{},\"id\":\"1bb173f6-3754-4972-9264-a414c361d292\",\"type\":\"YearsTicker\"},{\"attributes\":{},\"id\":\"ee39dfc5-62bf-49e4-a7e1-ce4a07f0d448\",\"type\":\"HelpTool\"},{\"attributes\":{\"callback\":null,\"column_names\":[\"y\",\"right\"],\"data\":{\"right\":[79703.08,78760.962,96379.741,115704.604],\"y\":[\"10%\",\"100%\",\"2\",\"cutoff time\"]}},\"id\":\"cda5a520-60ec-4f7a-8170-657e70e9def5\",\"type\":\"ColumnDataSource\"},{\"attributes\":{\"base\":60,\"mantissas\":[1,2,5,10,15,20,30],\"max_interval\":1800000.0,\"min_interval\":1000.0,\"num_minor_ticks\":0},\"id\":\"1af69ae2-f22d-4cb5-81ea-60bbd5ce8bf7\",\"type\":\"AdaptiveTicker\"},{\"attributes\":{\"formatter\":{\"id\":\"d73f7000-fcee-4eb9-bc3c-106db15478a0\",\"type\":\"CategoricalTickFormatter\"},\"plot\":{\"id\":\"90ae678e-8bab-477d-b270-2736a0ce7608\",\"subtype\":\"Figure\",\"type\":\"Plot\"},\"ticker\":{\"id\":\"680b281d-69a9-4a62-967c-0357869401fa\",\"type\":\"CategoricalTicker\"}},\"id\":\"8d4eafb4-660f-4422-a4fc-42ae229aacd5\",\"type\":\"CategoricalAxis\"},{\"attributes\":{},\"id\":\"8dea7898-ed5b-4b6b-9908-b40576eaa282\",\"type\":\"SaveTool\"},{\"attributes\":{\"months\":[0,2,4,6,8,10]},\"id\":\"32909ffe-7b21-47f0-8daf-8778c8684ef7\",\"type\":\"MonthsTicker\"},{\"attributes\":{\"callback\":null},\"id\":\"f4810c66-a577-45a5-bdde-0545e813853c\",\"type\":\"DataRange1d\"},{\"attributes\":{\"months\":[0,4,8]},\"id\":\"896b3574-994f-4298-8de8-33671545b48b\",\"type\":\"MonthsTicker\"},{\"attributes\":{\"active_drag\":\"auto\",\"active_inspect\":\"auto\",\"active_scroll\":\"auto\",\"active_tap\":\"auto\",\"tools\":[{\"id\":\"4c8ada93-ca69-4341-91fe-f937af1c59f0\",\"type\":\"PanTool\"},{\"id\":\"44af8ee7-3e92-4f3b-be6e-5a1a45a0d180\",\"type\":\"WheelZoomTool\"},{\"id\":\"0419bfb6-6624-49c3-9a11-f6345f7116c4\",\"type\":\"BoxZoomTool\"},{\"id\":\"8dea7898-ed5b-4b6b-9908-b40576eaa282\",\"type\":\"SaveTool\"},{\"id\":\"222af4ca-beb0-4fca-90e5-b7857bf7c0d9\",\"type\":\"ResetTool\"},{\"id\":\"ee39dfc5-62bf-49e4-a7e1-ce4a07f0d448\",\"type\":\"HelpTool\"}]},\"id\":\"1be140b9-2500-47bd-9ea0-0037263aedfd\",\"type\":\"Toolbar\"},{\"attributes\":{\"num_minor_ticks\":5,\"tickers\":[{\"id\":\"a9883c36-a848-4871-a4af-8fd9234292b4\",\"type\":\"AdaptiveTicker\"},{\"id\":\"1af69ae2-f22d-4cb5-81ea-60bbd5ce8bf7\",\"type\":\"AdaptiveTicker\"},{\"id\":\"03a5656a-18d0-4f9c-b966-5c9ee98cc645\",\"type\":\"AdaptiveTicker\"},{\"id\":\"acae47a5-0c17-4d52-acde-44f1cc8b2c4e\",\"type\":\"DaysTicker\"},{\"id\":\"7742f3f0-8fcf-4fa5-8034-9ce22ba0f4f6\",\"type\":\"DaysTicker\"},{\"id\":\"dac98eaa-c29e-49bc-87c7-9af08f99ff55\",\"type\":\"DaysTicker\"},{\"id\":\"71de688d-642b-4ed4-9413-8ac2889c0ad2\",\"type\":\"DaysTicker\"},{\"id\":\"166eab24-ebdb-4686-a603-86f959e057d2\",\"type\":\"MonthsTicker\"},{\"id\":\"32909ffe-7b21-47f0-8daf-8778c8684ef7\",\"type\":\"MonthsTicker\"},{\"id\":\"896b3574-994f-4298-8de8-33671545b48b\",\"type\":\"MonthsTicker\"},{\"id\":\"f8cae6b2-140a-4f11-bbdc-4297ed14ccd8\",\"type\":\"MonthsTicker\"},{\"id\":\"1bb173f6-3754-4972-9264-a414c361d292\",\"type\":\"YearsTicker\"}]},\"id\":\"b30724c5-1ba1-4f2f-b607-8afdf7d80fed\",\"type\":\"DatetimeTicker\"},{\"attributes\":{\"source\":{\"id\":\"cda5a520-60ec-4f7a-8170-657e70e9def5\",\"type\":\"ColumnDataSource\"}},\"id\":\"d8ecd89e-e77d-4128-b878-1fc225ad3477\",\"type\":\"CDSView\"},{\"attributes\":{\"below\":[{\"id\":\"ccc9b7fa-edb2-4ec9-bc32-17b0cf59c4f6\",\"type\":\"DatetimeAxis\"}],\"left\":[{\"id\":\"8d4eafb4-660f-4422-a4fc-42ae229aacd5\",\"type\":\"CategoricalAxis\"}],\"plot_height\":400,\"plot_width\":400,\"renderers\":[{\"id\":\"ccc9b7fa-edb2-4ec9-bc32-17b0cf59c4f6\",\"type\":\"DatetimeAxis\"},{\"id\":\"ff0af8af-704d-46a8-bef5-2215fc07932f\",\"type\":\"Grid\"},{\"id\":\"8d4eafb4-660f-4422-a4fc-42ae229aacd5\",\"type\":\"CategoricalAxis\"},{\"id\":\"1da85a9e-1009-406e-850c-a0d47eb908c5\",\"type\":\"Grid\"},{\"id\":\"e4238093-c653-4806-afeb-e2af88cbd8cb\",\"type\":\"BoxAnnotation\"},{\"id\":\"f1e8bdc8-dd26-4279-9377-9d04e0f4590a\",\"type\":\"GlyphRenderer\"}],\"title\":{\"id\":\"92438c66-30b2-4ee7-b690-0292ffacae73\",\"type\":\"Title\"},\"toolbar\":{\"id\":\"1be140b9-2500-47bd-9ea0-0037263aedfd\",\"type\":\"Toolbar\"},\"x_range\":{\"id\":\"f4810c66-a577-45a5-bdde-0545e813853c\",\"type\":\"DataRange1d\"},\"x_scale\":{\"id\":\"ded46df8-b6b7-452d-b5f3-7c56a246b230\",\"type\":\"LinearScale\"},\"y_range\":{\"id\":\"1e9c6378-0985-4165-807b-3cdd3de7417c\",\"type\":\"FactorRange\"},\"y_scale\":{\"id\":\"1b14b95c-b8ac-4ead-8015-dc6198453a71\",\"type\":\"CategoricalScale\"}},\"id\":\"90ae678e-8bab-477d-b270-2736a0ce7608\",\"subtype\":\"Figure\",\"type\":\"Plot\"}],\"root_ids\":[\"90ae678e-8bab-477d-b270-2736a0ce7608\"]},\"title\":\"Bokeh Application\",\"version\":\"0.12.14\"}};\n",
       "  var render_items = [{\"docid\":\"b02c7f82-d7d1-483c-8a0c-147061f2dac6\",\"elementid\":\"6c5b01ed-73da-4810-8086-d4f9b7991a35\",\"modelid\":\"90ae678e-8bab-477d-b270-2736a0ce7608\"}];\n",
       "  root.Bokeh.embed.embed_items_notebook(docs_json, render_items);\n",
       "\n",
       "  }\n",
       "  if (root.Bokeh !== undefined) {\n",
       "    embed_document(root);\n",
       "  } else {\n",
       "    var attempts = 0;\n",
       "    var timer = setInterval(function(root) {\n",
       "      if (root.Bokeh !== undefined) {\n",
       "        embed_document(root);\n",
       "        clearInterval(timer);\n",
       "      }\n",
       "      attempts++;\n",
       "      if (attempts > 100) {\n",
       "        console.log(\"Bokeh: ERROR: Unable to run BokehJS code because BokehJS library is missing\")\n",
       "        clearInterval(timer);\n",
       "      }\n",
       "    }, 10, root)\n",
       "  }\n",
       "})(window);"
      ],
      "application/vnd.bokehjs_exec.v0+json": ""
     },
     "metadata": {
      "application/vnd.bokehjs_exec.v0+json": {
       "id": "90ae678e-8bab-477d-b270-2736a0ce7608"
      }
     },
     "output_type": "display_data"
    }
   ],
   "source": [
    "bar_names = ['10%', '100%', '2', 'cutoff time']\n",
    "bar_values = [default_duration, one_chunk_duration, two_per_chunk_duration, cutoff_duration]\n",
    "p = figure(y_range=bar_names, x_axis_type='datetime', plot_width=400, plot_height=400)\n",
    "p.hbar(y=bar_names, height=0.5, left=0,\n",
    "       right=bar_values, color=\"navy\")\n",
    "\n",
    "show(p)"
   ]
  },
  {
   "cell_type": "markdown",
   "metadata": {},
   "source": [
    "### All cutoff times\n",
    "\n",
    "Using all of the cutoff times does not change how few rows have the same cutoff time.  The default chunk size of 10% and calculating all of the cutoff times in a single chunk still takes about the same amount of time. Using a chunk size of 2 is noticably slower, and grouping by cutoff time even more so.\n",
    "\n",
    "#### 10% per chunk"
   ]
  },
  {
   "cell_type": "code",
   "execution_count": 9,
   "metadata": {},
   "outputs": [
    {
     "name": "stdout",
     "output_type": "stream",
     "text": [
      "Building features: 134it [00:00, 5608.81it/s]\n",
      "Elapsed: 00:00 | Remaining: 00:00 | Progress: 100%|██████████||, Chunks created: 11\n",
      "Elapsed: 11:02 | Remaining: 00:00 | Progress: 100%|██████████|| Calculated: 11/11 chunks\n"
     ]
    }
   ],
   "source": [
    "start = time.time()\n",
    "feature_matrix, features = ft.dfs(entityset=retail_es,\n",
    "                                  target_entity=\"customers\",\n",
    "                                  verbose=True,\n",
    "                                  cutoff_time=cutoff_time)\n",
    "stop = time.time()\n",
    "default_duration = datetime.timedelta(seconds=stop-start)"
   ]
  },
  {
   "cell_type": "markdown",
   "metadata": {},
   "source": [
    "#### 1 chunk"
   ]
  },
  {
   "cell_type": "code",
   "execution_count": 10,
   "metadata": {},
   "outputs": [
    {
     "name": "stdout",
     "output_type": "stream",
     "text": [
      "Building features: 134it [00:00, 8259.29it/s]\n",
      "Elapsed: 00:00 | Remaining: 00:00 | Progress: 100%|██████████||, Chunks created: 1\n",
      "Elapsed: 10:43 | Remaining: 00:00 | Progress: 100%|██████████|| Calculated: 1/1 chunks\n"
     ]
    }
   ],
   "source": [
    "start = time.time()\n",
    "feature_matrix, features = ft.dfs(entityset=retail_es,\n",
    "                                  target_entity=\"customers\",\n",
    "                                  verbose=True,\n",
    "                                  cutoff_time=cutoff_time,\n",
    "                                  chunk_size=4373)\n",
    "stop = time.time()\n",
    "one_chunk_duration = datetime.timedelta(seconds=stop-start)"
   ]
  },
  {
   "cell_type": "markdown",
   "metadata": {},
   "source": [
    "#### 2 rows per chunk"
   ]
  },
  {
   "cell_type": "code",
   "execution_count": 11,
   "metadata": {},
   "outputs": [
    {
     "name": "stdout",
     "output_type": "stream",
     "text": [
      "Building features: 134it [00:00, 9322.99it/s]\n",
      "Elapsed: 00:00 | Remaining: 00:00 | Progress: 100%|██████████||, Chunks created: 2187\n",
      "Elapsed: 14:49 | Remaining: 00:00 | Progress: 100%|██████████|| Calculated: 2187/2187 chunks\n"
     ]
    }
   ],
   "source": [
    "start = time.time()\n",
    "feature_matrix, features = ft.dfs(entityset=retail_es,\n",
    "                                  target_entity=\"customers\",\n",
    "                                  verbose=True,\n",
    "                                  cutoff_time=cutoff_time,\n",
    "                                  chunk_size=2)\n",
    "stop = time.time()\n",
    "two_per_chunk_duration = datetime.timedelta(seconds=stop-start)"
   ]
  },
  {
   "cell_type": "markdown",
   "metadata": {},
   "source": [
    "#### \"cutoff time\" option"
   ]
  },
  {
   "cell_type": "code",
   "execution_count": 12,
   "metadata": {},
   "outputs": [
    {
     "name": "stdout",
     "output_type": "stream",
     "text": [
      "Building features: 134it [00:00, 10895.14it/s]\n",
      "Elapsed: 00:00 | Remaining: 00:00 | Progress: 100%|██████████||, Chunks created: 4240\n",
      "Elapsed: 22:16 | Remaining: 00:00 | Progress: 100%|██████████|| Calculated: 4240/4240 chunks\n"
     ]
    }
   ],
   "source": [
    "start= time.time()\n",
    "feature_matrix, features = ft.dfs(entityset=retail_es,\n",
    "                                  target_entity=\"customers\",\n",
    "                                  verbose=True,\n",
    "                                  cutoff_time=cutoff_time,\n",
    "                                  chunk_size=\"cutoff time\")\n",
    "stop = time.time()\n",
    "cutoff_duration = datetime.timedelta(seconds=stop-start)"
   ]
  },
  {
   "cell_type": "code",
   "execution_count": 13,
   "metadata": {},
   "outputs": [
    {
     "data": {
      "text/html": [
       "\n",
       "<div class=\"bk-root\">\n",
       "    <div class=\"bk-plotdiv\" id=\"12a48e61-bffd-4874-941b-485ef51087e6\"></div>\n",
       "</div>"
      ]
     },
     "metadata": {},
     "output_type": "display_data"
    },
    {
     "data": {
      "application/javascript": [
       "(function(root) {\n",
       "  function embed_document(root) {\n",
       "    \n",
       "  var docs_json = {\"8d0f8470-b41b-453f-92ee-179fb255ada7\":{\"roots\":{\"references\":[{\"attributes\":{\"bottom_units\":\"screen\",\"fill_alpha\":{\"value\":0.5},\"fill_color\":{\"value\":\"lightgrey\"},\"left_units\":\"screen\",\"level\":\"overlay\",\"line_alpha\":{\"value\":1.0},\"line_color\":{\"value\":\"black\"},\"line_dash\":[4,4],\"line_width\":{\"value\":2},\"plot\":null,\"render_mode\":\"css\",\"right_units\":\"screen\",\"top_units\":\"screen\"},\"id\":\"deadd6ae-3e7b-4b59-bc41-a14dccfe5e50\",\"type\":\"BoxAnnotation\"},{\"attributes\":{},\"id\":\"0187ed7c-f932-40cd-bb8a-3bdaf1414e67\",\"type\":\"CategoricalTicker\"},{\"attributes\":{\"num_minor_ticks\":5,\"tickers\":[{\"id\":\"d5d0086a-21cb-4f7f-8ba1-fa283387dff3\",\"type\":\"AdaptiveTicker\"},{\"id\":\"93dc8ff3-7ce4-4870-ad24-8edda5b5a497\",\"type\":\"AdaptiveTicker\"},{\"id\":\"2d6c5e2f-057f-462c-991c-80ce881a7336\",\"type\":\"AdaptiveTicker\"},{\"id\":\"57fd5db4-4fc6-4c18-a3c4-a40178541e5d\",\"type\":\"DaysTicker\"},{\"id\":\"1cd00ed9-7eac-4c6a-ae44-1f7dfdf76725\",\"type\":\"DaysTicker\"},{\"id\":\"ce80db08-c152-4abf-9ca6-3ed56bcdad8a\",\"type\":\"DaysTicker\"},{\"id\":\"7ee8816c-9fca-4c43-8f00-df0a4aa5deec\",\"type\":\"DaysTicker\"},{\"id\":\"4c5fbebd-206b-405e-80f7-8cb07e2a086b\",\"type\":\"MonthsTicker\"},{\"id\":\"7fd87a50-b8b0-4e29-a433-f080c4d586e2\",\"type\":\"MonthsTicker\"},{\"id\":\"c9f41ad7-1644-440f-a87a-b3a859d70a5a\",\"type\":\"MonthsTicker\"},{\"id\":\"a07e201c-42db-4a82-aa7a-3cf5117279c4\",\"type\":\"MonthsTicker\"},{\"id\":\"37f8a440-fddd-46df-b4a3-7f1a021720b7\",\"type\":\"YearsTicker\"}]},\"id\":\"dbd4827d-7317-4af9-8a0f-37919208baf2\",\"type\":\"DatetimeTicker\"},{\"attributes\":{\"base\":60,\"mantissas\":[1,2,5,10,15,20,30],\"max_interval\":1800000.0,\"min_interval\":1000.0,\"num_minor_ticks\":0},\"id\":\"93dc8ff3-7ce4-4870-ad24-8edda5b5a497\",\"type\":\"AdaptiveTicker\"},{\"attributes\":{},\"id\":\"129bde44-9368-430a-ad02-27baacd197db\",\"type\":\"ResetTool\"},{\"attributes\":{},\"id\":\"706cfa42-d685-4e3d-8c81-8337bb74d9b5\",\"type\":\"DatetimeTickFormatter\"},{\"attributes\":{\"base\":24,\"mantissas\":[1,2,4,6,8,12],\"max_interval\":43200000.0,\"min_interval\":3600000.0,\"num_minor_ticks\":0},\"id\":\"2d6c5e2f-057f-462c-991c-80ce881a7336\",\"type\":\"AdaptiveTicker\"},{\"attributes\":{\"source\":{\"id\":\"428ec3db-e197-445f-8d76-6f9419b80c65\",\"type\":\"ColumnDataSource\"}},\"id\":\"32065299-c8ed-4529-8a58-b7a5e9b4ce42\",\"type\":\"CDSView\"},{\"attributes\":{},\"id\":\"f43503b1-5735-494c-b19f-0cb69fa89fee\",\"type\":\"SaveTool\"},{\"attributes\":{},\"id\":\"b10ea532-a5fd-4098-9ade-d8615ee1517a\",\"type\":\"CategoricalScale\"},{\"attributes\":{\"active_drag\":\"auto\",\"active_inspect\":\"auto\",\"active_scroll\":\"auto\",\"active_tap\":\"auto\",\"tools\":[{\"id\":\"c140ed41-bd56-4052-a653-3af89b1de75c\",\"type\":\"PanTool\"},{\"id\":\"efe8fd87-3783-4bb7-a692-e0b62c74c62a\",\"type\":\"WheelZoomTool\"},{\"id\":\"1b819724-4468-46fa-9d0e-660b77a946a5\",\"type\":\"BoxZoomTool\"},{\"id\":\"f43503b1-5735-494c-b19f-0cb69fa89fee\",\"type\":\"SaveTool\"},{\"id\":\"129bde44-9368-430a-ad02-27baacd197db\",\"type\":\"ResetTool\"},{\"id\":\"7fd3c919-e091-4d38-8c7d-5669c90c5644\",\"type\":\"HelpTool\"}]},\"id\":\"5fa32b14-5889-447c-a2c7-18898082d0da\",\"type\":\"Toolbar\"},{\"attributes\":{\"callback\":null,\"factors\":[\"10%\",\"100%\",\"2\",\"cutoff time\"]},\"id\":\"74b3067c-ec17-42db-bef5-fff0ab588ce4\",\"type\":\"FactorRange\"},{\"attributes\":{\"overlay\":{\"id\":\"deadd6ae-3e7b-4b59-bc41-a14dccfe5e50\",\"type\":\"BoxAnnotation\"}},\"id\":\"1b819724-4468-46fa-9d0e-660b77a946a5\",\"type\":\"BoxZoomTool\"},{\"attributes\":{},\"id\":\"efe8fd87-3783-4bb7-a692-e0b62c74c62a\",\"type\":\"WheelZoomTool\"},{\"attributes\":{\"formatter\":{\"id\":\"751da3d6-7b04-49f1-ba10-0e51f7eded43\",\"type\":\"CategoricalTickFormatter\"},\"plot\":{\"id\":\"47587b0e-ca75-459f-81c9-5deff4c0991f\",\"subtype\":\"Figure\",\"type\":\"Plot\"},\"ticker\":{\"id\":\"0187ed7c-f932-40cd-bb8a-3bdaf1414e67\",\"type\":\"CategoricalTicker\"}},\"id\":\"6451f7cb-7426-49ce-9cd7-7bbbebe2de12\",\"type\":\"CategoricalAxis\"},{\"attributes\":{\"days\":[1,2,3,4,5,6,7,8,9,10,11,12,13,14,15,16,17,18,19,20,21,22,23,24,25,26,27,28,29,30,31]},\"id\":\"57fd5db4-4fc6-4c18-a3c4-a40178541e5d\",\"type\":\"DaysTicker\"},{\"attributes\":{},\"id\":\"17e5d5fd-0f5f-49a6-b407-c70a45d20726\",\"type\":\"LinearScale\"},{\"attributes\":{\"months\":[0,1,2,3,4,5,6,7,8,9,10,11]},\"id\":\"4c5fbebd-206b-405e-80f7-8cb07e2a086b\",\"type\":\"MonthsTicker\"},{\"attributes\":{\"fill_color\":{\"value\":\"navy\"},\"height\":{\"value\":0.5},\"line_color\":{\"value\":\"navy\"},\"right\":{\"field\":\"right\"},\"y\":{\"field\":\"y\"}},\"id\":\"a3f3a686-2a0d-4baf-9af3-d51c7ec3efdb\",\"type\":\"HBar\"},{\"attributes\":{\"months\":[0,6]},\"id\":\"a07e201c-42db-4a82-aa7a-3cf5117279c4\",\"type\":\"MonthsTicker\"},{\"attributes\":{\"months\":[0,4,8]},\"id\":\"c9f41ad7-1644-440f-a87a-b3a859d70a5a\",\"type\":\"MonthsTicker\"},{\"attributes\":{\"months\":[0,2,4,6,8,10]},\"id\":\"7fd87a50-b8b0-4e29-a433-f080c4d586e2\",\"type\":\"MonthsTicker\"},{\"attributes\":{\"days\":[1,4,7,10,13,16,19,22,25,28]},\"id\":\"1cd00ed9-7eac-4c6a-ae44-1f7dfdf76725\",\"type\":\"DaysTicker\"},{\"attributes\":{},\"id\":\"7fd3c919-e091-4d38-8c7d-5669c90c5644\",\"type\":\"HelpTool\"},{\"attributes\":{\"below\":[{\"id\":\"cac5ad4a-7ef3-4485-8e81-e3f8a5f6964a\",\"type\":\"DatetimeAxis\"}],\"left\":[{\"id\":\"6451f7cb-7426-49ce-9cd7-7bbbebe2de12\",\"type\":\"CategoricalAxis\"}],\"plot_height\":400,\"plot_width\":400,\"renderers\":[{\"id\":\"cac5ad4a-7ef3-4485-8e81-e3f8a5f6964a\",\"type\":\"DatetimeAxis\"},{\"id\":\"0103ee09-e566-4089-b0d8-aed2b7f1460b\",\"type\":\"Grid\"},{\"id\":\"6451f7cb-7426-49ce-9cd7-7bbbebe2de12\",\"type\":\"CategoricalAxis\"},{\"id\":\"9a5931de-da12-4e6d-bd82-c4dc182fc5ef\",\"type\":\"Grid\"},{\"id\":\"deadd6ae-3e7b-4b59-bc41-a14dccfe5e50\",\"type\":\"BoxAnnotation\"},{\"id\":\"15f29791-c3ae-4fde-bb9c-cc32d104ef84\",\"type\":\"GlyphRenderer\"}],\"title\":{\"id\":\"c1181a13-2d6b-4d7e-b42d-6f5c317760bd\",\"type\":\"Title\"},\"toolbar\":{\"id\":\"5fa32b14-5889-447c-a2c7-18898082d0da\",\"type\":\"Toolbar\"},\"x_range\":{\"id\":\"06327957-a509-4b13-b5dc-1333ae516dca\",\"type\":\"DataRange1d\"},\"x_scale\":{\"id\":\"17e5d5fd-0f5f-49a6-b407-c70a45d20726\",\"type\":\"LinearScale\"},\"y_range\":{\"id\":\"74b3067c-ec17-42db-bef5-fff0ab588ce4\",\"type\":\"FactorRange\"},\"y_scale\":{\"id\":\"b10ea532-a5fd-4098-9ade-d8615ee1517a\",\"type\":\"CategoricalScale\"}},\"id\":\"47587b0e-ca75-459f-81c9-5deff4c0991f\",\"subtype\":\"Figure\",\"type\":\"Plot\"},{\"attributes\":{\"days\":[1,15]},\"id\":\"7ee8816c-9fca-4c43-8f00-df0a4aa5deec\",\"type\":\"DaysTicker\"},{\"attributes\":{\"mantissas\":[1,2,5],\"max_interval\":500.0,\"num_minor_ticks\":0},\"id\":\"d5d0086a-21cb-4f7f-8ba1-fa283387dff3\",\"type\":\"AdaptiveTicker\"},{\"attributes\":{\"plot\":{\"id\":\"47587b0e-ca75-459f-81c9-5deff4c0991f\",\"subtype\":\"Figure\",\"type\":\"Plot\"},\"ticker\":{\"id\":\"dbd4827d-7317-4af9-8a0f-37919208baf2\",\"type\":\"DatetimeTicker\"}},\"id\":\"0103ee09-e566-4089-b0d8-aed2b7f1460b\",\"type\":\"Grid\"},{\"attributes\":{\"days\":[1,8,15,22]},\"id\":\"ce80db08-c152-4abf-9ca6-3ed56bcdad8a\",\"type\":\"DaysTicker\"},{\"attributes\":{\"data_source\":{\"id\":\"428ec3db-e197-445f-8d76-6f9419b80c65\",\"type\":\"ColumnDataSource\"},\"glyph\":{\"id\":\"a3f3a686-2a0d-4baf-9af3-d51c7ec3efdb\",\"type\":\"HBar\"},\"hover_glyph\":null,\"muted_glyph\":null,\"nonselection_glyph\":{\"id\":\"206f079d-7910-46f3-8b7c-fb5d1cceeb52\",\"type\":\"HBar\"},\"selection_glyph\":null,\"view\":{\"id\":\"32065299-c8ed-4529-8a58-b7a5e9b4ce42\",\"type\":\"CDSView\"}},\"id\":\"15f29791-c3ae-4fde-bb9c-cc32d104ef84\",\"type\":\"GlyphRenderer\"},{\"attributes\":{},\"id\":\"751da3d6-7b04-49f1-ba10-0e51f7eded43\",\"type\":\"CategoricalTickFormatter\"},{\"attributes\":{\"plot\":null,\"text\":\"\"},\"id\":\"c1181a13-2d6b-4d7e-b42d-6f5c317760bd\",\"type\":\"Title\"},{\"attributes\":{\"callback\":null,\"column_names\":[\"y\",\"right\"],\"data\":{\"right\":[662998.916,643801.363,905799.027,1367315.5],\"y\":[\"10%\",\"100%\",\"2\",\"cutoff time\"]}},\"id\":\"428ec3db-e197-445f-8d76-6f9419b80c65\",\"type\":\"ColumnDataSource\"},{\"attributes\":{\"dimension\":1,\"plot\":{\"id\":\"47587b0e-ca75-459f-81c9-5deff4c0991f\",\"subtype\":\"Figure\",\"type\":\"Plot\"},\"ticker\":{\"id\":\"0187ed7c-f932-40cd-bb8a-3bdaf1414e67\",\"type\":\"CategoricalTicker\"}},\"id\":\"9a5931de-da12-4e6d-bd82-c4dc182fc5ef\",\"type\":\"Grid\"},{\"attributes\":{\"formatter\":{\"id\":\"706cfa42-d685-4e3d-8c81-8337bb74d9b5\",\"type\":\"DatetimeTickFormatter\"},\"plot\":{\"id\":\"47587b0e-ca75-459f-81c9-5deff4c0991f\",\"subtype\":\"Figure\",\"type\":\"Plot\"},\"ticker\":{\"id\":\"dbd4827d-7317-4af9-8a0f-37919208baf2\",\"type\":\"DatetimeTicker\"}},\"id\":\"cac5ad4a-7ef3-4485-8e81-e3f8a5f6964a\",\"type\":\"DatetimeAxis\"},{\"attributes\":{\"callback\":null},\"id\":\"06327957-a509-4b13-b5dc-1333ae516dca\",\"type\":\"DataRange1d\"},{\"attributes\":{},\"id\":\"c140ed41-bd56-4052-a653-3af89b1de75c\",\"type\":\"PanTool\"},{\"attributes\":{\"fill_alpha\":{\"value\":0.1},\"fill_color\":{\"value\":\"#1f77b4\"},\"height\":{\"value\":0.5},\"line_alpha\":{\"value\":0.1},\"line_color\":{\"value\":\"#1f77b4\"},\"right\":{\"field\":\"right\"},\"y\":{\"field\":\"y\"}},\"id\":\"206f079d-7910-46f3-8b7c-fb5d1cceeb52\",\"type\":\"HBar\"},{\"attributes\":{},\"id\":\"37f8a440-fddd-46df-b4a3-7f1a021720b7\",\"type\":\"YearsTicker\"}],\"root_ids\":[\"47587b0e-ca75-459f-81c9-5deff4c0991f\"]},\"title\":\"Bokeh Application\",\"version\":\"0.12.14\"}};\n",
       "  var render_items = [{\"docid\":\"8d0f8470-b41b-453f-92ee-179fb255ada7\",\"elementid\":\"12a48e61-bffd-4874-941b-485ef51087e6\",\"modelid\":\"47587b0e-ca75-459f-81c9-5deff4c0991f\"}];\n",
       "  root.Bokeh.embed.embed_items_notebook(docs_json, render_items);\n",
       "\n",
       "  }\n",
       "  if (root.Bokeh !== undefined) {\n",
       "    embed_document(root);\n",
       "  } else {\n",
       "    var attempts = 0;\n",
       "    var timer = setInterval(function(root) {\n",
       "      if (root.Bokeh !== undefined) {\n",
       "        embed_document(root);\n",
       "        clearInterval(timer);\n",
       "      }\n",
       "      attempts++;\n",
       "      if (attempts > 100) {\n",
       "        console.log(\"Bokeh: ERROR: Unable to run BokehJS code because BokehJS library is missing\")\n",
       "        clearInterval(timer);\n",
       "      }\n",
       "    }, 10, root)\n",
       "  }\n",
       "})(window);"
      ],
      "application/vnd.bokehjs_exec.v0+json": ""
     },
     "metadata": {
      "application/vnd.bokehjs_exec.v0+json": {
       "id": "47587b0e-ca75-459f-81c9-5deff4c0991f"
      }
     },
     "output_type": "display_data"
    }
   ],
   "source": [
    "bar_names = ['10%', '100%', '2', 'cutoff time']\n",
    "bar_values = [default_duration, one_chunk_duration, two_per_chunk_duration, cutoff_duration]\n",
    "p = figure(y_range=bar_names, x_axis_type='datetime', plot_width=400, plot_height=400)\n",
    "p.hbar(y=bar_names, height=0.5, left=0,\n",
    "       right=bar_values, color=\"navy\")\n",
    "\n",
    "show(p)"
   ]
  },
  {
   "cell_type": "markdown",
   "metadata": {},
   "source": [
    "#### Fewer Unique Cutoff Times\n",
    "\n",
    "Next we group the timestamps in the cutoff time dataframe by week to reduce the number of unique cutoff times to 55 from over 4000.  This speeds up the overall computation because there is more shareable computation when calculating.  This also causes a more noticeable drop in performance when choosing chunk sizes much smaller than the number of unique cutoff times."
   ]
  },
  {
   "cell_type": "code",
   "execution_count": 14,
   "metadata": {},
   "outputs": [
    {
     "name": "stdout",
     "output_type": "stream",
     "text": [
      "Number of unique cutoff times: 55\n",
      "Largest cutoff group: 532 instances\n",
      "Largest cutoff percent of whole: 0.121656\n"
     ]
    }
   ],
   "source": [
    "binned_cutoffs = bin_cutoff_times(cutoff_time.copy(), '7 days')\n",
    "grouped = binned_cutoffs.groupby('time').count()\n",
    "print(\"Number of unique cutoff times: \" + str(len(grouped)))\n",
    "max_cutoff_size = grouped.max()[0]\n",
    "print(\"Largest cutoff group: %d instances\" % max_cutoff_size)\n",
    "max_cutoff_percent = float(max_cutoff_size)/binned_cutoffs.shape[0]\n",
    "print(\"Largest cutoff percent of whole: %f\" % (max_cutoff_percent))"
   ]
  },
  {
   "cell_type": "code",
   "execution_count": 15,
   "metadata": {},
   "outputs": [
    {
     "data": {
      "text/html": [
       "<div>\n",
       "<style scoped>\n",
       "    .dataframe tbody tr th:only-of-type {\n",
       "        vertical-align: middle;\n",
       "    }\n",
       "\n",
       "    .dataframe tbody tr th {\n",
       "        vertical-align: top;\n",
       "    }\n",
       "\n",
       "    .dataframe thead th {\n",
       "        text-align: right;\n",
       "    }\n",
       "</style>\n",
       "<table border=\"1\" class=\"dataframe\">\n",
       "  <thead>\n",
       "    <tr style=\"text-align: right;\">\n",
       "      <th></th>\n",
       "      <th>instance_id</th>\n",
       "      <th>time</th>\n",
       "    </tr>\n",
       "    <tr>\n",
       "      <th>CustomerID</th>\n",
       "      <th></th>\n",
       "      <th></th>\n",
       "    </tr>\n",
       "  </thead>\n",
       "  <tbody>\n",
       "    <tr>\n",
       "      <th>17850.0</th>\n",
       "      <td>17850.0</td>\n",
       "      <td>2011-02-10</td>\n",
       "    </tr>\n",
       "    <tr>\n",
       "      <th>13047.0</th>\n",
       "      <td>13047.0</td>\n",
       "      <td>2011-11-03</td>\n",
       "    </tr>\n",
       "    <tr>\n",
       "      <th>12583.0</th>\n",
       "      <td>12583.0</td>\n",
       "      <td>2011-12-01</td>\n",
       "    </tr>\n",
       "    <tr>\n",
       "      <th>13748.0</th>\n",
       "      <td>13748.0</td>\n",
       "      <td>2011-09-01</td>\n",
       "    </tr>\n",
       "    <tr>\n",
       "      <th>15100.0</th>\n",
       "      <td>15100.0</td>\n",
       "      <td>2011-01-13</td>\n",
       "    </tr>\n",
       "  </tbody>\n",
       "</table>\n",
       "</div>"
      ],
      "text/plain": [
       "            instance_id       time\n",
       "CustomerID                        \n",
       "17850.0         17850.0 2011-02-10\n",
       "13047.0         13047.0 2011-11-03\n",
       "12583.0         12583.0 2011-12-01\n",
       "13748.0         13748.0 2011-09-01\n",
       "15100.0         15100.0 2011-01-13"
      ]
     },
     "execution_count": 15,
     "metadata": {},
     "output_type": "execute_result"
    }
   ],
   "source": [
    "binned_cutoffs.head()"
   ]
  },
  {
   "cell_type": "markdown",
   "metadata": {},
   "source": [
    "#### 10% per chunk"
   ]
  },
  {
   "cell_type": "code",
   "execution_count": 16,
   "metadata": {},
   "outputs": [
    {
     "name": "stdout",
     "output_type": "stream",
     "text": [
      "Building features: 134it [00:00, 5701.85it/s]\n",
      "Elapsed: 00:00 | Remaining: 00:00 | Progress: 100%|██████████||, Chunks created: 11\n",
      "Elapsed: 00:54 | Remaining: 00:00 | Progress: 100%|██████████|| Calculated: 11/11 chunks\n"
     ]
    }
   ],
   "source": [
    "start = time.time()\n",
    "feature_matrix, features = ft.dfs(entityset=retail_es,\n",
    "                                  target_entity=\"customers\",\n",
    "                                  verbose=True,\n",
    "                                  cutoff_time=binned_cutoffs)\n",
    "stop = time.time()\n",
    "default_duration = datetime.timedelta(seconds=stop-start)"
   ]
  },
  {
   "cell_type": "markdown",
   "metadata": {},
   "source": [
    "#### 1 chunk"
   ]
  },
  {
   "cell_type": "code",
   "execution_count": 17,
   "metadata": {},
   "outputs": [
    {
     "name": "stdout",
     "output_type": "stream",
     "text": [
      "Building features: 134it [00:00, 8654.17it/s]\n",
      "Elapsed: 00:00 | Remaining: 00:00 | Progress: 100%|██████████||, Chunks created: 1\n",
      "Elapsed: 00:53 | Remaining: 00:00 | Progress: 100%|██████████|| Calculated: 1/1 chunks\n"
     ]
    }
   ],
   "source": [
    "start = time.time()\n",
    "feature_matrix, features = ft.dfs(entityset=retail_es,\n",
    "                                  cutoff_time=binned_cutoffs,\n",
    "                                  target_entity=\"customers\",\n",
    "                                  chunk_size=4373,\n",
    "                                  verbose=True)\n",
    "stop = time.time()\n",
    "one_chunk_duration = datetime.timedelta(seconds=stop-start)"
   ]
  },
  {
   "cell_type": "markdown",
   "metadata": {},
   "source": [
    "#### Mean cutoff time group size\n",
    "\n",
    "Trying a new chunk size, the average cutoff time group size, or about 1.829% of the entire list of cutoff times"
   ]
  },
  {
   "cell_type": "code",
   "execution_count": 18,
   "metadata": {},
   "outputs": [
    {
     "data": {
      "text/plain": [
       "instance_id    79.490909\n",
       "dtype: float64"
      ]
     },
     "execution_count": 18,
     "metadata": {},
     "output_type": "execute_result"
    }
   ],
   "source": [
    "binned_cutoffs.groupby('time').count().mean()"
   ]
  },
  {
   "cell_type": "code",
   "execution_count": 19,
   "metadata": {},
   "outputs": [
    {
     "name": "stdout",
     "output_type": "stream",
     "text": [
      "Building features: 134it [00:00, 7184.60it/s]\n",
      "Elapsed: 00:00 | Remaining: 00:00 | Progress: 100%|██████████||, Chunks created: 57\n",
      "Elapsed: 00:58 | Remaining: 00:00 | Progress: 100%|██████████|| Calculated: 57/57 chunks\n"
     ]
    }
   ],
   "source": [
    "start = time.time()\n",
    "feature_matrix, features = ft.dfs(entityset=retail_es,\n",
    "                                  cutoff_time=binned_cutoffs,\n",
    "                                  target_entity=\"customers\",\n",
    "                                  chunk_size=80,\n",
    "                                  verbose=True)\n",
    "stop = time.time()\n",
    "mean_group_size_duration = datetime.timedelta(seconds=stop-start)"
   ]
  },
  {
   "cell_type": "markdown",
   "metadata": {},
   "source": [
    "#### 10 cutoffs per chunk "
   ]
  },
  {
   "cell_type": "code",
   "execution_count": 20,
   "metadata": {},
   "outputs": [
    {
     "name": "stdout",
     "output_type": "stream",
     "text": [
      "Building features: 134it [00:00, 10077.40it/s]\n",
      "Elapsed: 00:00 | Remaining: 00:00 | Progress: 100%|██████████||, Chunks created: 440\n",
      "Elapsed: 02:06 | Remaining: 00:00 | Progress: 100%|██████████|| Calculated: 440/440 chunks\n"
     ]
    }
   ],
   "source": [
    "start = time.time()\n",
    "feature_matrix, features = ft.dfs(entityset=retail_es,\n",
    "                                  cutoff_time=binned_cutoffs,\n",
    "                                  target_entity=\"customers\",\n",
    "                                  chunk_size=10,\n",
    "                                  verbose=True)\n",
    "stop = time.time()\n",
    "ten_per_chunk_duration = datetime.timedelta(seconds=stop-start)"
   ]
  },
  {
   "cell_type": "markdown",
   "metadata": {},
   "source": [
    "#### \"cutoff time\" option"
   ]
  },
  {
   "cell_type": "code",
   "execution_count": 21,
   "metadata": {},
   "outputs": [
    {
     "name": "stdout",
     "output_type": "stream",
     "text": [
      "Building features: 134it [00:00, 8502.57it/s]\n",
      "Elapsed: 00:00 | Remaining: 00:00 | Progress: 100%|██████████||, Chunks created: 55\n",
      "Elapsed: 00:56 | Remaining: 00:00 | Progress: 100%|██████████|| Calculated: 55/55 chunks\n"
     ]
    }
   ],
   "source": [
    "start = time.time()\n",
    "feature_matrix, features = ft.dfs(entityset=retail_es,\n",
    "                                  cutoff_time=binned_cutoffs,\n",
    "                                  target_entity=\"customers\",\n",
    "                                  chunk_size=\"cutoff time\",\n",
    "                                  verbose=True)\n",
    "stop = time.time()\n",
    "cutoff_duration = datetime.timedelta(seconds=stop-start)"
   ]
  },
  {
   "cell_type": "code",
   "execution_count": 22,
   "metadata": {},
   "outputs": [
    {
     "data": {
      "text/html": [
       "\n",
       "<div class=\"bk-root\">\n",
       "    <div class=\"bk-plotdiv\" id=\"3433e197-8e40-4396-91a4-329a0c09aa2d\"></div>\n",
       "</div>"
      ]
     },
     "metadata": {},
     "output_type": "display_data"
    },
    {
     "data": {
      "application/javascript": [
       "(function(root) {\n",
       "  function embed_document(root) {\n",
       "    \n",
       "  var docs_json = {\"44136ceb-d34a-489e-9c6c-89995187c69a\":{\"roots\":{\"references\":[{\"attributes\":{\"callback\":null,\"column_names\":[\"y\",\"right\"],\"data\":{\"right\":[54386.882999999994,53202.096,58673.805,128481.40799999998,56212.825000000004],\"y\":[\"10%\",\"100%\",\"mean group size\",\"10\",\"cutoff time\"]}},\"id\":\"b07934f5-7b7c-4946-af04-a593dd6a7488\",\"type\":\"ColumnDataSource\"},{\"attributes\":{\"months\":[0,2,4,6,8,10]},\"id\":\"1160e365-7f27-4652-827f-26596985da4e\",\"type\":\"MonthsTicker\"},{\"attributes\":{},\"id\":\"3bce8f14-21e5-4dd8-a896-ecadfa7d1136\",\"type\":\"YearsTicker\"},{\"attributes\":{\"months\":[0,6]},\"id\":\"75457411-1a3b-464c-ada1-efaa0a4c59ca\",\"type\":\"MonthsTicker\"},{\"attributes\":{\"plot\":{\"id\":\"1edbd397-bfa3-43e1-b40b-addbcb498f69\",\"subtype\":\"Figure\",\"type\":\"Plot\"},\"ticker\":{\"id\":\"07daf6fb-f621-4934-864c-98dd18a321ff\",\"type\":\"DatetimeTicker\"}},\"id\":\"b9e61a0c-e8b9-42f5-91f0-2eaf8db5fc8e\",\"type\":\"Grid\"},{\"attributes\":{\"dimension\":1,\"plot\":{\"id\":\"1edbd397-bfa3-43e1-b40b-addbcb498f69\",\"subtype\":\"Figure\",\"type\":\"Plot\"},\"ticker\":{\"id\":\"aa162aee-6db8-46bb-bd6a-be96001d34db\",\"type\":\"CategoricalTicker\"}},\"id\":\"1ba05aeb-caa5-4084-baa7-620aa4967879\",\"type\":\"Grid\"},{\"attributes\":{\"plot\":null,\"text\":\"\"},\"id\":\"df73c41f-355e-4f25-a3f7-dc2858d3f21e\",\"type\":\"Title\"},{\"attributes\":{\"callback\":null,\"factors\":[\"10%\",\"100%\",\"mean group size\",\"10\",\"cutoff time\"]},\"id\":\"b85fb85f-d7a9-432f-b0cc-b557e0221efd\",\"type\":\"FactorRange\"},{\"attributes\":{\"callback\":null},\"id\":\"494611d4-3612-42e2-a8d0-b46023e8d969\",\"type\":\"DataRange1d\"},{\"attributes\":{},\"id\":\"009fe2a6-d428-41bb-9706-cdae32101e74\",\"type\":\"LinearScale\"},{\"attributes\":{},\"id\":\"81e81e75-d704-4343-a114-889247f8d544\",\"type\":\"CategoricalTickFormatter\"},{\"attributes\":{},\"id\":\"6ac35bca-4c97-45a2-82d1-37a38b0b8621\",\"type\":\"PanTool\"},{\"attributes\":{\"overlay\":{\"id\":\"3a8ed282-6b3e-4b25-888e-5700d347aeb4\",\"type\":\"BoxAnnotation\"}},\"id\":\"84365939-8ac2-48e7-a323-ffdfe73507e3\",\"type\":\"BoxZoomTool\"},{\"attributes\":{},\"id\":\"aa162aee-6db8-46bb-bd6a-be96001d34db\",\"type\":\"CategoricalTicker\"},{\"attributes\":{\"below\":[{\"id\":\"362eebfe-b26c-40ed-ae97-f957732a39d2\",\"type\":\"DatetimeAxis\"}],\"left\":[{\"id\":\"b270cb1c-6a7c-41fb-b4f7-5de7460b20a6\",\"type\":\"CategoricalAxis\"}],\"plot_height\":400,\"plot_width\":400,\"renderers\":[{\"id\":\"362eebfe-b26c-40ed-ae97-f957732a39d2\",\"type\":\"DatetimeAxis\"},{\"id\":\"b9e61a0c-e8b9-42f5-91f0-2eaf8db5fc8e\",\"type\":\"Grid\"},{\"id\":\"b270cb1c-6a7c-41fb-b4f7-5de7460b20a6\",\"type\":\"CategoricalAxis\"},{\"id\":\"1ba05aeb-caa5-4084-baa7-620aa4967879\",\"type\":\"Grid\"},{\"id\":\"3a8ed282-6b3e-4b25-888e-5700d347aeb4\",\"type\":\"BoxAnnotation\"},{\"id\":\"f9398139-7d4f-4637-8a81-68d4fc46fa15\",\"type\":\"GlyphRenderer\"}],\"title\":{\"id\":\"df73c41f-355e-4f25-a3f7-dc2858d3f21e\",\"type\":\"Title\"},\"toolbar\":{\"id\":\"abc71c51-6a0f-4d54-a77d-1b9fafc70750\",\"type\":\"Toolbar\"},\"x_range\":{\"id\":\"494611d4-3612-42e2-a8d0-b46023e8d969\",\"type\":\"DataRange1d\"},\"x_scale\":{\"id\":\"009fe2a6-d428-41bb-9706-cdae32101e74\",\"type\":\"LinearScale\"},\"y_range\":{\"id\":\"b85fb85f-d7a9-432f-b0cc-b557e0221efd\",\"type\":\"FactorRange\"},\"y_scale\":{\"id\":\"0828b35d-6188-4bcf-90c5-f33e175d4106\",\"type\":\"CategoricalScale\"}},\"id\":\"1edbd397-bfa3-43e1-b40b-addbcb498f69\",\"subtype\":\"Figure\",\"type\":\"Plot\"},{\"attributes\":{\"active_drag\":\"auto\",\"active_inspect\":\"auto\",\"active_scroll\":\"auto\",\"active_tap\":\"auto\",\"tools\":[{\"id\":\"6ac35bca-4c97-45a2-82d1-37a38b0b8621\",\"type\":\"PanTool\"},{\"id\":\"636e97b5-61c0-4d1d-a87d-d4b3808d1d8a\",\"type\":\"WheelZoomTool\"},{\"id\":\"84365939-8ac2-48e7-a323-ffdfe73507e3\",\"type\":\"BoxZoomTool\"},{\"id\":\"ae880d2c-8002-4f9a-8ffa-a8c28009b2d8\",\"type\":\"SaveTool\"},{\"id\":\"ca856eaf-f2c3-4138-b218-9165de07267d\",\"type\":\"ResetTool\"},{\"id\":\"8893f154-8926-4db5-9a6f-239b59a383a2\",\"type\":\"HelpTool\"}]},\"id\":\"abc71c51-6a0f-4d54-a77d-1b9fafc70750\",\"type\":\"Toolbar\"},{\"attributes\":{},\"id\":\"0828b35d-6188-4bcf-90c5-f33e175d4106\",\"type\":\"CategoricalScale\"},{\"attributes\":{\"days\":[1,8,15,22]},\"id\":\"b1ce505e-d7b1-4f75-8671-653b86a42ade\",\"type\":\"DaysTicker\"},{\"attributes\":{\"base\":60,\"mantissas\":[1,2,5,10,15,20,30],\"max_interval\":1800000.0,\"min_interval\":1000.0,\"num_minor_ticks\":0},\"id\":\"9150c45a-6306-4f59-ad00-03aa28f91d78\",\"type\":\"AdaptiveTicker\"},{\"attributes\":{\"days\":[1,4,7,10,13,16,19,22,25,28]},\"id\":\"26cb732a-6ec2-4356-9d2e-5d167aaaf195\",\"type\":\"DaysTicker\"},{\"attributes\":{},\"id\":\"ca856eaf-f2c3-4138-b218-9165de07267d\",\"type\":\"ResetTool\"},{\"attributes\":{},\"id\":\"8893f154-8926-4db5-9a6f-239b59a383a2\",\"type\":\"HelpTool\"},{\"attributes\":{\"fill_alpha\":{\"value\":0.1},\"fill_color\":{\"value\":\"#1f77b4\"},\"height\":{\"value\":0.5},\"line_alpha\":{\"value\":0.1},\"line_color\":{\"value\":\"#1f77b4\"},\"right\":{\"field\":\"right\"},\"y\":{\"field\":\"y\"}},\"id\":\"cf682b16-cafe-4609-b0c2-7b785d0facce\",\"type\":\"HBar\"},{\"attributes\":{\"formatter\":{\"id\":\"81e81e75-d704-4343-a114-889247f8d544\",\"type\":\"CategoricalTickFormatter\"},\"plot\":{\"id\":\"1edbd397-bfa3-43e1-b40b-addbcb498f69\",\"subtype\":\"Figure\",\"type\":\"Plot\"},\"ticker\":{\"id\":\"aa162aee-6db8-46bb-bd6a-be96001d34db\",\"type\":\"CategoricalTicker\"}},\"id\":\"b270cb1c-6a7c-41fb-b4f7-5de7460b20a6\",\"type\":\"CategoricalAxis\"},{\"attributes\":{},\"id\":\"ae880d2c-8002-4f9a-8ffa-a8c28009b2d8\",\"type\":\"SaveTool\"},{\"attributes\":{\"mantissas\":[1,2,5],\"max_interval\":500.0,\"num_minor_ticks\":0},\"id\":\"5d761205-1be7-4410-ac8f-9aae8d9d19ae\",\"type\":\"AdaptiveTicker\"},{\"attributes\":{\"bottom_units\":\"screen\",\"fill_alpha\":{\"value\":0.5},\"fill_color\":{\"value\":\"lightgrey\"},\"left_units\":\"screen\",\"level\":\"overlay\",\"line_alpha\":{\"value\":1.0},\"line_color\":{\"value\":\"black\"},\"line_dash\":[4,4],\"line_width\":{\"value\":2},\"plot\":null,\"render_mode\":\"css\",\"right_units\":\"screen\",\"top_units\":\"screen\"},\"id\":\"3a8ed282-6b3e-4b25-888e-5700d347aeb4\",\"type\":\"BoxAnnotation\"},{\"attributes\":{},\"id\":\"636e97b5-61c0-4d1d-a87d-d4b3808d1d8a\",\"type\":\"WheelZoomTool\"},{\"attributes\":{\"months\":[0,4,8]},\"id\":\"f0f76df5-306e-45a4-b297-5ad6bd8f25ad\",\"type\":\"MonthsTicker\"},{\"attributes\":{\"days\":[1,2,3,4,5,6,7,8,9,10,11,12,13,14,15,16,17,18,19,20,21,22,23,24,25,26,27,28,29,30,31]},\"id\":\"cb6430e4-59eb-471a-8ce1-e478a9316ce3\",\"type\":\"DaysTicker\"},{\"attributes\":{\"formatter\":{\"id\":\"ab980474-7500-4048-9285-fe942d6dd27a\",\"type\":\"DatetimeTickFormatter\"},\"plot\":{\"id\":\"1edbd397-bfa3-43e1-b40b-addbcb498f69\",\"subtype\":\"Figure\",\"type\":\"Plot\"},\"ticker\":{\"id\":\"07daf6fb-f621-4934-864c-98dd18a321ff\",\"type\":\"DatetimeTicker\"}},\"id\":\"362eebfe-b26c-40ed-ae97-f957732a39d2\",\"type\":\"DatetimeAxis\"},{\"attributes\":{\"source\":{\"id\":\"b07934f5-7b7c-4946-af04-a593dd6a7488\",\"type\":\"ColumnDataSource\"}},\"id\":\"c0502575-f8aa-43fa-9949-64b94a8c646a\",\"type\":\"CDSView\"},{\"attributes\":{\"days\":[1,15]},\"id\":\"ea1bde24-445c-44e6-b90e-25b6033416f2\",\"type\":\"DaysTicker\"},{\"attributes\":{\"data_source\":{\"id\":\"b07934f5-7b7c-4946-af04-a593dd6a7488\",\"type\":\"ColumnDataSource\"},\"glyph\":{\"id\":\"f44da2c9-6bb8-427a-bf3e-3ad74d227b37\",\"type\":\"HBar\"},\"hover_glyph\":null,\"muted_glyph\":null,\"nonselection_glyph\":{\"id\":\"cf682b16-cafe-4609-b0c2-7b785d0facce\",\"type\":\"HBar\"},\"selection_glyph\":null,\"view\":{\"id\":\"c0502575-f8aa-43fa-9949-64b94a8c646a\",\"type\":\"CDSView\"}},\"id\":\"f9398139-7d4f-4637-8a81-68d4fc46fa15\",\"type\":\"GlyphRenderer\"},{\"attributes\":{\"months\":[0,1,2,3,4,5,6,7,8,9,10,11]},\"id\":\"d441bf9f-5e8f-4b16-90d0-57a8b4bc2b4b\",\"type\":\"MonthsTicker\"},{\"attributes\":{\"fill_color\":{\"value\":\"navy\"},\"height\":{\"value\":0.5},\"line_color\":{\"value\":\"navy\"},\"right\":{\"field\":\"right\"},\"y\":{\"field\":\"y\"}},\"id\":\"f44da2c9-6bb8-427a-bf3e-3ad74d227b37\",\"type\":\"HBar\"},{\"attributes\":{\"num_minor_ticks\":5,\"tickers\":[{\"id\":\"5d761205-1be7-4410-ac8f-9aae8d9d19ae\",\"type\":\"AdaptiveTicker\"},{\"id\":\"9150c45a-6306-4f59-ad00-03aa28f91d78\",\"type\":\"AdaptiveTicker\"},{\"id\":\"066459cc-0615-42ae-886a-1acf933fd05c\",\"type\":\"AdaptiveTicker\"},{\"id\":\"cb6430e4-59eb-471a-8ce1-e478a9316ce3\",\"type\":\"DaysTicker\"},{\"id\":\"26cb732a-6ec2-4356-9d2e-5d167aaaf195\",\"type\":\"DaysTicker\"},{\"id\":\"b1ce505e-d7b1-4f75-8671-653b86a42ade\",\"type\":\"DaysTicker\"},{\"id\":\"ea1bde24-445c-44e6-b90e-25b6033416f2\",\"type\":\"DaysTicker\"},{\"id\":\"d441bf9f-5e8f-4b16-90d0-57a8b4bc2b4b\",\"type\":\"MonthsTicker\"},{\"id\":\"1160e365-7f27-4652-827f-26596985da4e\",\"type\":\"MonthsTicker\"},{\"id\":\"f0f76df5-306e-45a4-b297-5ad6bd8f25ad\",\"type\":\"MonthsTicker\"},{\"id\":\"75457411-1a3b-464c-ada1-efaa0a4c59ca\",\"type\":\"MonthsTicker\"},{\"id\":\"3bce8f14-21e5-4dd8-a896-ecadfa7d1136\",\"type\":\"YearsTicker\"}]},\"id\":\"07daf6fb-f621-4934-864c-98dd18a321ff\",\"type\":\"DatetimeTicker\"},{\"attributes\":{},\"id\":\"ab980474-7500-4048-9285-fe942d6dd27a\",\"type\":\"DatetimeTickFormatter\"},{\"attributes\":{\"base\":24,\"mantissas\":[1,2,4,6,8,12],\"max_interval\":43200000.0,\"min_interval\":3600000.0,\"num_minor_ticks\":0},\"id\":\"066459cc-0615-42ae-886a-1acf933fd05c\",\"type\":\"AdaptiveTicker\"}],\"root_ids\":[\"1edbd397-bfa3-43e1-b40b-addbcb498f69\"]},\"title\":\"Bokeh Application\",\"version\":\"0.12.14\"}};\n",
       "  var render_items = [{\"docid\":\"44136ceb-d34a-489e-9c6c-89995187c69a\",\"elementid\":\"3433e197-8e40-4396-91a4-329a0c09aa2d\",\"modelid\":\"1edbd397-bfa3-43e1-b40b-addbcb498f69\"}];\n",
       "  root.Bokeh.embed.embed_items_notebook(docs_json, render_items);\n",
       "\n",
       "  }\n",
       "  if (root.Bokeh !== undefined) {\n",
       "    embed_document(root);\n",
       "  } else {\n",
       "    var attempts = 0;\n",
       "    var timer = setInterval(function(root) {\n",
       "      if (root.Bokeh !== undefined) {\n",
       "        embed_document(root);\n",
       "        clearInterval(timer);\n",
       "      }\n",
       "      attempts++;\n",
       "      if (attempts > 100) {\n",
       "        console.log(\"Bokeh: ERROR: Unable to run BokehJS code because BokehJS library is missing\")\n",
       "        clearInterval(timer);\n",
       "      }\n",
       "    }, 10, root)\n",
       "  }\n",
       "})(window);"
      ],
      "application/vnd.bokehjs_exec.v0+json": ""
     },
     "metadata": {
      "application/vnd.bokehjs_exec.v0+json": {
       "id": "1edbd397-bfa3-43e1-b40b-addbcb498f69"
      }
     },
     "output_type": "display_data"
    }
   ],
   "source": [
    "bar_names = ['10%', '100%', 'mean group size', '10', 'cutoff time']\n",
    "bar_values = [default_duration, one_chunk_duration, mean_group_size_duration, ten_per_chunk_duration, cutoff_duration]\n",
    "p = figure(y_range=bar_names, x_axis_type='datetime', plot_width=400, plot_height=400)\n",
    "p.hbar(y=bar_names, height=0.5, left=0,\n",
    "       right=bar_values, color=\"navy\")\n",
    "\n",
    "show(p)"
   ]
  },
  {
   "cell_type": "code",
   "execution_count": null,
   "metadata": {},
   "outputs": [],
   "source": [
    "assert True"
   ]
  },
  {
   "cell_type": "markdown",
   "metadata": {},
   "source": [
    "### Instacart Dataset\n",
    "\n",
    "Next we'll try some examples using the Instacart dataset used in the Predict Next Purchase demo."
   ]
  },
  {
   "cell_type": "code",
   "execution_count": null,
   "metadata": {},
   "outputs": [],
   "source": [
    "import utils\n",
    "\n",
    "# import entityset\n",
    "instacart_es = utils.load_entityset(\"partitioned_data/part_1/\")\n",
    "\n",
    "# make labels and cutoff times\n",
    "label_times = pd.concat([utils.make_labels(es=instacart_es,\n",
    "                                           product_name = \"Banana\",\n",
    "                                           cutoff_time = pd.Timestamp('March 15, 2015'),\n",
    "                                           prediction_window = ft.Timedelta(\"4 weeks\"),\n",
    "                                           training_window = ft.Timedelta(\"60 days\")),\n",
    "                         utils.make_labels(es=instacart_es,\n",
    "                                           product_name = \"Banana\",\n",
    "                                           cutoff_time = pd.Timestamp('June 15, 2015'),\n",
    "                                           prediction_window = ft.Timedelta(\"4 weeks\"),\n",
    "                                           training_window = ft.Timedelta(\"60 days\")),\n",
    "                         utils.make_labels(es=instacart_es,\n",
    "                                           product_name = \"Banana\",\n",
    "                                           cutoff_time = pd.Timestamp('September 15, 2015'),\n",
    "                                           prediction_window = ft.Timedelta(\"4 weeks\"),\n",
    "                                           training_window = ft.Timedelta(\"60 days\")),\n",
    "                         utils.make_labels(es=instacart_es,\n",
    "                                           product_name = \"Banana\",\n",
    "                                           cutoff_time = pd.Timestamp('December 15, 2015'),\n",
    "                                           prediction_window = ft.Timedelta(\"4 weeks\"),\n",
    "                                           training_window = ft.Timedelta(\"60 days\")),],\n",
    "                       ignore_index=True)\n",
    "\n",
    "print(label_times.groupby('time').count())"
   ]
  },
  {
   "cell_type": "markdown",
   "metadata": {},
   "source": [
    "One cutoff time group accounts for nearly half of all rows of the cutoff time dataframe. As we can see by comparing the single chunk and group by cutoff time cases with the default 10% chunk size, in this scenario keeping the entire cutoff time group together slows down the computation. "
   ]
  },
  {
   "cell_type": "markdown",
   "metadata": {},
   "source": [
    "#### 10% per chunk"
   ]
  },
  {
   "cell_type": "code",
   "execution_count": null,
   "metadata": {},
   "outputs": [],
   "source": [
    "start = time.time()\n",
    "feature_matrix, features = ft.dfs(target_entity=\"users\", \n",
    "                                  cutoff_time=label_times,\n",
    "                                  training_window=ft.Timedelta(\"60 days\"),\n",
    "                                  entityset=es,\n",
    "                                  verbose=True)\n",
    "stop = time.time()\n",
    "default_duration = datetime.timedelta(seconds=stop-start)"
   ]
  },
  {
   "cell_type": "markdown",
   "metadata": {},
   "source": [
    "#### 1 chunk"
   ]
  },
  {
   "cell_type": "code",
   "execution_count": null,
   "metadata": {},
   "outputs": [],
   "source": [
    "start = time.time()\n",
    "feature_matrix, features = ft.dfs(target_entity=\"users\", \n",
    "                                  cutoff_time=label_times,\n",
    "                                  training_window=ft.Timedelta(\"60 days\"),\n",
    "                                  entityset=es,\n",
    "                                  chunk_size=15854,\n",
    "                                  verbose=True)\n",
    "stop = time.time()\n",
    "one_chunk_duration = datetime.timedelta(seconds=stop-start)"
   ]
  },
  {
   "cell_type": "markdown",
   "metadata": {},
   "source": [
    "#### 250 per chunk"
   ]
  },
  {
   "cell_type": "code",
   "execution_count": null,
   "metadata": {},
   "outputs": [],
   "source": [
    "start = time.time()\n",
    "feature_matrix, features = ft.dfs(target_entity=\"users\", \n",
    "                                  cutoff_time=label_times,\n",
    "                                  training_window=ft.Timedelta(\"60 days\"),\n",
    "                                  entityset=es,\n",
    "                                  chunk_size=250,\n",
    "                                  verbose=True)\n",
    "stop = time.time()\n",
    "two_fifty_per_chunk_duration = datetime.timedelta(seconds=stop-start)"
   ]
  },
  {
   "cell_type": "markdown",
   "metadata": {},
   "source": [
    "#### 100 per chunk"
   ]
  },
  {
   "cell_type": "code",
   "execution_count": null,
   "metadata": {},
   "outputs": [],
   "source": [
    "start = time.time()\n",
    "feature_matrix, features = ft.dfs(target_entity=\"users\", \n",
    "                                  cutoff_time=label_times,\n",
    "                                  training_window=ft.Timedelta(\"60 days\"),\n",
    "                                  entityset=es,\n",
    "                                  chunk_size=100,\n",
    "                                  verbose=True)\n",
    "stop = time.time()\n",
    "one_hundred_per_chunk_duration = datetime.timedelta(seconds=stop-start)"
   ]
  },
  {
   "cell_type": "markdown",
   "metadata": {},
   "source": [
    "#### \"cutoff time\" option"
   ]
  },
  {
   "cell_type": "code",
   "execution_count": null,
   "metadata": {},
   "outputs": [],
   "source": [
    "start = time.time()\n",
    "feature_matrix, features = ft.dfs(target_entity=\"users\", \n",
    "                                  cutoff_time=label_times,\n",
    "                                  training_window=ft.Timedelta(\"60 days\"),\n",
    "                                  entityset=es,\n",
    "                                  chunk_size=\"cutoff time\",\n",
    "                                  verbose=True)\n",
    "stop = time.time()\n",
    "cutoff_duration = datetime.timedelta(seconds=stop-start)"
   ]
  },
  {
   "cell_type": "code",
   "execution_count": null,
   "metadata": {},
   "outputs": [],
   "source": [
    "bar_names = ['10%', '100%', '250', '100', 'cutoff time']\n",
    "bar_values = [default_duration, one_chunk_duration, two_fifty_per_chunk_duration, one_hundered_per_chunk_duration, cutoff_duration]\n",
    "p = figure(y_range=bar_names, x_axis_type='datetime', plot_width=400, plot_height=400)\n",
    "p.hbar(y=bar_names, height=0.5, left=0,\n",
    "       right=bar_values, color=\"navy\")\n",
    "\n",
    "show(p)"
   ]
  },
  {
   "cell_type": "markdown",
   "metadata": {},
   "source": [
    "#### Summary \n",
    "\n",
    "In review, featuretools uses a parameter `chunk_size` to divide up the instances when calculating features.  Creating chunks that have too little or too much calculation can slow down the calculations, so experimenting with different chunk sizes on a subset of the data before calculating on the entire can help find in finding a reasonable chunk size.   "
   ]
  }
 ],
 "metadata": {
  "kernelspec": {
   "display_name": "Python 2",
   "language": "python",
   "name": "python2"
  },
  "language_info": {
   "codemirror_mode": {
    "name": "ipython",
    "version": 2
   },
   "file_extension": ".py",
   "mimetype": "text/x-python",
   "name": "python",
   "nbconvert_exporter": "python",
   "pygments_lexer": "ipython2",
   "version": "2.7.12"
  }
 },
 "nbformat": 4,
 "nbformat_minor": 2
}
